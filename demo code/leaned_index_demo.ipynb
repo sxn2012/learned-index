{
  "nbformat": 4,
  "nbformat_minor": 0,
  "metadata": {
    "kernelspec": {
      "display_name": "Python 3",
      "language": "python",
      "name": "python3"
    },
    "language_info": {
      "codemirror_mode": {
        "name": "ipython",
        "version": 3
      },
      "file_extension": ".py",
      "mimetype": "text/x-python",
      "name": "python",
      "nbconvert_exporter": "python",
      "pygments_lexer": "ipython3",
      "version": "3.6.9"
    },
    "colab": {
      "name": "leaned_index_demo.ipynb",
      "provenance": [],
      "toc_visible": true
    },
    "accelerator": "GPU"
  },
  "cells": [
    {
      "cell_type": "markdown",
      "metadata": {
        "id": "73ylIDQEGaSw",
        "colab_type": "text"
      },
      "source": [
        "Author: Xinnan Shen<br>\n",
        "Date: 05-05-2020"
      ]
    },
    {
      "cell_type": "markdown",
      "metadata": {
        "id": "yUA4DjVxGaSy",
        "colab_type": "text"
      },
      "source": [
        "# Learned Index Model Simple Demo\n",
        "This notebook is to build some simple learned index models based on Kraska's paper."
      ]
    },
    {
      "cell_type": "markdown",
      "metadata": {
        "id": "U7WYY66UGaSy",
        "colab_type": "text"
      },
      "source": [
        "Step 1: Generate some simple dataset in csv format"
      ]
    },
    {
      "cell_type": "code",
      "metadata": {
        "id": "8zjIUXOmGaSz",
        "colab_type": "code",
        "colab": {}
      },
      "source": [
        "import os\n",
        "import codecs\n",
        "import random\n",
        "#function: data_generation\n",
        "#usage: generate a simple dataset\n",
        "#parameters:\n",
        "#1.len_num: the size of dataset\n",
        "#2.range_min: the minimum key\n",
        "#3.range_max: the maximun key\n",
        "#output dataset: two columns (key,location)\n",
        "def data_generation(len_num,range_min,range_max):\n",
        "\tdatalist=[]\n",
        "\tfor i in range(0,len_num):\n",
        "\t\tx=random.randint(range_min,range_max)\n",
        "\t\tdatalist.append(x)\n",
        "\tfor i in range(0,len(datalist)):\n",
        "\t\ttemp=False\n",
        "\t\tfor j in range(0,len(datalist)-i-1):\n",
        "\t\t\tif datalist[j]>datalist[j+1]:\n",
        "\t\t\t\tt=datalist[j]\n",
        "\t\t\t\tdatalist[j]=datalist[j+1]\n",
        "\t\t\t\tdatalist[j+1]=t\n",
        "\t\t\t\ttemp=True\n",
        "\t\tif not temp:\n",
        "\t\t\tbreak\n",
        "\tcurrent_path=os.path.abspath(os.curdir)\n",
        "\tf=codecs.open(os.path.join(current_path,\"data.csv\"), \"w\", \"utf-8\")\n",
        "\tfor i in range(0,len(datalist)):\n",
        "\t\tf.write(str(datalist[i])+\",\"+str(i)+\"\\n\")\n",
        "\tf.close()\n",
        "\treturn"
      ],
      "execution_count": 1,
      "outputs": []
    },
    {
      "cell_type": "markdown",
      "metadata": {
        "id": "VkEkbsymGaS3",
        "colab_type": "text"
      },
      "source": [
        "Provide some value and generate the dataset"
      ]
    },
    {
      "cell_type": "code",
      "metadata": {
        "id": "8SxNAc97GaS4",
        "colab_type": "code",
        "colab": {}
      },
      "source": [
        "minkey=1000\n",
        "maxkey=9999\n",
        "keynum=3000\n",
        "data_generation(3000,1000,9999)"
      ],
      "execution_count": 2,
      "outputs": []
    },
    {
      "cell_type": "markdown",
      "metadata": {
        "id": "_3quxojKGaS7",
        "colab_type": "text"
      },
      "source": [
        "Step 2: Split the dataset into training, development and testing dataset"
      ]
    },
    {
      "cell_type": "code",
      "metadata": {
        "id": "hZ_XekqEGaS7",
        "colab_type": "code",
        "colab": {
          "base_uri": "https://localhost:8080/",
          "height": 68
        },
        "outputId": "6cfdfdff-295a-4c1c-ecc2-531cab202f13"
      },
      "source": [
        "from random import shuffle\n",
        "import numpy as np\n",
        "from sklearn.model_selection import train_test_split\n",
        "current_path=os.path.abspath(os.curdir)\n",
        "f=codecs.open(os.path.join(current_path,\"data.csv\"), \"r\", \"utf-8\")\n",
        "strlist=f.read().split(\"\\n\")\n",
        "f.close()\n",
        "list_key=[]\n",
        "list_res=[]\n",
        "for ele in strlist:\n",
        "    temp=ele.split(\",\")\n",
        "    if len(temp)!=2:\n",
        "        continue\n",
        "    list_key.append(temp[0])\n",
        "    list_res.append(temp[1])\n",
        "keys=np.array(list_key)\n",
        "res=np.array(list_res)\n",
        "trainkeys,testkeys,trainres,testres=train_test_split(keys,res,test_size=0.35)\n",
        "trainkeys,devkeys,trainres,devres=train_test_split(trainkeys,trainres,test_size=0.5)\n",
        "trainkeys=list(trainkeys)\n",
        "devkeys=list(devkeys)\n",
        "testkeys=list(testkeys)\n",
        "trainres=list(trainres)\n",
        "devres=list(devres)\n",
        "testres=list(testres)\n",
        "\n",
        "f=codecs.open(os.path.join(current_path,\"data_train.csv\"), \"w\", \"utf-8\")\n",
        "for i in range(0,len(trainkeys)):\n",
        "    f.write(str(trainkeys[i])+\",\"+str(trainres[i])+\"\\n\")\n",
        "f.close()\n",
        "f=codecs.open(os.path.join(current_path,\"data_dev.csv\"), \"w\", \"utf-8\")\n",
        "for i in range(0,len(devkeys)):\n",
        "    f.write(str(devkeys[i])+\",\"+str(devres[i])+\"\\n\")\n",
        "f.close()\n",
        "f=codecs.open(os.path.join(current_path,\"data_test.csv\"), \"w\", \"utf-8\")\n",
        "for i in range(0,len(testkeys)):\n",
        "    f.write(str(testkeys[i])+\",\"+str(testres[i])+\"\\n\")\n",
        "f.close()\n",
        "print(\"training data size:\",len(trainkeys))\n",
        "print(\"development data size:\",len(devkeys))\n",
        "print(\"testing data size:\",len(testkeys))"
      ],
      "execution_count": 3,
      "outputs": [
        {
          "output_type": "stream",
          "text": [
            "training data size: 975\n",
            "development data size: 975\n",
            "testing data size: 1050\n"
          ],
          "name": "stdout"
        }
      ]
    },
    {
      "cell_type": "code",
      "metadata": {
        "id": "MsZ1CmSrGaS_",
        "colab_type": "code",
        "colab": {
          "base_uri": "https://localhost:8080/",
          "height": 68
        },
        "outputId": "8ce072c0-f582-4743-c874-7ca77103e93d"
      },
      "source": [
        "import codecs\n",
        "import os\n",
        "minkey=1000\n",
        "maxkey=9999\n",
        "keynum=3000\n",
        "current_path=os.path.abspath(os.curdir)\n",
        "f=codecs.open(os.path.join(current_path,\"data_train.csv\"), \"r\", \"utf-8\")\n",
        "strlist=f.read().split(\"\\n\")\n",
        "f.close()\n",
        "trainkeys=[]\n",
        "trainres=[]\n",
        "for ele in strlist:\n",
        "    temp=ele.split(\",\")\n",
        "    if len(temp)!=2:\n",
        "        continue\n",
        "    trainkeys.append(int(temp[0]))\n",
        "    trainres.append(int(temp[1]))\n",
        "f=codecs.open(os.path.join(current_path,\"data_dev.csv\"), \"r\", \"utf-8\")\n",
        "strlist=f.read().split(\"\\n\")\n",
        "f.close()\n",
        "devkeys=[]\n",
        "devres=[]\n",
        "for ele in strlist:\n",
        "    temp=ele.split(\",\")\n",
        "    if len(temp)!=2:\n",
        "        continue\n",
        "    devkeys.append(int(temp[0]))\n",
        "    devres.append(int(temp[1]))\n",
        "f=codecs.open(os.path.join(current_path,\"data_test.csv\"), \"r\", \"utf-8\")\n",
        "strlist=f.read().split(\"\\n\")\n",
        "f.close()\n",
        "testkeys=[]\n",
        "testres=[]\n",
        "for ele in strlist:\n",
        "    temp=ele.split(\",\")\n",
        "    if len(temp)!=2:\n",
        "        continue\n",
        "    testkeys.append(int(temp[0]))\n",
        "    testres.append(int(temp[1]))\n",
        "print(\"training data size:\",len(trainkeys))\n",
        "print(\"development data size:\",len(devkeys))\n",
        "print(\"testing data size:\",len(testkeys))"
      ],
      "execution_count": 4,
      "outputs": [
        {
          "output_type": "stream",
          "text": [
            "training data size: 975\n",
            "development data size: 975\n",
            "testing data size: 1050\n"
          ],
          "name": "stdout"
        }
      ]
    },
    {
      "cell_type": "markdown",
      "metadata": {
        "id": "SVqYt-9UGaTG",
        "colab_type": "text"
      },
      "source": [
        "Step 4: Build a Linear Regression Model"
      ]
    },
    {
      "cell_type": "code",
      "metadata": {
        "scrolled": true,
        "id": "EAADEODLGaTG",
        "colab_type": "code",
        "colab": {
          "base_uri": "https://localhost:8080/",
          "height": 85
        },
        "outputId": "b8adc308-86f0-466a-b3dc-3eb0f179bb62"
      },
      "source": [
        "from sklearn.linear_model import LinearRegression\n",
        "import numpy as np\n",
        "from sklearn.metrics import mean_squared_error \n",
        "import math\n",
        "import time\n",
        "print(\"Linear Regression Model\")\n",
        "t1=time.time()\n",
        "reg = LinearRegression()\n",
        "reg.fit(np.array(trainkeys).reshape(-1,1),np.array(trainres).reshape(-1,1))\n",
        "t2=time.time()\n",
        "time_interval=t2-t1\n",
        "print(\"time interval for building model:\"+str(time_interval*1000)+\" ms\")\n",
        "devpre=reg.predict(np.array(devkeys).reshape(-1,1)).reshape(1,-1).tolist()[0]\n",
        "for i in range(0,len(devpre)):\n",
        "    devpre[i]=abs(int(devpre[i]))%keynum\n",
        "mse_LR=mean_squared_error(devres,devpre)\n",
        "print(\"log MSE dev: \",round(math.log(mse_LR,2),3))\n",
        "t1=time.time()\n",
        "testpre=reg.predict(np.array(testkeys).reshape(-1,1)).reshape(1,-1).tolist()[0]\n",
        "for i in range(0,len(testpre)):\n",
        "    testpre[i]=abs(int(testpre[i]))%keynum\n",
        "t2=time.time()\n",
        "time_interval=t2-t1\n",
        "print(\"time interval for indexing data:\"+str(time_interval*1000)+\" ms\")\n",
        "# print(\"log MSE test: \",round(math.log(1+mean_squared_error(testres,testpre),2),3))"
      ],
      "execution_count": 6,
      "outputs": [
        {
          "output_type": "stream",
          "text": [
            "Linear Regression Model\n",
            "time interval for building model:1.7642974853515625 ms\n",
            "log MSE dev:  15.168\n",
            "time interval for indexing data:0.8897781372070312 ms\n"
          ],
          "name": "stdout"
        }
      ]
    },
    {
      "cell_type": "code",
      "metadata": {
        "id": "Q3gk0P5bIFD3",
        "colab_type": "code",
        "colab": {
          "base_uri": "https://localhost:8080/",
          "height": 312
        },
        "outputId": "811f416d-994f-42c4-f5c0-be9ece0e225d"
      },
      "source": [
        "import matplotlib.pyplot as plt\n",
        "x=np.array(trainkeys).reshape(-1,1)\n",
        "y=np.array(trainres).reshape(-1,1)\n",
        "x1=np.array([1000, 10000]).reshape(-1,1)\n",
        "y1=reg.predict(x1)\n",
        "plt.plot(x, y, 'r.',markersize =1)\n",
        "plt.title('linear regression')\n",
        "plt.xlabel('x')\n",
        "plt.ylabel('y')\n",
        "plt.axis([1000, 10000, 0, 3000])\n",
        "plt.grid(True)\n",
        "plt.plot(x1, y1,label = 'linear',lw=1)\n",
        "plt.legend()"
      ],
      "execution_count": 7,
      "outputs": [
        {
          "output_type": "execute_result",
          "data": {
            "text/plain": [
              "<matplotlib.legend.Legend at 0x7fcdbfab87f0>"
            ]
          },
          "metadata": {
            "tags": []
          },
          "execution_count": 7
        },
        {
          "output_type": "display_data",
          "data": {
            "image/png": "[encoded data removed]",
            "text/plain": [
              "<Figure size 432x288 with 1 Axes>"
            ]
          },
          "metadata": {
            "tags": [],
            "needs_background": "light"
          }
        }
      ]
    },
    {
      "cell_type": "code",
      "metadata": {
        "id": "PGcHS03rNIWU",
        "colab_type": "code",
        "colab": {
          "base_uri": "https://localhost:8080/",
          "height": 312
        },
        "outputId": "0c7c76e5-48c5-4917-deae-5377615a4344"
      },
      "source": [
        "import matplotlib.pyplot as plt\n",
        "x=np.array(devkeys).reshape(-1,1)\n",
        "y=np.array(devres).reshape(-1,1)\n",
        "x1=np.array([1000, 10000]).reshape(-1,1)\n",
        "y1=reg.predict(x1)\n",
        "plt.plot(x, y, 'r.',markersize =1)\n",
        "plt.title('linear regression')\n",
        "plt.xlabel('x')\n",
        "plt.ylabel('y')\n",
        "plt.axis([1000, 10000, 0, 3000])\n",
        "plt.grid(True)\n",
        "plt.plot(x1, y1,label = 'linear',lw=1)\n",
        "plt.legend()"
      ],
      "execution_count": 8,
      "outputs": [
        {
          "output_type": "execute_result",
          "data": {
            "text/plain": [
              "<matplotlib.legend.Legend at 0x7fcdbfa250b8>"
            ]
          },
          "metadata": {
            "tags": []
          },
          "execution_count": 8
        },
        {
          "output_type": "display_data",
          "data": {
            "image/png": "[encoded data removed]",
            "text/plain": [
              "<Figure size 432x288 with 1 Axes>"
            ]
          },
          "metadata": {
            "tags": [],
            "needs_background": "light"
          }
        }
      ]
    },
    {
      "cell_type": "markdown",
      "metadata": {
        "id": "uB6LCJ2-GaTK",
        "colab_type": "text"
      },
      "source": [
        "Step 5: Build a SVR model"
      ]
    },
    {
      "cell_type": "code",
      "metadata": {
        "id": "MKHYvl3PGaTL",
        "colab_type": "code",
        "colab": {}
      },
      "source": [
        "# from sklearn.svm import SVR\n",
        "# print(\"Support Vector Regression Model\")\n",
        "# clf_best=None\n",
        "# hp_best={}\n",
        "# best_mse=9999.99\n",
        "# for kernel_ in ['rbf', 'sigmoid']:\n",
        "#     for gamma_ in [1e-4, 1e-3, 0.01, 0.1, 0.2, 0.3, 0.4, 0.5, 0.6, 0.7, 0.8, 0.9, 1.0]:\n",
        "#         for C_ in [1, 3, 5, 10, 30, 50, 100, 300, 500, 1000, 3000, 5000, 10000, 30000, 50000]:\n",
        "#             clf = SVR(kernel=kernel_,gamma=gamma_,C=C_)\n",
        "#             clf.fit(np.array(trainkeys).reshape(-1,1),np.array(trainres).reshape(-1,1))\n",
        "#             devpre=clf.predict(np.array(devkeys).reshape(-1,1)).reshape(1,-1).tolist()[0]\n",
        "#             for i in range(0,len(devpre)):\n",
        "#                 devpre[i]=abs(int(devpre[i]))%keynum\n",
        "#             mse_SVR=mean_squared_error(devres,devpre)\n",
        "#             print(\"hyper-parameters: \",{'kernel':kernel_,'gamma':gamma_,'C':C_},\"log MSE: \",round(math.log(mse_SVR,2),3))\n",
        "#             if mse_SVR<best_mse:\n",
        "#                 best_mse=mse_SVR\n",
        "#                 hp_best={'kernel':kernel_,'gamma':gamma_,'C':C_}\n",
        "#                 clf_best=clf\n",
        "# print(\"hyper-parameters of best model:\",hp_best,\"log MSE: \",round(math.log(best_mse,2),3))"
      ],
      "execution_count": null,
      "outputs": []
    },
    {
      "cell_type": "markdown",
      "metadata": {
        "id": "qXQb3ILtC1Qu",
        "colab_type": "text"
      },
      "source": [
        "SVM: kernel=linear"
      ]
    },
    {
      "cell_type": "code",
      "metadata": {
        "id": "cAr2IsheC5cC",
        "colab_type": "code",
        "colab": {
          "base_uri": "https://localhost:8080/",
          "height": 139
        },
        "outputId": "5daa2b27-eb19-48e5-80e7-6464c38d2517"
      },
      "source": [
        "from sklearn.svm import SVR\n",
        "print(\"Support Vector Regression Model: kernel=linear\")\n",
        "t1=time.time()\n",
        "clf = SVR(kernel='linear')\n",
        "clf.fit(np.array(trainkeys).reshape(-1,1),np.array(trainres).reshape(-1,1))\n",
        "t2=time.time()\n",
        "time_interval_1=t2-t1\n",
        "print(\"time interval for building model:\"+str(time_interval_1*1000)+\" ms\")\n",
        "t1=time.time()\n",
        "devpre=clf.predict(np.array(devkeys).reshape(-1,1)).reshape(1,-1).tolist()[0]\n",
        "for i in range(0,len(devpre)):\n",
        "    devpre[i]=abs(int(devpre[i]))%keynum\n",
        "MSE_linear=round(math.log(1+mean_squared_error(devres,devpre),2),3)\n",
        "print(\"log MSE dev: \",MSE_linear)\n",
        "t2=time.time()\n",
        "time_interval_2=t2-t1\n",
        "print(\"time interval for indexing data:\"+str(time_interval_2*1000)+\" ms\")\n",
        "time_interval_linear=time_interval_1+time_interval_2"
      ],
      "execution_count": 9,
      "outputs": [
        {
          "output_type": "stream",
          "text": [
            "Support Vector Regression Model: kernel=linear\n"
          ],
          "name": "stdout"
        },
        {
          "output_type": "stream",
          "text": [
            "/usr/local/lib/python3.6/dist-packages/sklearn/utils/validation.py:760: DataConversionWarning: A column-vector y was passed when a 1d array was expected. Please change the shape of y to (n_samples, ), for example using ravel().\n",
            "  y = column_or_1d(y, warn=True)\n"
          ],
          "name": "stderr"
        },
        {
          "output_type": "stream",
          "text": [
            "time interval for building model:445215.42096138 ms\n",
            "log MSE dev:  15.167\n",
            "time interval for indexing data:7.879972457885742 ms\n"
          ],
          "name": "stdout"
        }
      ]
    },
    {
      "cell_type": "markdown",
      "metadata": {
        "id": "crLghamjET6n",
        "colab_type": "text"
      },
      "source": [
        "SVM: kernel=poly"
      ]
    },
    {
      "cell_type": "code",
      "metadata": {
        "id": "S2akiNryEXxc",
        "colab_type": "code",
        "colab": {
          "base_uri": "https://localhost:8080/",
          "height": 139
        },
        "outputId": "3c1b743f-dde1-4315-81ae-875eabcec6b5"
      },
      "source": [
        "from sklearn.svm import SVR\n",
        "print(\"Support Vector Regression Model: kernel=poly\")\n",
        "t1=time.time()\n",
        "clf = SVR(kernel='poly')\n",
        "clf.fit(np.array(trainkeys).reshape(-1,1),np.array(trainres).reshape(-1,1))\n",
        "t2=time.time()\n",
        "time_interval_1=t2-t1\n",
        "print(\"time interval for building model:\"+str(time_interval_1*1000)+\" ms\")\n",
        "devpre=clf.predict(np.array(devkeys).reshape(-1,1)).reshape(1,-1).tolist()[0]\n",
        "for i in range(0,len(devpre)):\n",
        "    devpre[i]=abs(int(devpre[i]))%keynum\n",
        "MSE_poly=round(math.log(1+mean_squared_error(devres,devpre),2),3)\n",
        "print(\"log MSE dev: \",MSE_poly)\n",
        "t1=time.time()\n",
        "testpre=clf.predict(np.array(testkeys).reshape(-1,1)).reshape(1,-1).tolist()[0]\n",
        "for i in range(0,len(testpre)):\n",
        "    testpre[i]=abs(int(testpre[i]))%keynum\n",
        "t2=time.time()\n",
        "time_interval_2=t2-t1\n",
        "print(\"time interval for indexing data:\"+str(time_interval_2*1000)+\" ms\")\n",
        "time_interval_poly=time_interval_1+time_interval_2"
      ],
      "execution_count": 10,
      "outputs": [
        {
          "output_type": "stream",
          "text": [
            "Support Vector Regression Model: kernel=poly\n",
            "time interval for building model:71.34890556335449 ms\n",
            "log MSE dev:  19.502\n",
            "time interval for indexing data:8.105278015136719 ms\n"
          ],
          "name": "stdout"
        },
        {
          "output_type": "stream",
          "text": [
            "/usr/local/lib/python3.6/dist-packages/sklearn/utils/validation.py:760: DataConversionWarning: A column-vector y was passed when a 1d array was expected. Please change the shape of y to (n_samples, ), for example using ravel().\n",
            "  y = column_or_1d(y, warn=True)\n"
          ],
          "name": "stderr"
        }
      ]
    },
    {
      "cell_type": "markdown",
      "metadata": {
        "id": "Hdx7q1zuCVk9",
        "colab_type": "text"
      },
      "source": [
        "SVM: kernel=rbf"
      ]
    },
    {
      "cell_type": "code",
      "metadata": {
        "id": "_aBcr46htBpH",
        "colab_type": "code",
        "colab": {
          "base_uri": "https://localhost:8080/",
          "height": 139
        },
        "outputId": "08a59571-88bc-40ea-ba61-acae40b5dbe4"
      },
      "source": [
        "from sklearn.svm import SVR\n",
        "print(\"Support Vector Regression Model: kernel=rbf\")\n",
        "t1=time.time()\n",
        "clf = SVR(kernel='rbf')\n",
        "clf.fit(np.array(trainkeys).reshape(-1,1),np.array(trainres).reshape(-1,1))\n",
        "t2=time.time()\n",
        "time_interval_1=t2-t1\n",
        "print(\"time interval for building model:\"+str(time_interval_1*1000)+\" ms\")\n",
        "devpre=clf.predict(np.array(devkeys).reshape(-1,1)).reshape(1,-1).tolist()[0]\n",
        "for i in range(0,len(devpre)):\n",
        "    devpre[i]=abs(int(devpre[i]))%keynum\n",
        "MSE_rbf=round(math.log(1+mean_squared_error(devres,devpre),2),3)\n",
        "print(\"log MSE dev: \",MSE_rbf)\n",
        "t1=time.time()\n",
        "testpre=clf.predict(np.array(testkeys).reshape(-1,1)).reshape(1,-1).tolist()[0]\n",
        "for i in range(0,len(testpre)):\n",
        "    testpre[i]=abs(int(testpre[i]))%keynum\n",
        "t2=time.time()\n",
        "time_interval_2=t2-t1\n",
        "print(\"time interval for indexing data:\"+str(time_interval_2*1000)+\" ms\")\n",
        "time_interval_rbf=time_interval_1+time_interval_2"
      ],
      "execution_count": 11,
      "outputs": [
        {
          "output_type": "stream",
          "text": [
            "Support Vector Regression Model: kernel=rbf\n",
            "time interval for building model:69.43130493164062 ms\n",
            "log MSE dev:  18.625\n",
            "time interval for indexing data:23.9717960357666 ms\n"
          ],
          "name": "stdout"
        },
        {
          "output_type": "stream",
          "text": [
            "/usr/local/lib/python3.6/dist-packages/sklearn/utils/validation.py:760: DataConversionWarning: A column-vector y was passed when a 1d array was expected. Please change the shape of y to (n_samples, ), for example using ravel().\n",
            "  y = column_or_1d(y, warn=True)\n"
          ],
          "name": "stderr"
        }
      ]
    },
    {
      "cell_type": "markdown",
      "metadata": {
        "id": "YrZK-nEfFO4K",
        "colab_type": "text"
      },
      "source": [
        "SVM: kernel=sigmoid"
      ]
    },
    {
      "cell_type": "code",
      "metadata": {
        "id": "2nS6tcUmGaTN",
        "colab_type": "code",
        "colab": {
          "base_uri": "https://localhost:8080/",
          "height": 139
        },
        "outputId": "0849c3f3-6328-451b-983f-b61e03120206"
      },
      "source": [
        "from sklearn.svm import SVR\n",
        "print(\"Support Vector Regression Model: kernel=sigmoid\")\n",
        "t1=time.time()\n",
        "clf = SVR(kernel='sigmoid')\n",
        "clf.fit(np.array(trainkeys).reshape(-1,1),np.array(trainres).reshape(-1,1))\n",
        "t2=time.time()\n",
        "time_interval_1=t2-t1\n",
        "print(\"time interval for building model:\"+str(time_interval_1*1000)+\" ms\")\n",
        "devpre=clf.predict(np.array(devkeys).reshape(-1,1)).reshape(1,-1).tolist()[0]\n",
        "for i in range(0,len(devpre)):\n",
        "    devpre[i]=abs(int(devpre[i]))%keynum\n",
        "MSE_sigmoid=round(math.log(1+mean_squared_error(devres,devpre),2),3)\n",
        "print(\"log MSE dev: \",MSE_sigmoid)\n",
        "t1=time.time()\n",
        "testpre=clf.predict(np.array(testkeys).reshape(-1,1)).reshape(1,-1).tolist()[0]\n",
        "for i in range(0,len(testpre)):\n",
        "    testpre[i]=abs(int(testpre[i]))%keynum\n",
        "t2=time.time()\n",
        "time_interval_2=t2-t1\n",
        "print(\"time interval for indexing data:\"+str(time_interval_2*1000)+\" ms\")\n",
        "time_interval_sigmoid=time_interval_1+time_interval_2"
      ],
      "execution_count": 12,
      "outputs": [
        {
          "output_type": "stream",
          "text": [
            "Support Vector Regression Model: kernel=sigmoid\n",
            "time interval for building model:73.42123985290527 ms\n",
            "log MSE dev:  19.732\n",
            "time interval for indexing data:40.550947189331055 ms\n"
          ],
          "name": "stdout"
        },
        {
          "output_type": "stream",
          "text": [
            "/usr/local/lib/python3.6/dist-packages/sklearn/utils/validation.py:760: DataConversionWarning: A column-vector y was passed when a 1d array was expected. Please change the shape of y to (n_samples, ), for example using ravel().\n",
            "  y = column_or_1d(y, warn=True)\n"
          ],
          "name": "stderr"
        }
      ]
    },
    {
      "cell_type": "code",
      "metadata": {
        "id": "vz8qV9OoST3v",
        "colab_type": "code",
        "colab": {
          "base_uri": "https://localhost:8080/",
          "height": 281
        },
        "outputId": "645f2a10-734a-4029-ffda-1edeb930bdee"
      },
      "source": [
        "import matplotlib.pyplot as plt\n",
        "kernels_list = ['linear','poly','rbf','sigmoid']\n",
        "MSE_list = [MSE_linear, MSE_poly, MSE_rbf, MSE_sigmoid]\n",
        "plt.title('SVM-MSE(log)')\n",
        "plt.bar(range(len(MSE_list)), MSE_list,color='b', tick_label=kernels_list)\n",
        "plt.show()"
      ],
      "execution_count": 13,
      "outputs": [
        {
          "output_type": "display_data",
          "data": {
            "image/png": "[encoded data removed]",
            "text/plain": [
              "<Figure size 432x288 with 1 Axes>"
            ]
          },
          "metadata": {
            "tags": [],
            "needs_background": "light"
          }
        }
      ]
    },
    {
      "cell_type": "code",
      "metadata": {
        "id": "IgM4WRkpVDf3",
        "colab_type": "code",
        "colab": {
          "base_uri": "https://localhost:8080/",
          "height": 281
        },
        "outputId": "719621f3-5c60-4c1f-91d4-ba13ec4072f9"
      },
      "source": [
        "import matplotlib.pyplot as plt\n",
        "kernels_list = ['linear','poly','rbf','sigmoid']\n",
        "time_interval_list = [time_interval_linear, time_interval_poly, time_interval_rbf, time_interval_sigmoid]\n",
        "plt.title('SVM-Time Complexity(ms)')\n",
        "plt.bar(range(len(time_interval_list)), time_interval_list,color='b', tick_label=kernels_list)\n",
        "plt.show()"
      ],
      "execution_count": 14,
      "outputs": [
        {
          "output_type": "display_data",
          "data": {
            "image/png": "[encoded data removed]",
            "text/plain": [
              "<Figure size 432x288 with 1 Axes>"
            ]
          },
          "metadata": {
            "tags": [],
            "needs_background": "light"
          }
        }
      ]
    }
  ]
}