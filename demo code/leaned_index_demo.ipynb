{
 "cells": [
  {
   "cell_type": "markdown",
   "metadata": {},
   "source": [
    "Author: Xinnan Shen<br>\n",
    "Date: 05-05-2020"
   ]
  },
  {
   "cell_type": "markdown",
   "metadata": {},
   "source": [
    "# Learned Index Model Simple Demo\n",
    "This notebook is to build some simple learned index models based on Kraska's paper."
   ]
  },
  {
   "cell_type": "markdown",
   "metadata": {},
   "source": [
    "Step 1: Generate some simple dataset in csv format"
   ]
  },
  {
   "cell_type": "code",
   "execution_count": 1,
   "metadata": {},
   "outputs": [],
   "source": [
    "import os\n",
    "import codecs\n",
    "import random\n",
    "#function: data_generation\n",
    "#usage: generate a simple dataset\n",
    "#parameters:\n",
    "#1.len_num: the size of dataset\n",
    "#2.range_min: the minimum key\n",
    "#3.range_max: the maximun key\n",
    "#output dataset: two columns (key,location)\n",
    "def data_generation(len_num,range_min,range_max):\n",
    "\tdatalist=[]\n",
    "\tfor i in range(0,len_num):\n",
    "\t\tx=random.randint(range_min,range_max)\n",
    "\t\tdatalist.append(x)\n",
    "\tfor i in range(0,len(datalist)):\n",
    "\t\ttemp=False\n",
    "\t\tfor j in range(0,len(datalist)-i-1):\n",
    "\t\t\tif datalist[j]>datalist[j+1]:\n",
    "\t\t\t\tt=datalist[j]\n",
    "\t\t\t\tdatalist[j]=datalist[j+1]\n",
    "\t\t\t\tdatalist[j+1]=t\n",
    "\t\t\t\ttemp=True\n",
    "\t\tif not temp:\n",
    "\t\t\tbreak\n",
    "\tcurrent_path=os.path.abspath(os.curdir)\n",
    "\tf=codecs.open(os.path.join(current_path,\"data.csv\"), \"w\", \"utf-8\")\n",
    "\tfor i in range(0,len(datalist)):\n",
    "\t\tf.write(str(datalist[i])+\",\"+str(i)+\"\\n\")\n",
    "\tf.close()\n",
    "\treturn"
   ]
  },
  {
   "cell_type": "markdown",
   "metadata": {},
   "source": [
    "Provide some value and generate the dataset"
   ]
  },
  {
   "cell_type": "code",
   "execution_count": 2,
   "metadata": {},
   "outputs": [],
   "source": [
    "minkey=1000\n",
    "maxkey=9999\n",
    "keynum=3000\n",
    "data_generation(3000,1000,9999)"
   ]
  },
  {
   "cell_type": "markdown",
   "metadata": {},
   "source": [
    "Step 2: Split the dataset into training, development and testing dataset"
   ]
  },
  {
   "cell_type": "code",
   "execution_count": 3,
   "metadata": {},
   "outputs": [
    {
     "name": "stdout",
     "output_type": "stream",
     "text": [
      "training data size: 975\n",
      "development data size: 975\n",
      "testing data size: 1050\n"
     ]
    }
   ],
   "source": [
    "from random import shuffle\n",
    "import numpy as np\n",
    "from sklearn.model_selection import train_test_split\n",
    "current_path=os.path.abspath(os.curdir)\n",
    "f=codecs.open(os.path.join(current_path,\"data.csv\"), \"r\", \"utf-8\")\n",
    "strlist=f.read().split(\"\\n\")\n",
    "f.close()\n",
    "list_key=[]\n",
    "list_res=[]\n",
    "for ele in strlist:\n",
    "    temp=ele.split(\",\")\n",
    "    if len(temp)!=2:\n",
    "        continue\n",
    "    list_key.append(temp[0])\n",
    "    list_res.append(temp[1])\n",
    "keys=np.array(list_key)\n",
    "res=np.array(list_res)\n",
    "trainkeys,testkeys,trainres,testres=train_test_split(keys,res,test_size=0.35)\n",
    "trainkeys,devkeys,trainres,devres=train_test_split(trainkeys,trainres,test_size=0.5)\n",
    "trainkeys=list(trainkeys)\n",
    "devkeys=list(devkeys)\n",
    "testkeys=list(testkeys)\n",
    "trainres=list(trainres)\n",
    "devres=list(devres)\n",
    "testres=list(testres)\n",
    "\n",
    "f=codecs.open(os.path.join(current_path,\"data_train.csv\"), \"w\", \"utf-8\")\n",
    "for i in range(0,len(trainkeys)):\n",
    "    f.write(str(trainkeys[i])+\",\"+str(trainres[i])+\"\\n\")\n",
    "f.close()\n",
    "f=codecs.open(os.path.join(current_path,\"data_dev.csv\"), \"w\", \"utf-8\")\n",
    "for i in range(0,len(devkeys)):\n",
    "    f.write(str(devkeys[i])+\",\"+str(devres[i])+\"\\n\")\n",
    "f.close()\n",
    "f=codecs.open(os.path.join(current_path,\"data_test.csv\"), \"w\", \"utf-8\")\n",
    "for i in range(0,len(testkeys)):\n",
    "    f.write(str(testkeys[i])+\",\"+str(testres[i])+\"\\n\")\n",
    "f.close()\n",
    "print(\"training data size:\",len(trainkeys))\n",
    "print(\"development data size:\",len(devkeys))\n",
    "print(\"testing data size:\",len(testkeys))"
   ]
  },
  {
   "cell_type": "code",
   "execution_count": 4,
   "metadata": {},
   "outputs": [
    {
     "name": "stdout",
     "output_type": "stream",
     "text": [
      "training data size: 975\n",
      "development data size: 975\n",
      "testing data size: 1050\n"
     ]
    }
   ],
   "source": [
    "import codecs\n",
    "import os\n",
    "minkey=1000\n",
    "maxkey=9999\n",
    "keynum=3000\n",
    "current_path=os.path.abspath(os.curdir)\n",
    "f=codecs.open(os.path.join(current_path,\"data_train.csv\"), \"r\", \"utf-8\")\n",
    "strlist=f.read().split(\"\\n\")\n",
    "f.close()\n",
    "trainkeys=[]\n",
    "trainres=[]\n",
    "for ele in strlist:\n",
    "    temp=ele.split(\",\")\n",
    "    if len(temp)!=2:\n",
    "        continue\n",
    "    trainkeys.append(int(temp[0]))\n",
    "    trainres.append(int(temp[1]))\n",
    "f=codecs.open(os.path.join(current_path,\"data_dev.csv\"), \"r\", \"utf-8\")\n",
    "strlist=f.read().split(\"\\n\")\n",
    "f.close()\n",
    "devkeys=[]\n",
    "devres=[]\n",
    "for ele in strlist:\n",
    "    temp=ele.split(\",\")\n",
    "    if len(temp)!=2:\n",
    "        continue\n",
    "    devkeys.append(int(temp[0]))\n",
    "    devres.append(int(temp[1]))\n",
    "f=codecs.open(os.path.join(current_path,\"data_test.csv\"), \"r\", \"utf-8\")\n",
    "strlist=f.read().split(\"\\n\")\n",
    "f.close()\n",
    "testkeys=[]\n",
    "testres=[]\n",
    "for ele in strlist:\n",
    "    temp=ele.split(\",\")\n",
    "    if len(temp)!=2:\n",
    "        continue\n",
    "    testkeys.append(int(temp[0]))\n",
    "    testres.append(int(temp[1]))\n",
    "print(\"training data size:\",len(trainkeys))\n",
    "print(\"development data size:\",len(devkeys))\n",
    "print(\"testing data size:\",len(testkeys))"
   ]
  },
  {
   "cell_type": "markdown",
   "metadata": {},
   "source": [
    "Step 3: Building a simple B-Tree model"
   ]
  },
  {
   "cell_type": "code",
   "execution_count": 9,
   "metadata": {},
   "outputs": [
    {
     "name": "stdout",
     "output_type": "stream",
     "text": [
      "Simple B-Tree Model\n",
      "log MSE dev:  2.72\n",
      "log MSE test:  2.867\n"
     ]
    }
   ],
   "source": [
    "#This is a B-Tree model\n",
    "#reference: https://www.jianshu.com/p/c625a009e488\n",
    "from random import shuffle\n",
    "import random\n",
    "import os\n",
    "import codecs\n",
    "import numpy as np\n",
    "import math\n",
    "from sklearn.model_selection import train_test_split\n",
    "from sklearn.metrics import mean_squared_error \n",
    "mse_BTree=0.0\n",
    "root_node = None\n",
    "trainkeys=[]\n",
    "trainres=[]\n",
    "devkeys=[]\n",
    "devres=[]\n",
    "testkeys=[]\n",
    "testres=[]\n",
    "class Logger(object):\n",
    "    @classmethod\n",
    "    def tree(cls, node, child_name, dsc, depth):\n",
    "        if depth == 0:\n",
    "            head = \"|   \" * depth\n",
    "            print(head + \"+--\" + dsc(node))\n",
    "            depth = depth + 1\n",
    "        for child in getattr(node, child_name):\n",
    "            head = \"|   \" * depth\n",
    "            print(head + \"+--\" + dsc(child))\n",
    "            cls.tree(child, child_name, dsc, depth + 1)\n",
    "class BKeyword(object):\n",
    "    def __init__(self, key, loc):\n",
    "        self.key = key\n",
    "        self.loc = loc\n",
    "class BNode(object):\n",
    "    def __init__(self,M):\n",
    "        self._parent: BNode = None\n",
    "        self.keywords = []\n",
    "        self.child_nodes = []\n",
    "        self.M=M\n",
    "    # set parent node\n",
    "    def set_parent(self, node):\n",
    "        self._parent = node\n",
    "        if node.get_parent() is None:\n",
    "            global root_node\n",
    "            root_node = node.get_parent()\n",
    "    # get parent node\n",
    "    def get_parent(self):\n",
    "        return self._parent\n",
    "    # add child node to right location\n",
    "    def insert_child_node(self, index, add_node):\n",
    "        add_node.set_parent(self)\n",
    "        self.child_nodes.insert(index, add_node)\n",
    "    # add child node\n",
    "    def append_child_node(self, add_node):\n",
    "        add_node.set_parent(self)\n",
    "        self.child_nodes.append(add_node)\n",
    "    # find right insertion location\n",
    "    def find_add_index(self, add_word):\n",
    "        if len(self.keywords) == 0:\n",
    "            return 0\n",
    "        index = 0\n",
    "        while True:\n",
    "            if index >= len(self.keywords):\n",
    "                break\n",
    "            key = self.keywords[index].key\n",
    "            if add_word.key < key:\n",
    "                break\n",
    "            index = index + 1\n",
    "        return index\n",
    "\t#find the location of given keyword\n",
    "    def find_loc(self,word):\n",
    "        if len(self.keywords) == 0:\n",
    "            return -1\n",
    "        index = 0\n",
    "        key=-1\n",
    "        while True:\n",
    "            if index >= len(self.keywords):\n",
    "                break\n",
    "            key = self.keywords[index].key\n",
    "            if word < key:\n",
    "                break\n",
    "            index = index + 1\n",
    "        if index==0:\n",
    "            index=1\n",
    "        index=index-1\n",
    "        #print(index)\n",
    "        if index+1>=len(self.keywords):\n",
    "            return int(self.keywords[index].loc)\n",
    "        if self.keywords[index].key==word or abs(int(word)-int(self.keywords[index].key))<abs(int(word)-int(self.keywords[index+1].key)):\n",
    "            return int(self.keywords[index].loc)\n",
    "        else:\n",
    "            return int(self.keywords[index+1].loc)\n",
    "    # insert data to right location (regardless of M)\n",
    "    def blind_add(self, word: BKeyword) -> int:\n",
    "        index = self.find_add_index(word)\n",
    "        self.keywords.insert(index, word)\n",
    "    def split(self):\n",
    "        # split node\n",
    "        parent, center_keyword, left_node, right_node = self.split_to_piece()\n",
    "        # add two new nodes as parent, build relationship\n",
    "        parent_add_index = parent.find_add_index(center_keyword)\n",
    "        parent.insert_child_node(parent_add_index, right_node)\n",
    "        parent.insert_child_node(parent_add_index, left_node)\n",
    "        # remove itself\n",
    "        if self in parent.child_nodes:\n",
    "            parent.child_nodes.remove(self)\n",
    "        parent.add_word(center_keyword, force=True)\n",
    "        # redefine root\n",
    "        root = self\n",
    "        while root.get_parent() is not None:\n",
    "            root = root.get_parent()\n",
    "        global root_node\n",
    "        root_node = root\n",
    "    def split_to_piece(self):\n",
    "        center_keyword = self.keywords[int((self.M-1)/2)]\n",
    "        if self.get_parent() is None:\n",
    "            self.set_parent(BNode(self.M))\n",
    "        left_node = BNode(self.M)\n",
    "        right_node = BNode(self.M)\n",
    "        for keyword in self.keywords:\n",
    "            if keyword.key < center_keyword.key:\n",
    "                left_node.keywords.append(keyword)\n",
    "            elif keyword.key > center_keyword.key:\n",
    "                right_node.keywords.append(keyword)\n",
    "        for i in range(len(self.child_nodes)):\n",
    "            if i <= int((len(self.child_nodes) - 1)/2):\n",
    "                left_node.append_child_node(self.child_nodes[i])\n",
    "            else:\n",
    "                right_node.append_child_node(self.child_nodes[i])\n",
    "        return self.get_parent(), center_keyword, left_node, right_node\n",
    "    def add_word(self, keyword, force=False):\n",
    "        if len(self.child_nodes) == 0 or force:\n",
    "            self.blind_add(keyword)\n",
    "            if len(self.keywords) == self.M:\n",
    "                self.split()\n",
    "        else:\n",
    "\n",
    "            index = self.find_add_index(keyword)\n",
    "            if index >= len(self.child_nodes):\n",
    "                index = index - 1\n",
    "            self.child_nodes[index].add_word(keyword)\n",
    "def B_Tree_Model():\n",
    "    print(\"Simple B-Tree Model\")\n",
    "    root_node=BNode(4)\n",
    "    for i in range(0,len(trainkeys)):\n",
    "        keyword=BKeyword(trainkeys[i],trainres[i])\n",
    "        root_node.add_word(keyword)\n",
    "    devpre=[]\n",
    "    for i in range(0,len(devkeys)):\n",
    "        devpre.append(root_node.find_loc(devkeys[i]))\n",
    "    global mse_BTree\n",
    "    mse_BTree=mean_squared_error(devres,devpre)\n",
    "    print(\"log MSE dev: \",round(math.log(1+mse_BTree,2),3))\n",
    "    testpre=[]\n",
    "    for i in range(0,len(testkeys)):\n",
    "        testpre.append(root_node.find_loc(testkeys[i]))\n",
    "    print(\"log MSE test: \",round(math.log(1+mean_squared_error(testres,testpre),2),3))\n",
    "    return\n",
    "if __name__ == '__main__':\n",
    "    f=codecs.open(os.path.join(current_path,\"data_train.csv\"), \"r\", \"utf-8\")\n",
    "    strlist=f.read().split(\"\\n\")\n",
    "    f.close()\n",
    "    trainkeys=[]\n",
    "    trainres=[]\n",
    "    for ele in strlist:\n",
    "        temp=ele.split(\",\")\n",
    "        if len(temp)!=2:\n",
    "            continue\n",
    "        trainkeys.append(int(temp[0]))\n",
    "        trainres.append(int(temp[1]))\n",
    "    f=codecs.open(os.path.join(current_path,\"data_dev.csv\"), \"r\", \"utf-8\")\n",
    "    strlist=f.read().split(\"\\n\")\n",
    "    f.close()\n",
    "    devkeys=[]\n",
    "    devres=[]\n",
    "    for ele in strlist:\n",
    "        temp=ele.split(\",\")\n",
    "        if len(temp)!=2:\n",
    "            continue\n",
    "        devkeys.append(int(temp[0]))\n",
    "        devres.append(int(temp[1]))\n",
    "    f=codecs.open(os.path.join(current_path,\"data_test.csv\"), \"r\", \"utf-8\")\n",
    "    strlist=f.read().split(\"\\n\")\n",
    "    f.close()\n",
    "    testkeys=[]\n",
    "    testres=[]\n",
    "    for ele in strlist:\n",
    "        temp=ele.split(\",\")\n",
    "        if len(temp)!=2:\n",
    "            continue\n",
    "        testkeys.append(int(temp[0]))\n",
    "        testres.append(int(temp[1]))\n",
    "    B_Tree_Model()"
   ]
  },
  {
   "cell_type": "markdown",
   "metadata": {},
   "source": [
    "Step 4: Build a Linear Regression Model"
   ]
  },
  {
   "cell_type": "code",
   "execution_count": 10,
   "metadata": {
    "scrolled": true
   },
   "outputs": [
    {
     "name": "stdout",
     "output_type": "stream",
     "text": [
      "Linear Regression Model\n",
      "log MSE dev:  15.747\n",
      "log MSE test:  14.078\n"
     ]
    }
   ],
   "source": [
    "from sklearn.linear_model import LinearRegression\n",
    "import numpy as np\n",
    "from sklearn.metrics import mean_squared_error \n",
    "import math\n",
    "print(\"Linear Regression Model\")\n",
    "reg = LinearRegression()\n",
    "reg.fit(np.array(trainkeys).reshape(-1,1),np.array(trainres).reshape(-1,1))\n",
    "devpre=reg.predict(np.array(devkeys).reshape(-1,1)).reshape(1,-1).tolist()[0]\n",
    "for i in range(0,len(devpre)):\n",
    "    devpre[i]=abs(int(devpre[i]))%keynum\n",
    "mse_LR=mean_squared_error(devres,devpre)\n",
    "print(\"log MSE dev: \",round(math.log(mse_LR,2),3))\n",
    "testpre=reg.predict(np.array(testkeys).reshape(-1,1)).reshape(1,-1).tolist()[0]\n",
    "for i in range(0,len(testpre)):\n",
    "    testpre[i]=abs(int(testpre[i]))%keynum\n",
    "print(\"log MSE test: \",round(math.log(1+mean_squared_error(testres,testpre),2),3))"
   ]
  },
  {
   "cell_type": "markdown",
   "metadata": {},
   "source": [
    "Step 5: Build a SVR model"
   ]
  },
  {
   "cell_type": "code",
   "execution_count": null,
   "metadata": {},
   "outputs": [
    {
     "name": "stdout",
     "output_type": "stream",
     "text": [
      "Support Vector Regression Model\n",
      "hyper-parameters:  {'kernel': 'rbf', 'gamma': 0.0001, 'C': 1} log MSE:  19.467\n",
      "hyper-parameters:  {'kernel': 'rbf', 'gamma': 0.0001, 'C': 3} log MSE:  19.353\n"
     ]
    },
    {
     "name": "stderr",
     "output_type": "stream",
     "text": [
      "/home/sxn/.local/lib/python3.6/site-packages/sklearn/utils/validation.py:760: DataConversionWarning: A column-vector y was passed when a 1d array was expected. Please change the shape of y to (n_samples, ), for example using ravel().\n",
      "  y = column_or_1d(y, warn=True)\n",
      "/home/sxn/.local/lib/python3.6/site-packages/sklearn/utils/validation.py:760: DataConversionWarning: A column-vector y was passed when a 1d array was expected. Please change the shape of y to (n_samples, ), for example using ravel().\n",
      "  y = column_or_1d(y, warn=True)\n",
      "/home/sxn/.local/lib/python3.6/site-packages/sklearn/utils/validation.py:760: DataConversionWarning: A column-vector y was passed when a 1d array was expected. Please change the shape of y to (n_samples, ), for example using ravel().\n",
      "  y = column_or_1d(y, warn=True)\n"
     ]
    },
    {
     "name": "stdout",
     "output_type": "stream",
     "text": [
      "hyper-parameters:  {'kernel': 'rbf', 'gamma': 0.0001, 'C': 5} log MSE:  19.236\n",
      "hyper-parameters:  {'kernel': 'rbf', 'gamma': 0.0001, 'C': 10} log MSE:  18.928\n",
      "hyper-parameters:  {'kernel': 'rbf', 'gamma': 0.0001, 'C': 30} log MSE:  17.482\n"
     ]
    },
    {
     "name": "stderr",
     "output_type": "stream",
     "text": [
      "/home/sxn/.local/lib/python3.6/site-packages/sklearn/utils/validation.py:760: DataConversionWarning: A column-vector y was passed when a 1d array was expected. Please change the shape of y to (n_samples, ), for example using ravel().\n",
      "  y = column_or_1d(y, warn=True)\n",
      "/home/sxn/.local/lib/python3.6/site-packages/sklearn/utils/validation.py:760: DataConversionWarning: A column-vector y was passed when a 1d array was expected. Please change the shape of y to (n_samples, ), for example using ravel().\n",
      "  y = column_or_1d(y, warn=True)\n",
      "/home/sxn/.local/lib/python3.6/site-packages/sklearn/utils/validation.py:760: DataConversionWarning: A column-vector y was passed when a 1d array was expected. Please change the shape of y to (n_samples, ), for example using ravel().\n",
      "  y = column_or_1d(y, warn=True)\n"
     ]
    },
    {
     "name": "stdout",
     "output_type": "stream",
     "text": [
      "hyper-parameters:  {'kernel': 'rbf', 'gamma': 0.0001, 'C': 50} log MSE:  15.694\n"
     ]
    },
    {
     "name": "stderr",
     "output_type": "stream",
     "text": [
      "/home/sxn/.local/lib/python3.6/site-packages/sklearn/utils/validation.py:760: DataConversionWarning: A column-vector y was passed when a 1d array was expected. Please change the shape of y to (n_samples, ), for example using ravel().\n",
      "  y = column_or_1d(y, warn=True)\n"
     ]
    },
    {
     "name": "stdout",
     "output_type": "stream",
     "text": [
      "hyper-parameters:  {'kernel': 'rbf', 'gamma': 0.0001, 'C': 100} log MSE:  11.35\n"
     ]
    },
    {
     "name": "stderr",
     "output_type": "stream",
     "text": [
      "/home/sxn/.local/lib/python3.6/site-packages/sklearn/utils/validation.py:760: DataConversionWarning: A column-vector y was passed when a 1d array was expected. Please change the shape of y to (n_samples, ), for example using ravel().\n",
      "  y = column_or_1d(y, warn=True)\n"
     ]
    },
    {
     "name": "stdout",
     "output_type": "stream",
     "text": [
      "hyper-parameters:  {'kernel': 'rbf', 'gamma': 0.0001, 'C': 300} log MSE:  6.876\n"
     ]
    },
    {
     "name": "stderr",
     "output_type": "stream",
     "text": [
      "/home/sxn/.local/lib/python3.6/site-packages/sklearn/utils/validation.py:760: DataConversionWarning: A column-vector y was passed when a 1d array was expected. Please change the shape of y to (n_samples, ), for example using ravel().\n",
      "  y = column_or_1d(y, warn=True)\n"
     ]
    },
    {
     "name": "stdout",
     "output_type": "stream",
     "text": [
      "hyper-parameters:  {'kernel': 'rbf', 'gamma': 0.0001, 'C': 500} log MSE:  4.772\n"
     ]
    },
    {
     "name": "stderr",
     "output_type": "stream",
     "text": [
      "/home/sxn/.local/lib/python3.6/site-packages/sklearn/utils/validation.py:760: DataConversionWarning: A column-vector y was passed when a 1d array was expected. Please change the shape of y to (n_samples, ), for example using ravel().\n",
      "  y = column_or_1d(y, warn=True)\n"
     ]
    },
    {
     "name": "stdout",
     "output_type": "stream",
     "text": [
      "hyper-parameters:  {'kernel': 'rbf', 'gamma': 0.0001, 'C': 1000} log MSE:  3.644\n"
     ]
    },
    {
     "name": "stderr",
     "output_type": "stream",
     "text": [
      "/home/sxn/.local/lib/python3.6/site-packages/sklearn/utils/validation.py:760: DataConversionWarning: A column-vector y was passed when a 1d array was expected. Please change the shape of y to (n_samples, ), for example using ravel().\n",
      "  y = column_or_1d(y, warn=True)\n"
     ]
    },
    {
     "name": "stdout",
     "output_type": "stream",
     "text": [
      "hyper-parameters:  {'kernel': 'rbf', 'gamma': 0.0001, 'C': 3000} log MSE:  15.162\n"
     ]
    },
    {
     "name": "stderr",
     "output_type": "stream",
     "text": [
      "/home/sxn/.local/lib/python3.6/site-packages/sklearn/utils/validation.py:760: DataConversionWarning: A column-vector y was passed when a 1d array was expected. Please change the shape of y to (n_samples, ), for example using ravel().\n",
      "  y = column_or_1d(y, warn=True)\n"
     ]
    },
    {
     "name": "stdout",
     "output_type": "stream",
     "text": [
      "hyper-parameters:  {'kernel': 'rbf', 'gamma': 0.0001, 'C': 5000} log MSE:  14.751\n"
     ]
    },
    {
     "name": "stderr",
     "output_type": "stream",
     "text": [
      "/home/sxn/.local/lib/python3.6/site-packages/sklearn/utils/validation.py:760: DataConversionWarning: A column-vector y was passed when a 1d array was expected. Please change the shape of y to (n_samples, ), for example using ravel().\n",
      "  y = column_or_1d(y, warn=True)\n"
     ]
    },
    {
     "name": "stdout",
     "output_type": "stream",
     "text": [
      "hyper-parameters:  {'kernel': 'rbf', 'gamma': 0.0001, 'C': 10000} log MSE:  1.372\n"
     ]
    },
    {
     "name": "stderr",
     "output_type": "stream",
     "text": [
      "/home/sxn/.local/lib/python3.6/site-packages/sklearn/utils/validation.py:760: DataConversionWarning: A column-vector y was passed when a 1d array was expected. Please change the shape of y to (n_samples, ), for example using ravel().\n",
      "  y = column_or_1d(y, warn=True)\n"
     ]
    },
    {
     "name": "stdout",
     "output_type": "stream",
     "text": [
      "hyper-parameters:  {'kernel': 'rbf', 'gamma': 0.0001, 'C': 30000} log MSE:  1.277\n"
     ]
    },
    {
     "name": "stderr",
     "output_type": "stream",
     "text": [
      "/home/sxn/.local/lib/python3.6/site-packages/sklearn/utils/validation.py:760: DataConversionWarning: A column-vector y was passed when a 1d array was expected. Please change the shape of y to (n_samples, ), for example using ravel().\n",
      "  y = column_or_1d(y, warn=True)\n"
     ]
    },
    {
     "name": "stdout",
     "output_type": "stream",
     "text": [
      "hyper-parameters:  {'kernel': 'rbf', 'gamma': 0.0001, 'C': 50000} log MSE:  1.288\n",
      "hyper-parameters:  {'kernel': 'rbf', 'gamma': 0.001, 'C': 1} log MSE:  19.506\n",
      "hyper-parameters:  {'kernel': 'rbf', 'gamma': 0.001, 'C': 3} log MSE:  19.47\n"
     ]
    },
    {
     "name": "stderr",
     "output_type": "stream",
     "text": [
      "/home/sxn/.local/lib/python3.6/site-packages/sklearn/utils/validation.py:760: DataConversionWarning: A column-vector y was passed when a 1d array was expected. Please change the shape of y to (n_samples, ), for example using ravel().\n",
      "  y = column_or_1d(y, warn=True)\n",
      "/home/sxn/.local/lib/python3.6/site-packages/sklearn/utils/validation.py:760: DataConversionWarning: A column-vector y was passed when a 1d array was expected. Please change the shape of y to (n_samples, ), for example using ravel().\n",
      "  y = column_or_1d(y, warn=True)\n",
      "/home/sxn/.local/lib/python3.6/site-packages/sklearn/utils/validation.py:760: DataConversionWarning: A column-vector y was passed when a 1d array was expected. Please change the shape of y to (n_samples, ), for example using ravel().\n",
      "  y = column_or_1d(y, warn=True)\n"
     ]
    },
    {
     "name": "stdout",
     "output_type": "stream",
     "text": [
      "hyper-parameters:  {'kernel': 'rbf', 'gamma': 0.001, 'C': 5} log MSE:  19.434\n",
      "hyper-parameters:  {'kernel': 'rbf', 'gamma': 0.001, 'C': 10} log MSE:  19.343\n",
      "hyper-parameters:  {'kernel': 'rbf', 'gamma': 0.001, 'C': 30} log MSE:  18.962\n"
     ]
    },
    {
     "name": "stderr",
     "output_type": "stream",
     "text": [
      "/home/sxn/.local/lib/python3.6/site-packages/sklearn/utils/validation.py:760: DataConversionWarning: A column-vector y was passed when a 1d array was expected. Please change the shape of y to (n_samples, ), for example using ravel().\n",
      "  y = column_or_1d(y, warn=True)\n",
      "/home/sxn/.local/lib/python3.6/site-packages/sklearn/utils/validation.py:760: DataConversionWarning: A column-vector y was passed when a 1d array was expected. Please change the shape of y to (n_samples, ), for example using ravel().\n",
      "  y = column_or_1d(y, warn=True)\n",
      "/home/sxn/.local/lib/python3.6/site-packages/sklearn/utils/validation.py:760: DataConversionWarning: A column-vector y was passed when a 1d array was expected. Please change the shape of y to (n_samples, ), for example using ravel().\n",
      "  y = column_or_1d(y, warn=True)\n"
     ]
    },
    {
     "name": "stdout",
     "output_type": "stream",
     "text": [
      "hyper-parameters:  {'kernel': 'rbf', 'gamma': 0.001, 'C': 50} log MSE:  18.552\n",
      "hyper-parameters:  {'kernel': 'rbf', 'gamma': 0.001, 'C': 100} log MSE:  17.446\n"
     ]
    },
    {
     "name": "stderr",
     "output_type": "stream",
     "text": [
      "/home/sxn/.local/lib/python3.6/site-packages/sklearn/utils/validation.py:760: DataConversionWarning: A column-vector y was passed when a 1d array was expected. Please change the shape of y to (n_samples, ), for example using ravel().\n",
      "  y = column_or_1d(y, warn=True)\n",
      "/home/sxn/.local/lib/python3.6/site-packages/sklearn/utils/validation.py:760: DataConversionWarning: A column-vector y was passed when a 1d array was expected. Please change the shape of y to (n_samples, ), for example using ravel().\n",
      "  y = column_or_1d(y, warn=True)\n"
     ]
    },
    {
     "name": "stdout",
     "output_type": "stream",
     "text": [
      "hyper-parameters:  {'kernel': 'rbf', 'gamma': 0.001, 'C': 300} log MSE:  13.411\n"
     ]
    },
    {
     "name": "stderr",
     "output_type": "stream",
     "text": [
      "/home/sxn/.local/lib/python3.6/site-packages/sklearn/utils/validation.py:760: DataConversionWarning: A column-vector y was passed when a 1d array was expected. Please change the shape of y to (n_samples, ), for example using ravel().\n",
      "  y = column_or_1d(y, warn=True)\n"
     ]
    },
    {
     "name": "stdout",
     "output_type": "stream",
     "text": [
      "hyper-parameters:  {'kernel': 'rbf', 'gamma': 0.001, 'C': 500} log MSE:  10.796\n"
     ]
    },
    {
     "name": "stderr",
     "output_type": "stream",
     "text": [
      "/home/sxn/.local/lib/python3.6/site-packages/sklearn/utils/validation.py:760: DataConversionWarning: A column-vector y was passed when a 1d array was expected. Please change the shape of y to (n_samples, ), for example using ravel().\n",
      "  y = column_or_1d(y, warn=True)\n"
     ]
    },
    {
     "name": "stdout",
     "output_type": "stream",
     "text": [
      "hyper-parameters:  {'kernel': 'rbf', 'gamma': 0.001, 'C': 1000} log MSE:  15.473\n"
     ]
    },
    {
     "name": "stderr",
     "output_type": "stream",
     "text": [
      "/home/sxn/.local/lib/python3.6/site-packages/sklearn/utils/validation.py:760: DataConversionWarning: A column-vector y was passed when a 1d array was expected. Please change the shape of y to (n_samples, ), for example using ravel().\n",
      "  y = column_or_1d(y, warn=True)\n"
     ]
    },
    {
     "name": "stdout",
     "output_type": "stream",
     "text": [
      "hyper-parameters:  {'kernel': 'rbf', 'gamma': 0.001, 'C': 3000} log MSE:  15.469\n"
     ]
    },
    {
     "name": "stderr",
     "output_type": "stream",
     "text": [
      "/home/sxn/.local/lib/python3.6/site-packages/sklearn/utils/validation.py:760: DataConversionWarning: A column-vector y was passed when a 1d array was expected. Please change the shape of y to (n_samples, ), for example using ravel().\n",
      "  y = column_or_1d(y, warn=True)\n"
     ]
    },
    {
     "name": "stdout",
     "output_type": "stream",
     "text": [
      "hyper-parameters:  {'kernel': 'rbf', 'gamma': 0.001, 'C': 5000} log MSE:  15.469\n"
     ]
    },
    {
     "name": "stderr",
     "output_type": "stream",
     "text": [
      "/home/sxn/.local/lib/python3.6/site-packages/sklearn/utils/validation.py:760: DataConversionWarning: A column-vector y was passed when a 1d array was expected. Please change the shape of y to (n_samples, ), for example using ravel().\n",
      "  y = column_or_1d(y, warn=True)\n"
     ]
    },
    {
     "name": "stdout",
     "output_type": "stream",
     "text": [
      "hyper-parameters:  {'kernel': 'rbf', 'gamma': 0.001, 'C': 10000} log MSE:  15.47\n"
     ]
    },
    {
     "name": "stderr",
     "output_type": "stream",
     "text": [
      "/home/sxn/.local/lib/python3.6/site-packages/sklearn/utils/validation.py:760: DataConversionWarning: A column-vector y was passed when a 1d array was expected. Please change the shape of y to (n_samples, ), for example using ravel().\n",
      "  y = column_or_1d(y, warn=True)\n"
     ]
    },
    {
     "name": "stdout",
     "output_type": "stream",
     "text": [
      "hyper-parameters:  {'kernel': 'rbf', 'gamma': 0.001, 'C': 30000} log MSE:  15.479\n"
     ]
    },
    {
     "name": "stderr",
     "output_type": "stream",
     "text": [
      "/home/sxn/.local/lib/python3.6/site-packages/sklearn/utils/validation.py:760: DataConversionWarning: A column-vector y was passed when a 1d array was expected. Please change the shape of y to (n_samples, ), for example using ravel().\n",
      "  y = column_or_1d(y, warn=True)\n"
     ]
    }
   ],
   "source": [
    "from sklearn.svm import SVR\n",
    "print(\"Support Vector Regression Model\")\n",
    "clf_best=None\n",
    "hp_best={}\n",
    "best_mse=9999.99\n",
    "for kernel_ in ['rbf', 'sigmoid']:\n",
    "    for gamma_ in [1e-4, 1e-3, 0.01, 0.1, 0.2, 0.3, 0.4, 0.5, 0.6, 0.7, 0.8, 0.9, 1.0]:\n",
    "        for C_ in [1, 3, 5, 10, 30, 50, 100, 300, 500, 1000, 3000, 5000, 10000, 30000, 50000]:\n",
    "            clf = SVR(kernel=kernel_,gamma=gamma_,C=C_)\n",
    "            clf.fit(np.array(trainkeys).reshape(-1,1),np.array(trainres).reshape(-1,1))\n",
    "            devpre=clf.predict(np.array(devkeys).reshape(-1,1)).reshape(1,-1).tolist()[0]\n",
    "            for i in range(0,len(devpre)):\n",
    "                devpre[i]=abs(int(devpre[i]))%keynum\n",
    "            mse_SVR=mean_squared_error(devres,devpre)\n",
    "            print(\"hyper-parameters: \",{'kernel':kernel_,'gamma':gamma_,'C':C_},\"log MSE: \",round(math.log(mse_SVR,2),3))\n",
    "            if mse_SVR<best_mse:\n",
    "                best_mse=mse_SVR\n",
    "                hp_best={'kernel':kernel_,'gamma':gamma_,'C':C_}\n",
    "                clf_best=clf\n",
    "print(\"hyper-parameters of best model:\",hp_best,\"log MSE: \",round(math.log(best_mse,2),3))"
   ]
  },
  {
   "cell_type": "code",
   "execution_count": null,
   "metadata": {},
   "outputs": [],
   "source": []
  }
 ],
 "metadata": {
  "kernelspec": {
   "display_name": "Python 3",
   "language": "python",
   "name": "python3"
  },
  "language_info": {
   "codemirror_mode": {
    "name": "ipython",
    "version": 3
   },
   "file_extension": ".py",
   "mimetype": "text/x-python",
   "name": "python",
   "nbconvert_exporter": "python",
   "pygments_lexer": "ipython3",
   "version": "3.6.9"
  }
 },
 "nbformat": 4,
 "nbformat_minor": 4
}
