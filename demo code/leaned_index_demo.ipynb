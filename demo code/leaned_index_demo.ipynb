{
  "nbformat": 4,
  "nbformat_minor": 0,
  "metadata": {
    "kernelspec": {
      "display_name": "Python 3",
      "language": "python",
      "name": "python3"
    },
    "language_info": {
      "codemirror_mode": {
        "name": "ipython",
        "version": 3
      },
      "file_extension": ".py",
      "mimetype": "text/x-python",
      "name": "python",
      "nbconvert_exporter": "python",
      "pygments_lexer": "ipython3",
      "version": "3.6.9"
    },
    "colab": {
      "name": "leaned_index_demo.ipynb",
      "provenance": [],
      "toc_visible": true
    },
    "accelerator": "GPU"
  },
  "cells": [
    {
      "cell_type": "markdown",
      "metadata": {
        "id": "73ylIDQEGaSw",
        "colab_type": "text"
      },
      "source": [
        "Author: Xinnan Shen<br>\n",
        "Date: 05-05-2020"
      ]
    },
    {
      "cell_type": "markdown",
      "metadata": {
        "id": "yUA4DjVxGaSy",
        "colab_type": "text"
      },
      "source": [
        "# Learned Index Model Simple Demo\n",
        "This notebook is to build some simple learned index models based on Kraska's paper."
      ]
    },
    {
      "cell_type": "markdown",
      "metadata": {
        "id": "U7WYY66UGaSy",
        "colab_type": "text"
      },
      "source": [
        "Step 1: Generate some simple dataset in csv format"
      ]
    },
    {
      "cell_type": "code",
      "metadata": {
        "id": "8zjIUXOmGaSz",
        "colab_type": "code",
        "colab": {}
      },
      "source": [
        "import os\n",
        "import codecs\n",
        "import random\n",
        "#function: data_generation\n",
        "#usage: generate a simple dataset\n",
        "#parameters:\n",
        "#1.len_num: the size of dataset\n",
        "#2.range_min: the minimum key\n",
        "#3.range_max: the maximun key\n",
        "#output dataset: two columns (key,location)\n",
        "def data_generation(len_num,range_min,range_max):\n",
        "\tdatalist=[]\n",
        "\tfor i in range(0,len_num):\n",
        "\t\tx=random.randint(range_min,range_max)\n",
        "\t\tdatalist.append(x)\n",
        "\tfor i in range(0,len(datalist)):\n",
        "\t\ttemp=False\n",
        "\t\tfor j in range(0,len(datalist)-i-1):\n",
        "\t\t\tif datalist[j]>datalist[j+1]:\n",
        "\t\t\t\tt=datalist[j]\n",
        "\t\t\t\tdatalist[j]=datalist[j+1]\n",
        "\t\t\t\tdatalist[j+1]=t\n",
        "\t\t\t\ttemp=True\n",
        "\t\tif not temp:\n",
        "\t\t\tbreak\n",
        "\tcurrent_path=os.path.abspath(os.curdir)\n",
        "\tf=codecs.open(os.path.join(current_path,\"data.csv\"), \"w\", \"utf-8\")\n",
        "\tfor i in range(0,len(datalist)):\n",
        "\t\tf.write(str(datalist[i])+\",\"+str(i)+\"\\n\")\n",
        "\tf.close()\n",
        "\treturn"
      ],
      "execution_count": 0,
      "outputs": []
    },
    {
      "cell_type": "markdown",
      "metadata": {
        "id": "VkEkbsymGaS3",
        "colab_type": "text"
      },
      "source": [
        "Provide some value and generate the dataset"
      ]
    },
    {
      "cell_type": "code",
      "metadata": {
        "id": "8SxNAc97GaS4",
        "colab_type": "code",
        "colab": {}
      },
      "source": [
        "minkey=1000\n",
        "maxkey=9999\n",
        "keynum=3000\n",
        "data_generation(3000,1000,9999)"
      ],
      "execution_count": 0,
      "outputs": []
    },
    {
      "cell_type": "markdown",
      "metadata": {
        "id": "_3quxojKGaS7",
        "colab_type": "text"
      },
      "source": [
        "Step 2: Split the dataset into training, development and testing dataset"
      ]
    },
    {
      "cell_type": "code",
      "metadata": {
        "id": "hZ_XekqEGaS7",
        "colab_type": "code",
        "colab": {
          "base_uri": "https://localhost:8080/",
          "height": 68
        },
        "outputId": "46f37290-6965-4315-9880-484575173525"
      },
      "source": [
        "from random import shuffle\n",
        "import numpy as np\n",
        "from sklearn.model_selection import train_test_split\n",
        "current_path=os.path.abspath(os.curdir)\n",
        "f=codecs.open(os.path.join(current_path,\"data.csv\"), \"r\", \"utf-8\")\n",
        "strlist=f.read().split(\"\\n\")\n",
        "f.close()\n",
        "list_key=[]\n",
        "list_res=[]\n",
        "for ele in strlist:\n",
        "    temp=ele.split(\",\")\n",
        "    if len(temp)!=2:\n",
        "        continue\n",
        "    list_key.append(temp[0])\n",
        "    list_res.append(temp[1])\n",
        "keys=np.array(list_key)\n",
        "res=np.array(list_res)\n",
        "trainkeys,testkeys,trainres,testres=train_test_split(keys,res,test_size=0.35)\n",
        "trainkeys,devkeys,trainres,devres=train_test_split(trainkeys,trainres,test_size=0.5)\n",
        "trainkeys=list(trainkeys)\n",
        "devkeys=list(devkeys)\n",
        "testkeys=list(testkeys)\n",
        "trainres=list(trainres)\n",
        "devres=list(devres)\n",
        "testres=list(testres)\n",
        "\n",
        "f=codecs.open(os.path.join(current_path,\"data_train.csv\"), \"w\", \"utf-8\")\n",
        "for i in range(0,len(trainkeys)):\n",
        "    f.write(str(trainkeys[i])+\",\"+str(trainres[i])+\"\\n\")\n",
        "f.close()\n",
        "f=codecs.open(os.path.join(current_path,\"data_dev.csv\"), \"w\", \"utf-8\")\n",
        "for i in range(0,len(devkeys)):\n",
        "    f.write(str(devkeys[i])+\",\"+str(devres[i])+\"\\n\")\n",
        "f.close()\n",
        "f=codecs.open(os.path.join(current_path,\"data_test.csv\"), \"w\", \"utf-8\")\n",
        "for i in range(0,len(testkeys)):\n",
        "    f.write(str(testkeys[i])+\",\"+str(testres[i])+\"\\n\")\n",
        "f.close()\n",
        "print(\"training data size:\",len(trainkeys))\n",
        "print(\"development data size:\",len(devkeys))\n",
        "print(\"testing data size:\",len(testkeys))"
      ],
      "execution_count": 4,
      "outputs": [
        {
          "output_type": "stream",
          "text": [
            "training data size: 975\n",
            "development data size: 975\n",
            "testing data size: 1050\n"
          ],
          "name": "stdout"
        }
      ]
    },
    {
      "cell_type": "code",
      "metadata": {
        "id": "MsZ1CmSrGaS_",
        "colab_type": "code",
        "colab": {
          "base_uri": "https://localhost:8080/",
          "height": 68
        },
        "outputId": "c75fa801-5830-4dbf-b86f-6062958e42f0"
      },
      "source": [
        "import codecs\n",
        "import os\n",
        "minkey=1000\n",
        "maxkey=9999\n",
        "keynum=3000\n",
        "current_path=os.path.abspath(os.curdir)\n",
        "f=codecs.open(os.path.join(current_path,\"data_train.csv\"), \"r\", \"utf-8\")\n",
        "strlist=f.read().split(\"\\n\")\n",
        "f.close()\n",
        "trainkeys=[]\n",
        "trainres=[]\n",
        "for ele in strlist:\n",
        "    temp=ele.split(\",\")\n",
        "    if len(temp)!=2:\n",
        "        continue\n",
        "    trainkeys.append(int(temp[0]))\n",
        "    trainres.append(int(temp[1]))\n",
        "f=codecs.open(os.path.join(current_path,\"data_dev.csv\"), \"r\", \"utf-8\")\n",
        "strlist=f.read().split(\"\\n\")\n",
        "f.close()\n",
        "devkeys=[]\n",
        "devres=[]\n",
        "for ele in strlist:\n",
        "    temp=ele.split(\",\")\n",
        "    if len(temp)!=2:\n",
        "        continue\n",
        "    devkeys.append(int(temp[0]))\n",
        "    devres.append(int(temp[1]))\n",
        "f=codecs.open(os.path.join(current_path,\"data_test.csv\"), \"r\", \"utf-8\")\n",
        "strlist=f.read().split(\"\\n\")\n",
        "f.close()\n",
        "testkeys=[]\n",
        "testres=[]\n",
        "for ele in strlist:\n",
        "    temp=ele.split(\",\")\n",
        "    if len(temp)!=2:\n",
        "        continue\n",
        "    testkeys.append(int(temp[0]))\n",
        "    testres.append(int(temp[1]))\n",
        "print(\"training data size:\",len(trainkeys))\n",
        "print(\"development data size:\",len(devkeys))\n",
        "print(\"testing data size:\",len(testkeys))"
      ],
      "execution_count": 5,
      "outputs": [
        {
          "output_type": "stream",
          "text": [
            "training data size: 975\n",
            "development data size: 975\n",
            "testing data size: 1050\n"
          ],
          "name": "stdout"
        }
      ]
    },
    {
      "cell_type": "markdown",
      "metadata": {
        "id": "dUq0HflEGaTC",
        "colab_type": "text"
      },
      "source": [
        "Step 3: Building a simple B-Tree model"
      ]
    },
    {
      "cell_type": "code",
      "metadata": {
        "id": "xdnGuEF0GaTD",
        "colab_type": "code",
        "colab": {
          "base_uri": "https://localhost:8080/",
          "height": 68
        },
        "outputId": "02beafc5-3fbf-4037-d924-463e9f836f02"
      },
      "source": [
        "#This is a B-Tree model\n",
        "#reference: https://www.jianshu.com/p/c625a009e488\n",
        "from random import shuffle\n",
        "import random\n",
        "import os\n",
        "import codecs\n",
        "import numpy as np\n",
        "import math\n",
        "from sklearn.model_selection import train_test_split\n",
        "from sklearn.metrics import mean_squared_error \n",
        "mse_BTree=0.0\n",
        "root_node = None\n",
        "trainkeys=[]\n",
        "trainres=[]\n",
        "devkeys=[]\n",
        "devres=[]\n",
        "testkeys=[]\n",
        "testres=[]\n",
        "class Logger(object):\n",
        "    @classmethod\n",
        "    def tree(cls, node, child_name, dsc, depth):\n",
        "        if depth == 0:\n",
        "            head = \"|   \" * depth\n",
        "            print(head + \"+--\" + dsc(node))\n",
        "            depth = depth + 1\n",
        "        for child in getattr(node, child_name):\n",
        "            head = \"|   \" * depth\n",
        "            print(head + \"+--\" + dsc(child))\n",
        "            cls.tree(child, child_name, dsc, depth + 1)\n",
        "class BKeyword(object):\n",
        "    def __init__(self, key, loc):\n",
        "        self.key = key\n",
        "        self.loc = loc\n",
        "class BNode(object):\n",
        "    def __init__(self,M):\n",
        "        self._parent: BNode = None\n",
        "        self.keywords = []\n",
        "        self.child_nodes = []\n",
        "        self.M=M\n",
        "    # set parent node\n",
        "    def set_parent(self, node):\n",
        "        self._parent = node\n",
        "        if node.get_parent() is None:\n",
        "            global root_node\n",
        "            root_node = node.get_parent()\n",
        "    # get parent node\n",
        "    def get_parent(self):\n",
        "        return self._parent\n",
        "    # add child node to right location\n",
        "    def insert_child_node(self, index, add_node):\n",
        "        add_node.set_parent(self)\n",
        "        self.child_nodes.insert(index, add_node)\n",
        "    # add child node\n",
        "    def append_child_node(self, add_node):\n",
        "        add_node.set_parent(self)\n",
        "        self.child_nodes.append(add_node)\n",
        "    # find right insertion location\n",
        "    def find_add_index(self, add_word):\n",
        "        if len(self.keywords) == 0:\n",
        "            return 0\n",
        "        index = 0\n",
        "        while True:\n",
        "            if index >= len(self.keywords):\n",
        "                break\n",
        "            key = self.keywords[index].key\n",
        "            if add_word.key < key:\n",
        "                break\n",
        "            index = index + 1\n",
        "        return index\n",
        "\t#find the location of given keyword\n",
        "    def find_loc(self,word):\n",
        "        if len(self.keywords) == 0:\n",
        "            return -1\n",
        "        index = 0\n",
        "        key=-1\n",
        "        while True:\n",
        "            if index >= len(self.keywords):\n",
        "                break\n",
        "            key = self.keywords[index].key\n",
        "            if word < key:\n",
        "                break\n",
        "            index = index + 1\n",
        "        if index==0:\n",
        "            index=1\n",
        "        index=index-1\n",
        "        #print(index)\n",
        "        if index+1>=len(self.keywords):\n",
        "            return int(self.keywords[index].loc)\n",
        "        if self.keywords[index].key==word or abs(int(word)-int(self.keywords[index].key))<abs(int(word)-int(self.keywords[index+1].key)):\n",
        "            return int(self.keywords[index].loc)\n",
        "        else:\n",
        "            return int(self.keywords[index+1].loc)\n",
        "    # insert data to right location (regardless of M)\n",
        "    def blind_add(self, word: BKeyword) -> int:\n",
        "        index = self.find_add_index(word)\n",
        "        self.keywords.insert(index, word)\n",
        "    def split(self):\n",
        "        # split node\n",
        "        parent, center_keyword, left_node, right_node = self.split_to_piece()\n",
        "        # add two new nodes as parent, build relationship\n",
        "        parent_add_index = parent.find_add_index(center_keyword)\n",
        "        parent.insert_child_node(parent_add_index, right_node)\n",
        "        parent.insert_child_node(parent_add_index, left_node)\n",
        "        # remove itself\n",
        "        if self in parent.child_nodes:\n",
        "            parent.child_nodes.remove(self)\n",
        "        parent.add_word(center_keyword, force=True)\n",
        "        # redefine root\n",
        "        root = self\n",
        "        while root.get_parent() is not None:\n",
        "            root = root.get_parent()\n",
        "        global root_node\n",
        "        root_node = root\n",
        "    def split_to_piece(self):\n",
        "        center_keyword = self.keywords[int((self.M-1)/2)]\n",
        "        if self.get_parent() is None:\n",
        "            self.set_parent(BNode(self.M))\n",
        "        left_node = BNode(self.M)\n",
        "        right_node = BNode(self.M)\n",
        "        for keyword in self.keywords:\n",
        "            if keyword.key < center_keyword.key:\n",
        "                left_node.keywords.append(keyword)\n",
        "            elif keyword.key > center_keyword.key:\n",
        "                right_node.keywords.append(keyword)\n",
        "        for i in range(len(self.child_nodes)):\n",
        "            if i <= int((len(self.child_nodes) - 1)/2):\n",
        "                left_node.append_child_node(self.child_nodes[i])\n",
        "            else:\n",
        "                right_node.append_child_node(self.child_nodes[i])\n",
        "        return self.get_parent(), center_keyword, left_node, right_node\n",
        "    def add_word(self, keyword, force=False):\n",
        "        if len(self.child_nodes) == 0 or force:\n",
        "            self.blind_add(keyword)\n",
        "            if len(self.keywords) == self.M:\n",
        "                self.split()\n",
        "        else:\n",
        "\n",
        "            index = self.find_add_index(keyword)\n",
        "            if index >= len(self.child_nodes):\n",
        "                index = index - 1\n",
        "            self.child_nodes[index].add_word(keyword)\n",
        "def B_Tree_Model():\n",
        "    print(\"Simple B-Tree Model\")\n",
        "    root_node=BNode(4)\n",
        "    for i in range(0,len(trainkeys)):\n",
        "        keyword=BKeyword(trainkeys[i],trainres[i])\n",
        "        root_node.add_word(keyword)\n",
        "    devpre=[]\n",
        "    for i in range(0,len(devkeys)):\n",
        "        devpre.append(root_node.find_loc(devkeys[i]))\n",
        "    global mse_BTree\n",
        "    mse_BTree=mean_squared_error(devres,devpre)\n",
        "    print(\"log MSE dev: \",round(math.log(1+mse_BTree,2),3))\n",
        "    testpre=[]\n",
        "    for i in range(0,len(testkeys)):\n",
        "        testpre.append(root_node.find_loc(testkeys[i]))\n",
        "    print(\"log MSE test: \",round(math.log(1+mean_squared_error(testres,testpre),2),3))\n",
        "    return\n",
        "if __name__ == '__main__':\n",
        "    f=codecs.open(os.path.join(current_path,\"data_train.csv\"), \"r\", \"utf-8\")\n",
        "    strlist=f.read().split(\"\\n\")\n",
        "    f.close()\n",
        "    trainkeys=[]\n",
        "    trainres=[]\n",
        "    for ele in strlist:\n",
        "        temp=ele.split(\",\")\n",
        "        if len(temp)!=2:\n",
        "            continue\n",
        "        trainkeys.append(int(temp[0]))\n",
        "        trainres.append(int(temp[1]))\n",
        "    f=codecs.open(os.path.join(current_path,\"data_dev.csv\"), \"r\", \"utf-8\")\n",
        "    strlist=f.read().split(\"\\n\")\n",
        "    f.close()\n",
        "    devkeys=[]\n",
        "    devres=[]\n",
        "    for ele in strlist:\n",
        "        temp=ele.split(\",\")\n",
        "        if len(temp)!=2:\n",
        "            continue\n",
        "        devkeys.append(int(temp[0]))\n",
        "        devres.append(int(temp[1]))\n",
        "    f=codecs.open(os.path.join(current_path,\"data_test.csv\"), \"r\", \"utf-8\")\n",
        "    strlist=f.read().split(\"\\n\")\n",
        "    f.close()\n",
        "    testkeys=[]\n",
        "    testres=[]\n",
        "    for ele in strlist:\n",
        "        temp=ele.split(\",\")\n",
        "        if len(temp)!=2:\n",
        "            continue\n",
        "        testkeys.append(int(temp[0]))\n",
        "        testres.append(int(temp[1]))\n",
        "    B_Tree_Model()"
      ],
      "execution_count": 6,
      "outputs": [
        {
          "output_type": "stream",
          "text": [
            "Simple B-Tree Model\n",
            "log MSE dev:  2.866\n",
            "log MSE test:  2.812\n"
          ],
          "name": "stdout"
        }
      ]
    },
    {
      "cell_type": "markdown",
      "metadata": {
        "id": "SVqYt-9UGaTG",
        "colab_type": "text"
      },
      "source": [
        "Step 4: Build a Linear Regression Model"
      ]
    },
    {
      "cell_type": "code",
      "metadata": {
        "scrolled": true,
        "id": "EAADEODLGaTG",
        "colab_type": "code",
        "colab": {
          "base_uri": "https://localhost:8080/",
          "height": 68
        },
        "outputId": "c086ba54-dc3f-4f75-83cb-7f87ea59376c"
      },
      "source": [
        "from sklearn.linear_model import LinearRegression\n",
        "import numpy as np\n",
        "from sklearn.metrics import mean_squared_error \n",
        "import math\n",
        "print(\"Linear Regression Model\")\n",
        "reg = LinearRegression()\n",
        "reg.fit(np.array(trainkeys).reshape(-1,1),np.array(trainres).reshape(-1,1))\n",
        "devpre=reg.predict(np.array(devkeys).reshape(-1,1)).reshape(1,-1).tolist()[0]\n",
        "for i in range(0,len(devpre)):\n",
        "    devpre[i]=abs(int(devpre[i]))%keynum\n",
        "mse_LR=mean_squared_error(devres,devpre)\n",
        "print(\"log MSE dev: \",round(math.log(mse_LR,2),3))\n",
        "testpre=reg.predict(np.array(testkeys).reshape(-1,1)).reshape(1,-1).tolist()[0]\n",
        "for i in range(0,len(testpre)):\n",
        "    testpre[i]=abs(int(testpre[i]))%keynum\n",
        "print(\"log MSE test: \",round(math.log(1+mean_squared_error(testres,testpre),2),3))"
      ],
      "execution_count": 7,
      "outputs": [
        {
          "output_type": "stream",
          "text": [
            "Linear Regression Model\n",
            "log MSE dev:  6.281\n",
            "log MSE test:  6.256\n"
          ],
          "name": "stdout"
        }
      ]
    },
    {
      "cell_type": "markdown",
      "metadata": {
        "id": "uB6LCJ2-GaTK",
        "colab_type": "text"
      },
      "source": [
        "Step 5: Build a SVR model"
      ]
    },
    {
      "cell_type": "code",
      "metadata": {
        "id": "MKHYvl3PGaTL",
        "colab_type": "code",
        "colab": {
          "base_uri": "https://localhost:8080/",
          "height": 1000
        },
        "outputId": "0bf5182c-9994-4b45-9c93-ab1ddf2ba27d"
      },
      "source": [
        "from sklearn.svm import SVR\n",
        "print(\"Support Vector Regression Model\")\n",
        "clf_best=None\n",
        "hp_best={}\n",
        "best_mse=9999.99\n",
        "for kernel_ in ['rbf', 'sigmoid']:\n",
        "    for gamma_ in [1e-4, 1e-3, 0.01, 0.1, 0.2, 0.3, 0.4, 0.5, 0.6, 0.7, 0.8, 0.9, 1.0]:\n",
        "        for C_ in [1, 3, 5, 10, 30, 50, 100, 300, 500, 1000, 3000, 5000, 10000, 30000, 50000]:\n",
        "            clf = SVR(kernel=kernel_,gamma=gamma_,C=C_)\n",
        "            clf.fit(np.array(trainkeys).reshape(-1,1),np.array(trainres).reshape(-1,1))\n",
        "            devpre=clf.predict(np.array(devkeys).reshape(-1,1)).reshape(1,-1).tolist()[0]\n",
        "            for i in range(0,len(devpre)):\n",
        "                devpre[i]=abs(int(devpre[i]))%keynum\n",
        "            mse_SVR=mean_squared_error(devres,devpre)\n",
        "            print(\"hyper-parameters: \",{'kernel':kernel_,'gamma':gamma_,'C':C_},\"log MSE: \",round(math.log(mse_SVR,2),3))\n",
        "            if mse_SVR<best_mse:\n",
        "                best_mse=mse_SVR\n",
        "                hp_best={'kernel':kernel_,'gamma':gamma_,'C':C_}\n",
        "                clf_best=clf\n",
        "print(\"hyper-parameters of best model:\",hp_best,\"log MSE: \",round(math.log(best_mse,2),3))"
      ],
      "execution_count": 8,
      "outputs": [
        {
          "output_type": "stream",
          "text": [
            "Support Vector Regression Model\n",
            "hyper-parameters:  {'kernel': 'rbf', 'gamma': 0.0001, 'C': 1} log MSE:  19.484\n",
            "hyper-parameters:  {'kernel': 'rbf', 'gamma': 0.0001, 'C': 3} log MSE:  19.375\n"
          ],
          "name": "stdout"
        },
        {
          "output_type": "stream",
          "text": [
            "/usr/local/lib/python3.6/dist-packages/sklearn/utils/validation.py:760: DataConversionWarning: A column-vector y was passed when a 1d array was expected. Please change the shape of y to (n_samples, ), for example using ravel().\n",
            "  y = column_or_1d(y, warn=True)\n",
            "/usr/local/lib/python3.6/dist-packages/sklearn/utils/validation.py:760: DataConversionWarning: A column-vector y was passed when a 1d array was expected. Please change the shape of y to (n_samples, ), for example using ravel().\n",
            "  y = column_or_1d(y, warn=True)\n",
            "/usr/local/lib/python3.6/dist-packages/sklearn/utils/validation.py:760: DataConversionWarning: A column-vector y was passed when a 1d array was expected. Please change the shape of y to (n_samples, ), for example using ravel().\n",
            "  y = column_or_1d(y, warn=True)\n"
          ],
          "name": "stderr"
        },
        {
          "output_type": "stream",
          "text": [
            "hyper-parameters:  {'kernel': 'rbf', 'gamma': 0.0001, 'C': 5} log MSE:  19.257\n",
            "hyper-parameters:  {'kernel': 'rbf', 'gamma': 0.0001, 'C': 10} log MSE:  18.958\n"
          ],
          "name": "stdout"
        },
        {
          "output_type": "stream",
          "text": [
            "/usr/local/lib/python3.6/dist-packages/sklearn/utils/validation.py:760: DataConversionWarning: A column-vector y was passed when a 1d array was expected. Please change the shape of y to (n_samples, ), for example using ravel().\n",
            "  y = column_or_1d(y, warn=True)\n",
            "/usr/local/lib/python3.6/dist-packages/sklearn/utils/validation.py:760: DataConversionWarning: A column-vector y was passed when a 1d array was expected. Please change the shape of y to (n_samples, ), for example using ravel().\n",
            "  y = column_or_1d(y, warn=True)\n"
          ],
          "name": "stderr"
        },
        {
          "output_type": "stream",
          "text": [
            "hyper-parameters:  {'kernel': 'rbf', 'gamma': 0.0001, 'C': 30} log MSE:  17.531\n",
            "hyper-parameters:  {'kernel': 'rbf', 'gamma': 0.0001, 'C': 50} log MSE:  15.619\n"
          ],
          "name": "stdout"
        },
        {
          "output_type": "stream",
          "text": [
            "/usr/local/lib/python3.6/dist-packages/sklearn/utils/validation.py:760: DataConversionWarning: A column-vector y was passed when a 1d array was expected. Please change the shape of y to (n_samples, ), for example using ravel().\n",
            "  y = column_or_1d(y, warn=True)\n",
            "/usr/local/lib/python3.6/dist-packages/sklearn/utils/validation.py:760: DataConversionWarning: A column-vector y was passed when a 1d array was expected. Please change the shape of y to (n_samples, ), for example using ravel().\n",
            "  y = column_or_1d(y, warn=True)\n"
          ],
          "name": "stderr"
        },
        {
          "output_type": "stream",
          "text": [
            "hyper-parameters:  {'kernel': 'rbf', 'gamma': 0.0001, 'C': 100} log MSE:  12.254\n"
          ],
          "name": "stdout"
        },
        {
          "output_type": "stream",
          "text": [
            "/usr/local/lib/python3.6/dist-packages/sklearn/utils/validation.py:760: DataConversionWarning: A column-vector y was passed when a 1d array was expected. Please change the shape of y to (n_samples, ), for example using ravel().\n",
            "  y = column_or_1d(y, warn=True)\n"
          ],
          "name": "stderr"
        },
        {
          "output_type": "stream",
          "text": [
            "hyper-parameters:  {'kernel': 'rbf', 'gamma': 0.0001, 'C': 300} log MSE:  7.981\n"
          ],
          "name": "stdout"
        },
        {
          "output_type": "stream",
          "text": [
            "/usr/local/lib/python3.6/dist-packages/sklearn/utils/validation.py:760: DataConversionWarning: A column-vector y was passed when a 1d array was expected. Please change the shape of y to (n_samples, ), for example using ravel().\n",
            "  y = column_or_1d(y, warn=True)\n"
          ],
          "name": "stderr"
        },
        {
          "output_type": "stream",
          "text": [
            "hyper-parameters:  {'kernel': 'rbf', 'gamma': 0.0001, 'C': 500} log MSE:  6.264\n"
          ],
          "name": "stdout"
        },
        {
          "output_type": "stream",
          "text": [
            "/usr/local/lib/python3.6/dist-packages/sklearn/utils/validation.py:760: DataConversionWarning: A column-vector y was passed when a 1d array was expected. Please change the shape of y to (n_samples, ), for example using ravel().\n",
            "  y = column_or_1d(y, warn=True)\n"
          ],
          "name": "stderr"
        },
        {
          "output_type": "stream",
          "text": [
            "hyper-parameters:  {'kernel': 'rbf', 'gamma': 0.0001, 'C': 1000} log MSE:  3.388\n"
          ],
          "name": "stdout"
        },
        {
          "output_type": "stream",
          "text": [
            "/usr/local/lib/python3.6/dist-packages/sklearn/utils/validation.py:760: DataConversionWarning: A column-vector y was passed when a 1d array was expected. Please change the shape of y to (n_samples, ), for example using ravel().\n",
            "  y = column_or_1d(y, warn=True)\n"
          ],
          "name": "stderr"
        },
        {
          "output_type": "stream",
          "text": [
            "hyper-parameters:  {'kernel': 'rbf', 'gamma': 0.0001, 'C': 3000} log MSE:  1.747\n"
          ],
          "name": "stdout"
        },
        {
          "output_type": "stream",
          "text": [
            "/usr/local/lib/python3.6/dist-packages/sklearn/utils/validation.py:760: DataConversionWarning: A column-vector y was passed when a 1d array was expected. Please change the shape of y to (n_samples, ), for example using ravel().\n",
            "  y = column_or_1d(y, warn=True)\n"
          ],
          "name": "stderr"
        },
        {
          "output_type": "stream",
          "text": [
            "hyper-parameters:  {'kernel': 'rbf', 'gamma': 0.0001, 'C': 5000} log MSE:  1.672\n"
          ],
          "name": "stdout"
        },
        {
          "output_type": "stream",
          "text": [
            "/usr/local/lib/python3.6/dist-packages/sklearn/utils/validation.py:760: DataConversionWarning: A column-vector y was passed when a 1d array was expected. Please change the shape of y to (n_samples, ), for example using ravel().\n",
            "  y = column_or_1d(y, warn=True)\n"
          ],
          "name": "stderr"
        },
        {
          "output_type": "stream",
          "text": [
            "hyper-parameters:  {'kernel': 'rbf', 'gamma': 0.0001, 'C': 10000} log MSE:  1.611\n"
          ],
          "name": "stdout"
        },
        {
          "output_type": "stream",
          "text": [
            "/usr/local/lib/python3.6/dist-packages/sklearn/utils/validation.py:760: DataConversionWarning: A column-vector y was passed when a 1d array was expected. Please change the shape of y to (n_samples, ), for example using ravel().\n",
            "  y = column_or_1d(y, warn=True)\n"
          ],
          "name": "stderr"
        },
        {
          "output_type": "stream",
          "text": [
            "hyper-parameters:  {'kernel': 'rbf', 'gamma': 0.0001, 'C': 30000} log MSE:  1.403\n"
          ],
          "name": "stdout"
        },
        {
          "output_type": "stream",
          "text": [
            "/usr/local/lib/python3.6/dist-packages/sklearn/utils/validation.py:760: DataConversionWarning: A column-vector y was passed when a 1d array was expected. Please change the shape of y to (n_samples, ), for example using ravel().\n",
            "  y = column_or_1d(y, warn=True)\n"
          ],
          "name": "stderr"
        },
        {
          "output_type": "stream",
          "text": [
            "hyper-parameters:  {'kernel': 'rbf', 'gamma': 0.0001, 'C': 50000} log MSE:  1.402\n",
            "hyper-parameters:  {'kernel': 'rbf', 'gamma': 0.001, 'C': 1} log MSE:  19.52\n",
            "hyper-parameters:  {'kernel': 'rbf', 'gamma': 0.001, 'C': 3} log MSE:  19.487\n"
          ],
          "name": "stdout"
        },
        {
          "output_type": "stream",
          "text": [
            "/usr/local/lib/python3.6/dist-packages/sklearn/utils/validation.py:760: DataConversionWarning: A column-vector y was passed when a 1d array was expected. Please change the shape of y to (n_samples, ), for example using ravel().\n",
            "  y = column_or_1d(y, warn=True)\n",
            "/usr/local/lib/python3.6/dist-packages/sklearn/utils/validation.py:760: DataConversionWarning: A column-vector y was passed when a 1d array was expected. Please change the shape of y to (n_samples, ), for example using ravel().\n",
            "  y = column_or_1d(y, warn=True)\n",
            "/usr/local/lib/python3.6/dist-packages/sklearn/utils/validation.py:760: DataConversionWarning: A column-vector y was passed when a 1d array was expected. Please change the shape of y to (n_samples, ), for example using ravel().\n",
            "  y = column_or_1d(y, warn=True)\n"
          ],
          "name": "stderr"
        },
        {
          "output_type": "stream",
          "text": [
            "hyper-parameters:  {'kernel': 'rbf', 'gamma': 0.001, 'C': 5} log MSE:  19.454\n",
            "hyper-parameters:  {'kernel': 'rbf', 'gamma': 0.001, 'C': 10} log MSE:  19.366\n",
            "hyper-parameters:  {'kernel': 'rbf', 'gamma': 0.001, 'C': 30} log MSE:  18.984\n"
          ],
          "name": "stdout"
        },
        {
          "output_type": "stream",
          "text": [
            "/usr/local/lib/python3.6/dist-packages/sklearn/utils/validation.py:760: DataConversionWarning: A column-vector y was passed when a 1d array was expected. Please change the shape of y to (n_samples, ), for example using ravel().\n",
            "  y = column_or_1d(y, warn=True)\n",
            "/usr/local/lib/python3.6/dist-packages/sklearn/utils/validation.py:760: DataConversionWarning: A column-vector y was passed when a 1d array was expected. Please change the shape of y to (n_samples, ), for example using ravel().\n",
            "  y = column_or_1d(y, warn=True)\n",
            "/usr/local/lib/python3.6/dist-packages/sklearn/utils/validation.py:760: DataConversionWarning: A column-vector y was passed when a 1d array was expected. Please change the shape of y to (n_samples, ), for example using ravel().\n",
            "  y = column_or_1d(y, warn=True)\n"
          ],
          "name": "stderr"
        },
        {
          "output_type": "stream",
          "text": [
            "hyper-parameters:  {'kernel': 'rbf', 'gamma': 0.001, 'C': 50} log MSE:  18.585\n",
            "hyper-parameters:  {'kernel': 'rbf', 'gamma': 0.001, 'C': 100} log MSE:  17.465\n"
          ],
          "name": "stdout"
        },
        {
          "output_type": "stream",
          "text": [
            "/usr/local/lib/python3.6/dist-packages/sklearn/utils/validation.py:760: DataConversionWarning: A column-vector y was passed when a 1d array was expected. Please change the shape of y to (n_samples, ), for example using ravel().\n",
            "  y = column_or_1d(y, warn=True)\n",
            "/usr/local/lib/python3.6/dist-packages/sklearn/utils/validation.py:760: DataConversionWarning: A column-vector y was passed when a 1d array was expected. Please change the shape of y to (n_samples, ), for example using ravel().\n",
            "  y = column_or_1d(y, warn=True)\n"
          ],
          "name": "stderr"
        },
        {
          "output_type": "stream",
          "text": [
            "hyper-parameters:  {'kernel': 'rbf', 'gamma': 0.001, 'C': 300} log MSE:  13.369\n"
          ],
          "name": "stdout"
        },
        {
          "output_type": "stream",
          "text": [
            "/usr/local/lib/python3.6/dist-packages/sklearn/utils/validation.py:760: DataConversionWarning: A column-vector y was passed when a 1d array was expected. Please change the shape of y to (n_samples, ), for example using ravel().\n",
            "  y = column_or_1d(y, warn=True)\n"
          ],
          "name": "stderr"
        },
        {
          "output_type": "stream",
          "text": [
            "hyper-parameters:  {'kernel': 'rbf', 'gamma': 0.001, 'C': 500} log MSE:  14.269\n"
          ],
          "name": "stdout"
        },
        {
          "output_type": "stream",
          "text": [
            "/usr/local/lib/python3.6/dist-packages/sklearn/utils/validation.py:760: DataConversionWarning: A column-vector y was passed when a 1d array was expected. Please change the shape of y to (n_samples, ), for example using ravel().\n",
            "  y = column_or_1d(y, warn=True)\n"
          ],
          "name": "stderr"
        },
        {
          "output_type": "stream",
          "text": [
            "hyper-parameters:  {'kernel': 'rbf', 'gamma': 0.001, 'C': 1000} log MSE:  7.159\n"
          ],
          "name": "stdout"
        },
        {
          "output_type": "stream",
          "text": [
            "/usr/local/lib/python3.6/dist-packages/sklearn/utils/validation.py:760: DataConversionWarning: A column-vector y was passed when a 1d array was expected. Please change the shape of y to (n_samples, ), for example using ravel().\n",
            "  y = column_or_1d(y, warn=True)\n"
          ],
          "name": "stderr"
        },
        {
          "output_type": "stream",
          "text": [
            "hyper-parameters:  {'kernel': 'rbf', 'gamma': 0.001, 'C': 3000} log MSE:  14.164\n"
          ],
          "name": "stdout"
        },
        {
          "output_type": "stream",
          "text": [
            "/usr/local/lib/python3.6/dist-packages/sklearn/utils/validation.py:760: DataConversionWarning: A column-vector y was passed when a 1d array was expected. Please change the shape of y to (n_samples, ), for example using ravel().\n",
            "  y = column_or_1d(y, warn=True)\n"
          ],
          "name": "stderr"
        },
        {
          "output_type": "stream",
          "text": [
            "hyper-parameters:  {'kernel': 'rbf', 'gamma': 0.001, 'C': 5000} log MSE:  14.166\n"
          ],
          "name": "stdout"
        },
        {
          "output_type": "stream",
          "text": [
            "/usr/local/lib/python3.6/dist-packages/sklearn/utils/validation.py:760: DataConversionWarning: A column-vector y was passed when a 1d array was expected. Please change the shape of y to (n_samples, ), for example using ravel().\n",
            "  y = column_or_1d(y, warn=True)\n"
          ],
          "name": "stderr"
        },
        {
          "output_type": "stream",
          "text": [
            "hyper-parameters:  {'kernel': 'rbf', 'gamma': 0.001, 'C': 10000} log MSE:  14.169\n"
          ],
          "name": "stdout"
        },
        {
          "output_type": "stream",
          "text": [
            "/usr/local/lib/python3.6/dist-packages/sklearn/utils/validation.py:760: DataConversionWarning: A column-vector y was passed when a 1d array was expected. Please change the shape of y to (n_samples, ), for example using ravel().\n",
            "  y = column_or_1d(y, warn=True)\n"
          ],
          "name": "stderr"
        },
        {
          "output_type": "stream",
          "text": [
            "hyper-parameters:  {'kernel': 'rbf', 'gamma': 0.001, 'C': 30000} log MSE:  14.17\n"
          ],
          "name": "stdout"
        },
        {
          "output_type": "stream",
          "text": [
            "/usr/local/lib/python3.6/dist-packages/sklearn/utils/validation.py:760: DataConversionWarning: A column-vector y was passed when a 1d array was expected. Please change the shape of y to (n_samples, ), for example using ravel().\n",
            "  y = column_or_1d(y, warn=True)\n"
          ],
          "name": "stderr"
        },
        {
          "output_type": "stream",
          "text": [
            "hyper-parameters:  {'kernel': 'rbf', 'gamma': 0.001, 'C': 50000} log MSE:  14.17\n",
            "hyper-parameters:  {'kernel': 'rbf', 'gamma': 0.01, 'C': 1} log MSE:  19.532\n",
            "hyper-parameters:  {'kernel': 'rbf', 'gamma': 0.01, 'C': 3} log MSE:  19.521\n",
            "hyper-parameters:  {'kernel': 'rbf', 'gamma': 0.01, 'C': 5} log MSE:  19.511\n"
          ],
          "name": "stdout"
        },
        {
          "output_type": "stream",
          "text": [
            "/usr/local/lib/python3.6/dist-packages/sklearn/utils/validation.py:760: DataConversionWarning: A column-vector y was passed when a 1d array was expected. Please change the shape of y to (n_samples, ), for example using ravel().\n",
            "  y = column_or_1d(y, warn=True)\n",
            "/usr/local/lib/python3.6/dist-packages/sklearn/utils/validation.py:760: DataConversionWarning: A column-vector y was passed when a 1d array was expected. Please change the shape of y to (n_samples, ), for example using ravel().\n",
            "  y = column_or_1d(y, warn=True)\n",
            "/usr/local/lib/python3.6/dist-packages/sklearn/utils/validation.py:760: DataConversionWarning: A column-vector y was passed when a 1d array was expected. Please change the shape of y to (n_samples, ), for example using ravel().\n",
            "  y = column_or_1d(y, warn=True)\n",
            "/usr/local/lib/python3.6/dist-packages/sklearn/utils/validation.py:760: DataConversionWarning: A column-vector y was passed when a 1d array was expected. Please change the shape of y to (n_samples, ), for example using ravel().\n",
            "  y = column_or_1d(y, warn=True)\n"
          ],
          "name": "stderr"
        },
        {
          "output_type": "stream",
          "text": [
            "hyper-parameters:  {'kernel': 'rbf', 'gamma': 0.01, 'C': 10} log MSE:  19.484\n",
            "hyper-parameters:  {'kernel': 'rbf', 'gamma': 0.01, 'C': 30} log MSE:  19.375\n",
            "hyper-parameters:  {'kernel': 'rbf', 'gamma': 0.01, 'C': 50} log MSE:  19.26\n"
          ],
          "name": "stdout"
        },
        {
          "output_type": "stream",
          "text": [
            "/usr/local/lib/python3.6/dist-packages/sklearn/utils/validation.py:760: DataConversionWarning: A column-vector y was passed when a 1d array was expected. Please change the shape of y to (n_samples, ), for example using ravel().\n",
            "  y = column_or_1d(y, warn=True)\n",
            "/usr/local/lib/python3.6/dist-packages/sklearn/utils/validation.py:760: DataConversionWarning: A column-vector y was passed when a 1d array was expected. Please change the shape of y to (n_samples, ), for example using ravel().\n",
            "  y = column_or_1d(y, warn=True)\n",
            "/usr/local/lib/python3.6/dist-packages/sklearn/utils/validation.py:760: DataConversionWarning: A column-vector y was passed when a 1d array was expected. Please change the shape of y to (n_samples, ), for example using ravel().\n",
            "  y = column_or_1d(y, warn=True)\n"
          ],
          "name": "stderr"
        },
        {
          "output_type": "stream",
          "text": [
            "hyper-parameters:  {'kernel': 'rbf', 'gamma': 0.01, 'C': 100} log MSE:  18.975\n",
            "hyper-parameters:  {'kernel': 'rbf', 'gamma': 0.01, 'C': 300} log MSE:  17.928\n"
          ],
          "name": "stdout"
        },
        {
          "output_type": "stream",
          "text": [
            "/usr/local/lib/python3.6/dist-packages/sklearn/utils/validation.py:760: DataConversionWarning: A column-vector y was passed when a 1d array was expected. Please change the shape of y to (n_samples, ), for example using ravel().\n",
            "  y = column_or_1d(y, warn=True)\n",
            "/usr/local/lib/python3.6/dist-packages/sklearn/utils/validation.py:760: DataConversionWarning: A column-vector y was passed when a 1d array was expected. Please change the shape of y to (n_samples, ), for example using ravel().\n",
            "  y = column_or_1d(y, warn=True)\n"
          ],
          "name": "stderr"
        },
        {
          "output_type": "stream",
          "text": [
            "hyper-parameters:  {'kernel': 'rbf', 'gamma': 0.01, 'C': 500} log MSE:  17.19\n"
          ],
          "name": "stdout"
        },
        {
          "output_type": "stream",
          "text": [
            "/usr/local/lib/python3.6/dist-packages/sklearn/utils/validation.py:760: DataConversionWarning: A column-vector y was passed when a 1d array was expected. Please change the shape of y to (n_samples, ), for example using ravel().\n",
            "  y = column_or_1d(y, warn=True)\n"
          ],
          "name": "stderr"
        },
        {
          "output_type": "stream",
          "text": [
            "hyper-parameters:  {'kernel': 'rbf', 'gamma': 0.01, 'C': 1000} log MSE:  16.611\n"
          ],
          "name": "stdout"
        },
        {
          "output_type": "stream",
          "text": [
            "/usr/local/lib/python3.6/dist-packages/sklearn/utils/validation.py:760: DataConversionWarning: A column-vector y was passed when a 1d array was expected. Please change the shape of y to (n_samples, ), for example using ravel().\n",
            "  y = column_or_1d(y, warn=True)\n"
          ],
          "name": "stderr"
        },
        {
          "output_type": "stream",
          "text": [
            "hyper-parameters:  {'kernel': 'rbf', 'gamma': 0.01, 'C': 3000} log MSE:  16.765\n"
          ],
          "name": "stdout"
        },
        {
          "output_type": "stream",
          "text": [
            "/usr/local/lib/python3.6/dist-packages/sklearn/utils/validation.py:760: DataConversionWarning: A column-vector y was passed when a 1d array was expected. Please change the shape of y to (n_samples, ), for example using ravel().\n",
            "  y = column_or_1d(y, warn=True)\n"
          ],
          "name": "stderr"
        },
        {
          "output_type": "stream",
          "text": [
            "hyper-parameters:  {'kernel': 'rbf', 'gamma': 0.01, 'C': 5000} log MSE:  16.743\n"
          ],
          "name": "stdout"
        },
        {
          "output_type": "stream",
          "text": [
            "/usr/local/lib/python3.6/dist-packages/sklearn/utils/validation.py:760: DataConversionWarning: A column-vector y was passed when a 1d array was expected. Please change the shape of y to (n_samples, ), for example using ravel().\n",
            "  y = column_or_1d(y, warn=True)\n"
          ],
          "name": "stderr"
        },
        {
          "output_type": "stream",
          "text": [
            "hyper-parameters:  {'kernel': 'rbf', 'gamma': 0.01, 'C': 10000} log MSE:  16.727\n"
          ],
          "name": "stdout"
        },
        {
          "output_type": "stream",
          "text": [
            "/usr/local/lib/python3.6/dist-packages/sklearn/utils/validation.py:760: DataConversionWarning: A column-vector y was passed when a 1d array was expected. Please change the shape of y to (n_samples, ), for example using ravel().\n",
            "  y = column_or_1d(y, warn=True)\n"
          ],
          "name": "stderr"
        },
        {
          "output_type": "stream",
          "text": [
            "hyper-parameters:  {'kernel': 'rbf', 'gamma': 0.01, 'C': 30000} log MSE:  16.696\n"
          ],
          "name": "stdout"
        },
        {
          "output_type": "stream",
          "text": [
            "/usr/local/lib/python3.6/dist-packages/sklearn/utils/validation.py:760: DataConversionWarning: A column-vector y was passed when a 1d array was expected. Please change the shape of y to (n_samples, ), for example using ravel().\n",
            "  y = column_or_1d(y, warn=True)\n"
          ],
          "name": "stderr"
        },
        {
          "output_type": "stream",
          "text": [
            "hyper-parameters:  {'kernel': 'rbf', 'gamma': 0.01, 'C': 50000} log MSE:  16.689\n",
            "hyper-parameters:  {'kernel': 'rbf', 'gamma': 0.1, 'C': 1} log MSE:  19.535\n",
            "hyper-parameters:  {'kernel': 'rbf', 'gamma': 0.1, 'C': 3} log MSE:  19.532\n"
          ],
          "name": "stdout"
        },
        {
          "output_type": "stream",
          "text": [
            "/usr/local/lib/python3.6/dist-packages/sklearn/utils/validation.py:760: DataConversionWarning: A column-vector y was passed when a 1d array was expected. Please change the shape of y to (n_samples, ), for example using ravel().\n",
            "  y = column_or_1d(y, warn=True)\n",
            "/usr/local/lib/python3.6/dist-packages/sklearn/utils/validation.py:760: DataConversionWarning: A column-vector y was passed when a 1d array was expected. Please change the shape of y to (n_samples, ), for example using ravel().\n",
            "  y = column_or_1d(y, warn=True)\n",
            "/usr/local/lib/python3.6/dist-packages/sklearn/utils/validation.py:760: DataConversionWarning: A column-vector y was passed when a 1d array was expected. Please change the shape of y to (n_samples, ), for example using ravel().\n",
            "  y = column_or_1d(y, warn=True)\n",
            "/usr/local/lib/python3.6/dist-packages/sklearn/utils/validation.py:760: DataConversionWarning: A column-vector y was passed when a 1d array was expected. Please change the shape of y to (n_samples, ), for example using ravel().\n",
            "  y = column_or_1d(y, warn=True)\n"
          ],
          "name": "stderr"
        },
        {
          "output_type": "stream",
          "text": [
            "hyper-parameters:  {'kernel': 'rbf', 'gamma': 0.1, 'C': 5} log MSE:  19.528\n",
            "hyper-parameters:  {'kernel': 'rbf', 'gamma': 0.1, 'C': 10} log MSE:  19.519\n",
            "hyper-parameters:  {'kernel': 'rbf', 'gamma': 0.1, 'C': 30} log MSE:  19.485\n",
            "hyper-parameters:  {'kernel': 'rbf', 'gamma': 0.1, 'C': 50} log MSE:  19.449\n"
          ],
          "name": "stdout"
        },
        {
          "output_type": "stream",
          "text": [
            "/usr/local/lib/python3.6/dist-packages/sklearn/utils/validation.py:760: DataConversionWarning: A column-vector y was passed when a 1d array was expected. Please change the shape of y to (n_samples, ), for example using ravel().\n",
            "  y = column_or_1d(y, warn=True)\n",
            "/usr/local/lib/python3.6/dist-packages/sklearn/utils/validation.py:760: DataConversionWarning: A column-vector y was passed when a 1d array was expected. Please change the shape of y to (n_samples, ), for example using ravel().\n",
            "  y = column_or_1d(y, warn=True)\n",
            "/usr/local/lib/python3.6/dist-packages/sklearn/utils/validation.py:760: DataConversionWarning: A column-vector y was passed when a 1d array was expected. Please change the shape of y to (n_samples, ), for example using ravel().\n",
            "  y = column_or_1d(y, warn=True)\n"
          ],
          "name": "stderr"
        },
        {
          "output_type": "stream",
          "text": [
            "hyper-parameters:  {'kernel': 'rbf', 'gamma': 0.1, 'C': 100} log MSE:  19.358\n",
            "hyper-parameters:  {'kernel': 'rbf', 'gamma': 0.1, 'C': 300} log MSE:  19.038\n",
            "hyper-parameters:  {'kernel': 'rbf', 'gamma': 0.1, 'C': 500} log MSE:  18.79\n"
          ],
          "name": "stdout"
        },
        {
          "output_type": "stream",
          "text": [
            "/usr/local/lib/python3.6/dist-packages/sklearn/utils/validation.py:760: DataConversionWarning: A column-vector y was passed when a 1d array was expected. Please change the shape of y to (n_samples, ), for example using ravel().\n",
            "  y = column_or_1d(y, warn=True)\n",
            "/usr/local/lib/python3.6/dist-packages/sklearn/utils/validation.py:760: DataConversionWarning: A column-vector y was passed when a 1d array was expected. Please change the shape of y to (n_samples, ), for example using ravel().\n",
            "  y = column_or_1d(y, warn=True)\n",
            "/usr/local/lib/python3.6/dist-packages/sklearn/utils/validation.py:760: DataConversionWarning: A column-vector y was passed when a 1d array was expected. Please change the shape of y to (n_samples, ), for example using ravel().\n",
            "  y = column_or_1d(y, warn=True)\n"
          ],
          "name": "stderr"
        },
        {
          "output_type": "stream",
          "text": [
            "hyper-parameters:  {'kernel': 'rbf', 'gamma': 0.1, 'C': 1000} log MSE:  18.492\n"
          ],
          "name": "stdout"
        },
        {
          "output_type": "stream",
          "text": [
            "/usr/local/lib/python3.6/dist-packages/sklearn/utils/validation.py:760: DataConversionWarning: A column-vector y was passed when a 1d array was expected. Please change the shape of y to (n_samples, ), for example using ravel().\n",
            "  y = column_or_1d(y, warn=True)\n"
          ],
          "name": "stderr"
        },
        {
          "output_type": "stream",
          "text": [
            "hyper-parameters:  {'kernel': 'rbf', 'gamma': 0.1, 'C': 3000} log MSE:  18.457\n"
          ],
          "name": "stdout"
        },
        {
          "output_type": "stream",
          "text": [
            "/usr/local/lib/python3.6/dist-packages/sklearn/utils/validation.py:760: DataConversionWarning: A column-vector y was passed when a 1d array was expected. Please change the shape of y to (n_samples, ), for example using ravel().\n",
            "  y = column_or_1d(y, warn=True)\n"
          ],
          "name": "stderr"
        },
        {
          "output_type": "stream",
          "text": [
            "hyper-parameters:  {'kernel': 'rbf', 'gamma': 0.1, 'C': 5000} log MSE:  18.457\n"
          ],
          "name": "stdout"
        },
        {
          "output_type": "stream",
          "text": [
            "/usr/local/lib/python3.6/dist-packages/sklearn/utils/validation.py:760: DataConversionWarning: A column-vector y was passed when a 1d array was expected. Please change the shape of y to (n_samples, ), for example using ravel().\n",
            "  y = column_or_1d(y, warn=True)\n"
          ],
          "name": "stderr"
        },
        {
          "output_type": "stream",
          "text": [
            "hyper-parameters:  {'kernel': 'rbf', 'gamma': 0.1, 'C': 10000} log MSE:  18.457\n"
          ],
          "name": "stdout"
        },
        {
          "output_type": "stream",
          "text": [
            "/usr/local/lib/python3.6/dist-packages/sklearn/utils/validation.py:760: DataConversionWarning: A column-vector y was passed when a 1d array was expected. Please change the shape of y to (n_samples, ), for example using ravel().\n",
            "  y = column_or_1d(y, warn=True)\n"
          ],
          "name": "stderr"
        },
        {
          "output_type": "stream",
          "text": [
            "hyper-parameters:  {'kernel': 'rbf', 'gamma': 0.1, 'C': 30000} log MSE:  18.457\n"
          ],
          "name": "stdout"
        },
        {
          "output_type": "stream",
          "text": [
            "/usr/local/lib/python3.6/dist-packages/sklearn/utils/validation.py:760: DataConversionWarning: A column-vector y was passed when a 1d array was expected. Please change the shape of y to (n_samples, ), for example using ravel().\n",
            "  y = column_or_1d(y, warn=True)\n"
          ],
          "name": "stderr"
        },
        {
          "output_type": "stream",
          "text": [
            "hyper-parameters:  {'kernel': 'rbf', 'gamma': 0.1, 'C': 50000} log MSE:  18.457\n",
            "hyper-parameters:  {'kernel': 'rbf', 'gamma': 0.2, 'C': 1} log MSE:  19.535\n",
            "hyper-parameters:  {'kernel': 'rbf', 'gamma': 0.2, 'C': 3} log MSE:  19.533\n",
            "hyper-parameters:  {'kernel': 'rbf', 'gamma': 0.2, 'C': 5} log MSE:  19.53\n"
          ],
          "name": "stdout"
        },
        {
          "output_type": "stream",
          "text": [
            "/usr/local/lib/python3.6/dist-packages/sklearn/utils/validation.py:760: DataConversionWarning: A column-vector y was passed when a 1d array was expected. Please change the shape of y to (n_samples, ), for example using ravel().\n",
            "  y = column_or_1d(y, warn=True)\n",
            "/usr/local/lib/python3.6/dist-packages/sklearn/utils/validation.py:760: DataConversionWarning: A column-vector y was passed when a 1d array was expected. Please change the shape of y to (n_samples, ), for example using ravel().\n",
            "  y = column_or_1d(y, warn=True)\n",
            "/usr/local/lib/python3.6/dist-packages/sklearn/utils/validation.py:760: DataConversionWarning: A column-vector y was passed when a 1d array was expected. Please change the shape of y to (n_samples, ), for example using ravel().\n",
            "  y = column_or_1d(y, warn=True)\n",
            "/usr/local/lib/python3.6/dist-packages/sklearn/utils/validation.py:760: DataConversionWarning: A column-vector y was passed when a 1d array was expected. Please change the shape of y to (n_samples, ), for example using ravel().\n",
            "  y = column_or_1d(y, warn=True)\n"
          ],
          "name": "stderr"
        },
        {
          "output_type": "stream",
          "text": [
            "hyper-parameters:  {'kernel': 'rbf', 'gamma': 0.2, 'C': 10} log MSE:  19.524\n",
            "hyper-parameters:  {'kernel': 'rbf', 'gamma': 0.2, 'C': 30} log MSE:  19.5\n",
            "hyper-parameters:  {'kernel': 'rbf', 'gamma': 0.2, 'C': 50} log MSE:  19.475\n",
            "hyper-parameters:  {'kernel': 'rbf', 'gamma': 0.2, 'C': 100} log MSE:  19.409\n"
          ],
          "name": "stdout"
        },
        {
          "output_type": "stream",
          "text": [
            "/usr/local/lib/python3.6/dist-packages/sklearn/utils/validation.py:760: DataConversionWarning: A column-vector y was passed when a 1d array was expected. Please change the shape of y to (n_samples, ), for example using ravel().\n",
            "  y = column_or_1d(y, warn=True)\n",
            "/usr/local/lib/python3.6/dist-packages/sklearn/utils/validation.py:760: DataConversionWarning: A column-vector y was passed when a 1d array was expected. Please change the shape of y to (n_samples, ), for example using ravel().\n",
            "  y = column_or_1d(y, warn=True)\n",
            "/usr/local/lib/python3.6/dist-packages/sklearn/utils/validation.py:760: DataConversionWarning: A column-vector y was passed when a 1d array was expected. Please change the shape of y to (n_samples, ), for example using ravel().\n",
            "  y = column_or_1d(y, warn=True)\n",
            "/usr/local/lib/python3.6/dist-packages/sklearn/utils/validation.py:760: DataConversionWarning: A column-vector y was passed when a 1d array was expected. Please change the shape of y to (n_samples, ), for example using ravel().\n",
            "  y = column_or_1d(y, warn=True)\n"
          ],
          "name": "stderr"
        },
        {
          "output_type": "stream",
          "text": [
            "hyper-parameters:  {'kernel': 'rbf', 'gamma': 0.2, 'C': 300} log MSE:  19.174\n",
            "hyper-parameters:  {'kernel': 'rbf', 'gamma': 0.2, 'C': 500} log MSE:  18.994\n"
          ],
          "name": "stdout"
        },
        {
          "output_type": "stream",
          "text": [
            "/usr/local/lib/python3.6/dist-packages/sklearn/utils/validation.py:760: DataConversionWarning: A column-vector y was passed when a 1d array was expected. Please change the shape of y to (n_samples, ), for example using ravel().\n",
            "  y = column_or_1d(y, warn=True)\n",
            "/usr/local/lib/python3.6/dist-packages/sklearn/utils/validation.py:760: DataConversionWarning: A column-vector y was passed when a 1d array was expected. Please change the shape of y to (n_samples, ), for example using ravel().\n",
            "  y = column_or_1d(y, warn=True)\n"
          ],
          "name": "stderr"
        },
        {
          "output_type": "stream",
          "text": [
            "hyper-parameters:  {'kernel': 'rbf', 'gamma': 0.2, 'C': 1000} log MSE:  18.754\n",
            "hyper-parameters:  {'kernel': 'rbf', 'gamma': 0.2, 'C': 3000} log MSE:  18.701\n"
          ],
          "name": "stdout"
        },
        {
          "output_type": "stream",
          "text": [
            "/usr/local/lib/python3.6/dist-packages/sklearn/utils/validation.py:760: DataConversionWarning: A column-vector y was passed when a 1d array was expected. Please change the shape of y to (n_samples, ), for example using ravel().\n",
            "  y = column_or_1d(y, warn=True)\n",
            "/usr/local/lib/python3.6/dist-packages/sklearn/utils/validation.py:760: DataConversionWarning: A column-vector y was passed when a 1d array was expected. Please change the shape of y to (n_samples, ), for example using ravel().\n",
            "  y = column_or_1d(y, warn=True)\n"
          ],
          "name": "stderr"
        },
        {
          "output_type": "stream",
          "text": [
            "hyper-parameters:  {'kernel': 'rbf', 'gamma': 0.2, 'C': 5000} log MSE:  18.701\n",
            "hyper-parameters:  {'kernel': 'rbf', 'gamma': 0.2, 'C': 10000} log MSE:  18.701\n"
          ],
          "name": "stdout"
        },
        {
          "output_type": "stream",
          "text": [
            "/usr/local/lib/python3.6/dist-packages/sklearn/utils/validation.py:760: DataConversionWarning: A column-vector y was passed when a 1d array was expected. Please change the shape of y to (n_samples, ), for example using ravel().\n",
            "  y = column_or_1d(y, warn=True)\n",
            "/usr/local/lib/python3.6/dist-packages/sklearn/utils/validation.py:760: DataConversionWarning: A column-vector y was passed when a 1d array was expected. Please change the shape of y to (n_samples, ), for example using ravel().\n",
            "  y = column_or_1d(y, warn=True)\n"
          ],
          "name": "stderr"
        },
        {
          "output_type": "stream",
          "text": [
            "hyper-parameters:  {'kernel': 'rbf', 'gamma': 0.2, 'C': 30000} log MSE:  18.701\n",
            "hyper-parameters:  {'kernel': 'rbf', 'gamma': 0.2, 'C': 50000} log MSE:  18.701\n"
          ],
          "name": "stdout"
        },
        {
          "output_type": "stream",
          "text": [
            "/usr/local/lib/python3.6/dist-packages/sklearn/utils/validation.py:760: DataConversionWarning: A column-vector y was passed when a 1d array was expected. Please change the shape of y to (n_samples, ), for example using ravel().\n",
            "  y = column_or_1d(y, warn=True)\n",
            "/usr/local/lib/python3.6/dist-packages/sklearn/utils/validation.py:760: DataConversionWarning: A column-vector y was passed when a 1d array was expected. Please change the shape of y to (n_samples, ), for example using ravel().\n",
            "  y = column_or_1d(y, warn=True)\n"
          ],
          "name": "stderr"
        },
        {
          "output_type": "stream",
          "text": [
            "hyper-parameters:  {'kernel': 'rbf', 'gamma': 0.3, 'C': 1} log MSE:  19.535\n",
            "hyper-parameters:  {'kernel': 'rbf', 'gamma': 0.3, 'C': 3} log MSE:  19.534\n",
            "hyper-parameters:  {'kernel': 'rbf', 'gamma': 0.3, 'C': 5} log MSE:  19.532\n",
            "hyper-parameters:  {'kernel': 'rbf', 'gamma': 0.3, 'C': 10} log MSE:  19.526\n"
          ],
          "name": "stdout"
        },
        {
          "output_type": "stream",
          "text": [
            "/usr/local/lib/python3.6/dist-packages/sklearn/utils/validation.py:760: DataConversionWarning: A column-vector y was passed when a 1d array was expected. Please change the shape of y to (n_samples, ), for example using ravel().\n",
            "  y = column_or_1d(y, warn=True)\n",
            "/usr/local/lib/python3.6/dist-packages/sklearn/utils/validation.py:760: DataConversionWarning: A column-vector y was passed when a 1d array was expected. Please change the shape of y to (n_samples, ), for example using ravel().\n",
            "  y = column_or_1d(y, warn=True)\n",
            "/usr/local/lib/python3.6/dist-packages/sklearn/utils/validation.py:760: DataConversionWarning: A column-vector y was passed when a 1d array was expected. Please change the shape of y to (n_samples, ), for example using ravel().\n",
            "  y = column_or_1d(y, warn=True)\n",
            "/usr/local/lib/python3.6/dist-packages/sklearn/utils/validation.py:760: DataConversionWarning: A column-vector y was passed when a 1d array was expected. Please change the shape of y to (n_samples, ), for example using ravel().\n",
            "  y = column_or_1d(y, warn=True)\n"
          ],
          "name": "stderr"
        },
        {
          "output_type": "stream",
          "text": [
            "hyper-parameters:  {'kernel': 'rbf', 'gamma': 0.3, 'C': 30} log MSE:  19.506\n",
            "hyper-parameters:  {'kernel': 'rbf', 'gamma': 0.3, 'C': 50} log MSE:  19.486\n",
            "hyper-parameters:  {'kernel': 'rbf', 'gamma': 0.3, 'C': 100} log MSE:  19.432\n"
          ],
          "name": "stdout"
        },
        {
          "output_type": "stream",
          "text": [
            "/usr/local/lib/python3.6/dist-packages/sklearn/utils/validation.py:760: DataConversionWarning: A column-vector y was passed when a 1d array was expected. Please change the shape of y to (n_samples, ), for example using ravel().\n",
            "  y = column_or_1d(y, warn=True)\n",
            "/usr/local/lib/python3.6/dist-packages/sklearn/utils/validation.py:760: DataConversionWarning: A column-vector y was passed when a 1d array was expected. Please change the shape of y to (n_samples, ), for example using ravel().\n",
            "  y = column_or_1d(y, warn=True)\n",
            "/usr/local/lib/python3.6/dist-packages/sklearn/utils/validation.py:760: DataConversionWarning: A column-vector y was passed when a 1d array was expected. Please change the shape of y to (n_samples, ), for example using ravel().\n",
            "  y = column_or_1d(y, warn=True)\n"
          ],
          "name": "stderr"
        },
        {
          "output_type": "stream",
          "text": [
            "hyper-parameters:  {'kernel': 'rbf', 'gamma': 0.3, 'C': 300} log MSE:  19.236\n",
            "hyper-parameters:  {'kernel': 'rbf', 'gamma': 0.3, 'C': 500} log MSE:  19.087\n"
          ],
          "name": "stdout"
        },
        {
          "output_type": "stream",
          "text": [
            "/usr/local/lib/python3.6/dist-packages/sklearn/utils/validation.py:760: DataConversionWarning: A column-vector y was passed when a 1d array was expected. Please change the shape of y to (n_samples, ), for example using ravel().\n",
            "  y = column_or_1d(y, warn=True)\n",
            "/usr/local/lib/python3.6/dist-packages/sklearn/utils/validation.py:760: DataConversionWarning: A column-vector y was passed when a 1d array was expected. Please change the shape of y to (n_samples, ), for example using ravel().\n",
            "  y = column_or_1d(y, warn=True)\n"
          ],
          "name": "stderr"
        },
        {
          "output_type": "stream",
          "text": [
            "hyper-parameters:  {'kernel': 'rbf', 'gamma': 0.3, 'C': 1000} log MSE:  18.878\n",
            "hyper-parameters:  {'kernel': 'rbf', 'gamma': 0.3, 'C': 3000} log MSE:  18.829\n"
          ],
          "name": "stdout"
        },
        {
          "output_type": "stream",
          "text": [
            "/usr/local/lib/python3.6/dist-packages/sklearn/utils/validation.py:760: DataConversionWarning: A column-vector y was passed when a 1d array was expected. Please change the shape of y to (n_samples, ), for example using ravel().\n",
            "  y = column_or_1d(y, warn=True)\n",
            "/usr/local/lib/python3.6/dist-packages/sklearn/utils/validation.py:760: DataConversionWarning: A column-vector y was passed when a 1d array was expected. Please change the shape of y to (n_samples, ), for example using ravel().\n",
            "  y = column_or_1d(y, warn=True)\n"
          ],
          "name": "stderr"
        },
        {
          "output_type": "stream",
          "text": [
            "hyper-parameters:  {'kernel': 'rbf', 'gamma': 0.3, 'C': 5000} log MSE:  18.829\n",
            "hyper-parameters:  {'kernel': 'rbf', 'gamma': 0.3, 'C': 10000} log MSE:  18.829\n"
          ],
          "name": "stdout"
        },
        {
          "output_type": "stream",
          "text": [
            "/usr/local/lib/python3.6/dist-packages/sklearn/utils/validation.py:760: DataConversionWarning: A column-vector y was passed when a 1d array was expected. Please change the shape of y to (n_samples, ), for example using ravel().\n",
            "  y = column_or_1d(y, warn=True)\n",
            "/usr/local/lib/python3.6/dist-packages/sklearn/utils/validation.py:760: DataConversionWarning: A column-vector y was passed when a 1d array was expected. Please change the shape of y to (n_samples, ), for example using ravel().\n",
            "  y = column_or_1d(y, warn=True)\n"
          ],
          "name": "stderr"
        },
        {
          "output_type": "stream",
          "text": [
            "hyper-parameters:  {'kernel': 'rbf', 'gamma': 0.3, 'C': 30000} log MSE:  18.829\n",
            "hyper-parameters:  {'kernel': 'rbf', 'gamma': 0.3, 'C': 50000} log MSE:  18.829\n"
          ],
          "name": "stdout"
        },
        {
          "output_type": "stream",
          "text": [
            "/usr/local/lib/python3.6/dist-packages/sklearn/utils/validation.py:760: DataConversionWarning: A column-vector y was passed when a 1d array was expected. Please change the shape of y to (n_samples, ), for example using ravel().\n",
            "  y = column_or_1d(y, warn=True)\n",
            "/usr/local/lib/python3.6/dist-packages/sklearn/utils/validation.py:760: DataConversionWarning: A column-vector y was passed when a 1d array was expected. Please change the shape of y to (n_samples, ), for example using ravel().\n",
            "  y = column_or_1d(y, warn=True)\n"
          ],
          "name": "stderr"
        },
        {
          "output_type": "stream",
          "text": [
            "hyper-parameters:  {'kernel': 'rbf', 'gamma': 0.4, 'C': 1} log MSE:  19.536\n",
            "hyper-parameters:  {'kernel': 'rbf', 'gamma': 0.4, 'C': 3} log MSE:  19.534\n",
            "hyper-parameters:  {'kernel': 'rbf', 'gamma': 0.4, 'C': 5} log MSE:  19.532\n",
            "hyper-parameters:  {'kernel': 'rbf', 'gamma': 0.4, 'C': 10} log MSE:  19.527\n"
          ],
          "name": "stdout"
        },
        {
          "output_type": "stream",
          "text": [
            "/usr/local/lib/python3.6/dist-packages/sklearn/utils/validation.py:760: DataConversionWarning: A column-vector y was passed when a 1d array was expected. Please change the shape of y to (n_samples, ), for example using ravel().\n",
            "  y = column_or_1d(y, warn=True)\n",
            "/usr/local/lib/python3.6/dist-packages/sklearn/utils/validation.py:760: DataConversionWarning: A column-vector y was passed when a 1d array was expected. Please change the shape of y to (n_samples, ), for example using ravel().\n",
            "  y = column_or_1d(y, warn=True)\n",
            "/usr/local/lib/python3.6/dist-packages/sklearn/utils/validation.py:760: DataConversionWarning: A column-vector y was passed when a 1d array was expected. Please change the shape of y to (n_samples, ), for example using ravel().\n",
            "  y = column_or_1d(y, warn=True)\n",
            "/usr/local/lib/python3.6/dist-packages/sklearn/utils/validation.py:760: DataConversionWarning: A column-vector y was passed when a 1d array was expected. Please change the shape of y to (n_samples, ), for example using ravel().\n",
            "  y = column_or_1d(y, warn=True)\n"
          ],
          "name": "stderr"
        },
        {
          "output_type": "stream",
          "text": [
            "hyper-parameters:  {'kernel': 'rbf', 'gamma': 0.4, 'C': 30} log MSE:  19.51\n",
            "hyper-parameters:  {'kernel': 'rbf', 'gamma': 0.4, 'C': 50} log MSE:  19.493\n",
            "hyper-parameters:  {'kernel': 'rbf', 'gamma': 0.4, 'C': 100} log MSE:  19.446\n"
          ],
          "name": "stdout"
        },
        {
          "output_type": "stream",
          "text": [
            "/usr/local/lib/python3.6/dist-packages/sklearn/utils/validation.py:760: DataConversionWarning: A column-vector y was passed when a 1d array was expected. Please change the shape of y to (n_samples, ), for example using ravel().\n",
            "  y = column_or_1d(y, warn=True)\n",
            "/usr/local/lib/python3.6/dist-packages/sklearn/utils/validation.py:760: DataConversionWarning: A column-vector y was passed when a 1d array was expected. Please change the shape of y to (n_samples, ), for example using ravel().\n",
            "  y = column_or_1d(y, warn=True)\n",
            "/usr/local/lib/python3.6/dist-packages/sklearn/utils/validation.py:760: DataConversionWarning: A column-vector y was passed when a 1d array was expected. Please change the shape of y to (n_samples, ), for example using ravel().\n",
            "  y = column_or_1d(y, warn=True)\n"
          ],
          "name": "stderr"
        },
        {
          "output_type": "stream",
          "text": [
            "hyper-parameters:  {'kernel': 'rbf', 'gamma': 0.4, 'C': 300} log MSE:  19.275\n",
            "hyper-parameters:  {'kernel': 'rbf', 'gamma': 0.4, 'C': 500} log MSE:  19.144\n"
          ],
          "name": "stdout"
        },
        {
          "output_type": "stream",
          "text": [
            "/usr/local/lib/python3.6/dist-packages/sklearn/utils/validation.py:760: DataConversionWarning: A column-vector y was passed when a 1d array was expected. Please change the shape of y to (n_samples, ), for example using ravel().\n",
            "  y = column_or_1d(y, warn=True)\n",
            "/usr/local/lib/python3.6/dist-packages/sklearn/utils/validation.py:760: DataConversionWarning: A column-vector y was passed when a 1d array was expected. Please change the shape of y to (n_samples, ), for example using ravel().\n",
            "  y = column_or_1d(y, warn=True)\n"
          ],
          "name": "stderr"
        },
        {
          "output_type": "stream",
          "text": [
            "hyper-parameters:  {'kernel': 'rbf', 'gamma': 0.4, 'C': 1000} log MSE:  18.955\n",
            "hyper-parameters:  {'kernel': 'rbf', 'gamma': 0.4, 'C': 3000} log MSE:  18.91\n"
          ],
          "name": "stdout"
        },
        {
          "output_type": "stream",
          "text": [
            "/usr/local/lib/python3.6/dist-packages/sklearn/utils/validation.py:760: DataConversionWarning: A column-vector y was passed when a 1d array was expected. Please change the shape of y to (n_samples, ), for example using ravel().\n",
            "  y = column_or_1d(y, warn=True)\n",
            "/usr/local/lib/python3.6/dist-packages/sklearn/utils/validation.py:760: DataConversionWarning: A column-vector y was passed when a 1d array was expected. Please change the shape of y to (n_samples, ), for example using ravel().\n",
            "  y = column_or_1d(y, warn=True)\n"
          ],
          "name": "stderr"
        },
        {
          "output_type": "stream",
          "text": [
            "hyper-parameters:  {'kernel': 'rbf', 'gamma': 0.4, 'C': 5000} log MSE:  18.91\n",
            "hyper-parameters:  {'kernel': 'rbf', 'gamma': 0.4, 'C': 10000} log MSE:  18.91\n"
          ],
          "name": "stdout"
        },
        {
          "output_type": "stream",
          "text": [
            "/usr/local/lib/python3.6/dist-packages/sklearn/utils/validation.py:760: DataConversionWarning: A column-vector y was passed when a 1d array was expected. Please change the shape of y to (n_samples, ), for example using ravel().\n",
            "  y = column_or_1d(y, warn=True)\n",
            "/usr/local/lib/python3.6/dist-packages/sklearn/utils/validation.py:760: DataConversionWarning: A column-vector y was passed when a 1d array was expected. Please change the shape of y to (n_samples, ), for example using ravel().\n",
            "  y = column_or_1d(y, warn=True)\n"
          ],
          "name": "stderr"
        },
        {
          "output_type": "stream",
          "text": [
            "hyper-parameters:  {'kernel': 'rbf', 'gamma': 0.4, 'C': 30000} log MSE:  18.91\n",
            "hyper-parameters:  {'kernel': 'rbf', 'gamma': 0.4, 'C': 50000} log MSE:  18.91\n"
          ],
          "name": "stdout"
        },
        {
          "output_type": "stream",
          "text": [
            "/usr/local/lib/python3.6/dist-packages/sklearn/utils/validation.py:760: DataConversionWarning: A column-vector y was passed when a 1d array was expected. Please change the shape of y to (n_samples, ), for example using ravel().\n",
            "  y = column_or_1d(y, warn=True)\n",
            "/usr/local/lib/python3.6/dist-packages/sklearn/utils/validation.py:760: DataConversionWarning: A column-vector y was passed when a 1d array was expected. Please change the shape of y to (n_samples, ), for example using ravel().\n",
            "  y = column_or_1d(y, warn=True)\n"
          ],
          "name": "stderr"
        },
        {
          "output_type": "stream",
          "text": [
            "hyper-parameters:  {'kernel': 'rbf', 'gamma': 0.5, 'C': 1} log MSE:  19.536\n",
            "hyper-parameters:  {'kernel': 'rbf', 'gamma': 0.5, 'C': 3} log MSE:  19.534\n",
            "hyper-parameters:  {'kernel': 'rbf', 'gamma': 0.5, 'C': 5} log MSE:  19.533\n",
            "hyper-parameters:  {'kernel': 'rbf', 'gamma': 0.5, 'C': 10} log MSE:  19.528\n"
          ],
          "name": "stdout"
        },
        {
          "output_type": "stream",
          "text": [
            "/usr/local/lib/python3.6/dist-packages/sklearn/utils/validation.py:760: DataConversionWarning: A column-vector y was passed when a 1d array was expected. Please change the shape of y to (n_samples, ), for example using ravel().\n",
            "  y = column_or_1d(y, warn=True)\n",
            "/usr/local/lib/python3.6/dist-packages/sklearn/utils/validation.py:760: DataConversionWarning: A column-vector y was passed when a 1d array was expected. Please change the shape of y to (n_samples, ), for example using ravel().\n",
            "  y = column_or_1d(y, warn=True)\n",
            "/usr/local/lib/python3.6/dist-packages/sklearn/utils/validation.py:760: DataConversionWarning: A column-vector y was passed when a 1d array was expected. Please change the shape of y to (n_samples, ), for example using ravel().\n",
            "  y = column_or_1d(y, warn=True)\n",
            "/usr/local/lib/python3.6/dist-packages/sklearn/utils/validation.py:760: DataConversionWarning: A column-vector y was passed when a 1d array was expected. Please change the shape of y to (n_samples, ), for example using ravel().\n",
            "  y = column_or_1d(y, warn=True)\n"
          ],
          "name": "stderr"
        },
        {
          "output_type": "stream",
          "text": [
            "hyper-parameters:  {'kernel': 'rbf', 'gamma': 0.5, 'C': 30} log MSE:  19.513\n",
            "hyper-parameters:  {'kernel': 'rbf', 'gamma': 0.5, 'C': 50} log MSE:  19.497\n",
            "hyper-parameters:  {'kernel': 'rbf', 'gamma': 0.5, 'C': 100} log MSE:  19.456\n"
          ],
          "name": "stdout"
        },
        {
          "output_type": "stream",
          "text": [
            "/usr/local/lib/python3.6/dist-packages/sklearn/utils/validation.py:760: DataConversionWarning: A column-vector y was passed when a 1d array was expected. Please change the shape of y to (n_samples, ), for example using ravel().\n",
            "  y = column_or_1d(y, warn=True)\n",
            "/usr/local/lib/python3.6/dist-packages/sklearn/utils/validation.py:760: DataConversionWarning: A column-vector y was passed when a 1d array was expected. Please change the shape of y to (n_samples, ), for example using ravel().\n",
            "  y = column_or_1d(y, warn=True)\n",
            "/usr/local/lib/python3.6/dist-packages/sklearn/utils/validation.py:760: DataConversionWarning: A column-vector y was passed when a 1d array was expected. Please change the shape of y to (n_samples, ), for example using ravel().\n",
            "  y = column_or_1d(y, warn=True)\n"
          ],
          "name": "stderr"
        },
        {
          "output_type": "stream",
          "text": [
            "hyper-parameters:  {'kernel': 'rbf', 'gamma': 0.5, 'C': 300} log MSE:  19.301\n",
            "hyper-parameters:  {'kernel': 'rbf', 'gamma': 0.5, 'C': 500} log MSE:  19.184\n"
          ],
          "name": "stdout"
        },
        {
          "output_type": "stream",
          "text": [
            "/usr/local/lib/python3.6/dist-packages/sklearn/utils/validation.py:760: DataConversionWarning: A column-vector y was passed when a 1d array was expected. Please change the shape of y to (n_samples, ), for example using ravel().\n",
            "  y = column_or_1d(y, warn=True)\n",
            "/usr/local/lib/python3.6/dist-packages/sklearn/utils/validation.py:760: DataConversionWarning: A column-vector y was passed when a 1d array was expected. Please change the shape of y to (n_samples, ), for example using ravel().\n",
            "  y = column_or_1d(y, warn=True)\n"
          ],
          "name": "stderr"
        },
        {
          "output_type": "stream",
          "text": [
            "hyper-parameters:  {'kernel': 'rbf', 'gamma': 0.5, 'C': 1000} log MSE:  19.01\n",
            "hyper-parameters:  {'kernel': 'rbf', 'gamma': 0.5, 'C': 3000} log MSE:  18.968\n"
          ],
          "name": "stdout"
        },
        {
          "output_type": "stream",
          "text": [
            "/usr/local/lib/python3.6/dist-packages/sklearn/utils/validation.py:760: DataConversionWarning: A column-vector y was passed when a 1d array was expected. Please change the shape of y to (n_samples, ), for example using ravel().\n",
            "  y = column_or_1d(y, warn=True)\n",
            "/usr/local/lib/python3.6/dist-packages/sklearn/utils/validation.py:760: DataConversionWarning: A column-vector y was passed when a 1d array was expected. Please change the shape of y to (n_samples, ), for example using ravel().\n",
            "  y = column_or_1d(y, warn=True)\n"
          ],
          "name": "stderr"
        },
        {
          "output_type": "stream",
          "text": [
            "hyper-parameters:  {'kernel': 'rbf', 'gamma': 0.5, 'C': 5000} log MSE:  18.968\n",
            "hyper-parameters:  {'kernel': 'rbf', 'gamma': 0.5, 'C': 10000} log MSE:  18.968\n"
          ],
          "name": "stdout"
        },
        {
          "output_type": "stream",
          "text": [
            "/usr/local/lib/python3.6/dist-packages/sklearn/utils/validation.py:760: DataConversionWarning: A column-vector y was passed when a 1d array was expected. Please change the shape of y to (n_samples, ), for example using ravel().\n",
            "  y = column_or_1d(y, warn=True)\n",
            "/usr/local/lib/python3.6/dist-packages/sklearn/utils/validation.py:760: DataConversionWarning: A column-vector y was passed when a 1d array was expected. Please change the shape of y to (n_samples, ), for example using ravel().\n",
            "  y = column_or_1d(y, warn=True)\n"
          ],
          "name": "stderr"
        },
        {
          "output_type": "stream",
          "text": [
            "hyper-parameters:  {'kernel': 'rbf', 'gamma': 0.5, 'C': 30000} log MSE:  18.968\n",
            "hyper-parameters:  {'kernel': 'rbf', 'gamma': 0.5, 'C': 50000} log MSE:  18.968\n"
          ],
          "name": "stdout"
        },
        {
          "output_type": "stream",
          "text": [
            "/usr/local/lib/python3.6/dist-packages/sklearn/utils/validation.py:760: DataConversionWarning: A column-vector y was passed when a 1d array was expected. Please change the shape of y to (n_samples, ), for example using ravel().\n",
            "  y = column_or_1d(y, warn=True)\n",
            "/usr/local/lib/python3.6/dist-packages/sklearn/utils/validation.py:760: DataConversionWarning: A column-vector y was passed when a 1d array was expected. Please change the shape of y to (n_samples, ), for example using ravel().\n",
            "  y = column_or_1d(y, warn=True)\n"
          ],
          "name": "stderr"
        },
        {
          "output_type": "stream",
          "text": [
            "hyper-parameters:  {'kernel': 'rbf', 'gamma': 0.6, 'C': 1} log MSE:  19.536\n",
            "hyper-parameters:  {'kernel': 'rbf', 'gamma': 0.6, 'C': 3} log MSE:  19.535\n",
            "hyper-parameters:  {'kernel': 'rbf', 'gamma': 0.6, 'C': 5} log MSE:  19.533\n",
            "hyper-parameters:  {'kernel': 'rbf', 'gamma': 0.6, 'C': 10} log MSE:  19.529\n"
          ],
          "name": "stdout"
        },
        {
          "output_type": "stream",
          "text": [
            "/usr/local/lib/python3.6/dist-packages/sklearn/utils/validation.py:760: DataConversionWarning: A column-vector y was passed when a 1d array was expected. Please change the shape of y to (n_samples, ), for example using ravel().\n",
            "  y = column_or_1d(y, warn=True)\n",
            "/usr/local/lib/python3.6/dist-packages/sklearn/utils/validation.py:760: DataConversionWarning: A column-vector y was passed when a 1d array was expected. Please change the shape of y to (n_samples, ), for example using ravel().\n",
            "  y = column_or_1d(y, warn=True)\n",
            "/usr/local/lib/python3.6/dist-packages/sklearn/utils/validation.py:760: DataConversionWarning: A column-vector y was passed when a 1d array was expected. Please change the shape of y to (n_samples, ), for example using ravel().\n",
            "  y = column_or_1d(y, warn=True)\n",
            "/usr/local/lib/python3.6/dist-packages/sklearn/utils/validation.py:760: DataConversionWarning: A column-vector y was passed when a 1d array was expected. Please change the shape of y to (n_samples, ), for example using ravel().\n",
            "  y = column_or_1d(y, warn=True)\n"
          ],
          "name": "stderr"
        },
        {
          "output_type": "stream",
          "text": [
            "hyper-parameters:  {'kernel': 'rbf', 'gamma': 0.6, 'C': 30} log MSE:  19.515\n",
            "hyper-parameters:  {'kernel': 'rbf', 'gamma': 0.6, 'C': 50} log MSE:  19.501\n",
            "hyper-parameters:  {'kernel': 'rbf', 'gamma': 0.6, 'C': 100} log MSE:  19.463\n"
          ],
          "name": "stdout"
        },
        {
          "output_type": "stream",
          "text": [
            "/usr/local/lib/python3.6/dist-packages/sklearn/utils/validation.py:760: DataConversionWarning: A column-vector y was passed when a 1d array was expected. Please change the shape of y to (n_samples, ), for example using ravel().\n",
            "  y = column_or_1d(y, warn=True)\n",
            "/usr/local/lib/python3.6/dist-packages/sklearn/utils/validation.py:760: DataConversionWarning: A column-vector y was passed when a 1d array was expected. Please change the shape of y to (n_samples, ), for example using ravel().\n",
            "  y = column_or_1d(y, warn=True)\n",
            "/usr/local/lib/python3.6/dist-packages/sklearn/utils/validation.py:760: DataConversionWarning: A column-vector y was passed when a 1d array was expected. Please change the shape of y to (n_samples, ), for example using ravel().\n",
            "  y = column_or_1d(y, warn=True)\n"
          ],
          "name": "stderr"
        },
        {
          "output_type": "stream",
          "text": [
            "hyper-parameters:  {'kernel': 'rbf', 'gamma': 0.6, 'C': 300} log MSE:  19.321\n",
            "hyper-parameters:  {'kernel': 'rbf', 'gamma': 0.6, 'C': 500} log MSE:  19.214\n"
          ],
          "name": "stdout"
        },
        {
          "output_type": "stream",
          "text": [
            "/usr/local/lib/python3.6/dist-packages/sklearn/utils/validation.py:760: DataConversionWarning: A column-vector y was passed when a 1d array was expected. Please change the shape of y to (n_samples, ), for example using ravel().\n",
            "  y = column_or_1d(y, warn=True)\n",
            "/usr/local/lib/python3.6/dist-packages/sklearn/utils/validation.py:760: DataConversionWarning: A column-vector y was passed when a 1d array was expected. Please change the shape of y to (n_samples, ), for example using ravel().\n",
            "  y = column_or_1d(y, warn=True)\n"
          ],
          "name": "stderr"
        },
        {
          "output_type": "stream",
          "text": [
            "hyper-parameters:  {'kernel': 'rbf', 'gamma': 0.6, 'C': 1000} log MSE:  19.051\n",
            "hyper-parameters:  {'kernel': 'rbf', 'gamma': 0.6, 'C': 3000} log MSE:  19.012\n"
          ],
          "name": "stdout"
        },
        {
          "output_type": "stream",
          "text": [
            "/usr/local/lib/python3.6/dist-packages/sklearn/utils/validation.py:760: DataConversionWarning: A column-vector y was passed when a 1d array was expected. Please change the shape of y to (n_samples, ), for example using ravel().\n",
            "  y = column_or_1d(y, warn=True)\n",
            "/usr/local/lib/python3.6/dist-packages/sklearn/utils/validation.py:760: DataConversionWarning: A column-vector y was passed when a 1d array was expected. Please change the shape of y to (n_samples, ), for example using ravel().\n",
            "  y = column_or_1d(y, warn=True)\n"
          ],
          "name": "stderr"
        },
        {
          "output_type": "stream",
          "text": [
            "hyper-parameters:  {'kernel': 'rbf', 'gamma': 0.6, 'C': 5000} log MSE:  19.012\n",
            "hyper-parameters:  {'kernel': 'rbf', 'gamma': 0.6, 'C': 10000} log MSE:  19.012\n"
          ],
          "name": "stdout"
        },
        {
          "output_type": "stream",
          "text": [
            "/usr/local/lib/python3.6/dist-packages/sklearn/utils/validation.py:760: DataConversionWarning: A column-vector y was passed when a 1d array was expected. Please change the shape of y to (n_samples, ), for example using ravel().\n",
            "  y = column_or_1d(y, warn=True)\n",
            "/usr/local/lib/python3.6/dist-packages/sklearn/utils/validation.py:760: DataConversionWarning: A column-vector y was passed when a 1d array was expected. Please change the shape of y to (n_samples, ), for example using ravel().\n",
            "  y = column_or_1d(y, warn=True)\n"
          ],
          "name": "stderr"
        },
        {
          "output_type": "stream",
          "text": [
            "hyper-parameters:  {'kernel': 'rbf', 'gamma': 0.6, 'C': 30000} log MSE:  19.012\n",
            "hyper-parameters:  {'kernel': 'rbf', 'gamma': 0.6, 'C': 50000} log MSE:  19.012\n"
          ],
          "name": "stdout"
        },
        {
          "output_type": "stream",
          "text": [
            "/usr/local/lib/python3.6/dist-packages/sklearn/utils/validation.py:760: DataConversionWarning: A column-vector y was passed when a 1d array was expected. Please change the shape of y to (n_samples, ), for example using ravel().\n",
            "  y = column_or_1d(y, warn=True)\n",
            "/usr/local/lib/python3.6/dist-packages/sklearn/utils/validation.py:760: DataConversionWarning: A column-vector y was passed when a 1d array was expected. Please change the shape of y to (n_samples, ), for example using ravel().\n",
            "  y = column_or_1d(y, warn=True)\n"
          ],
          "name": "stderr"
        },
        {
          "output_type": "stream",
          "text": [
            "hyper-parameters:  {'kernel': 'rbf', 'gamma': 0.7, 'C': 1} log MSE:  19.536\n",
            "hyper-parameters:  {'kernel': 'rbf', 'gamma': 0.7, 'C': 3} log MSE:  19.535\n",
            "hyper-parameters:  {'kernel': 'rbf', 'gamma': 0.7, 'C': 5} log MSE:  19.533\n",
            "hyper-parameters:  {'kernel': 'rbf', 'gamma': 0.7, 'C': 10} log MSE:  19.53\n"
          ],
          "name": "stdout"
        },
        {
          "output_type": "stream",
          "text": [
            "/usr/local/lib/python3.6/dist-packages/sklearn/utils/validation.py:760: DataConversionWarning: A column-vector y was passed when a 1d array was expected. Please change the shape of y to (n_samples, ), for example using ravel().\n",
            "  y = column_or_1d(y, warn=True)\n",
            "/usr/local/lib/python3.6/dist-packages/sklearn/utils/validation.py:760: DataConversionWarning: A column-vector y was passed when a 1d array was expected. Please change the shape of y to (n_samples, ), for example using ravel().\n",
            "  y = column_or_1d(y, warn=True)\n",
            "/usr/local/lib/python3.6/dist-packages/sklearn/utils/validation.py:760: DataConversionWarning: A column-vector y was passed when a 1d array was expected. Please change the shape of y to (n_samples, ), for example using ravel().\n",
            "  y = column_or_1d(y, warn=True)\n",
            "/usr/local/lib/python3.6/dist-packages/sklearn/utils/validation.py:760: DataConversionWarning: A column-vector y was passed when a 1d array was expected. Please change the shape of y to (n_samples, ), for example using ravel().\n",
            "  y = column_or_1d(y, warn=True)\n"
          ],
          "name": "stderr"
        },
        {
          "output_type": "stream",
          "text": [
            "hyper-parameters:  {'kernel': 'rbf', 'gamma': 0.7, 'C': 30} log MSE:  19.517\n",
            "hyper-parameters:  {'kernel': 'rbf', 'gamma': 0.7, 'C': 50} log MSE:  19.504\n",
            "hyper-parameters:  {'kernel': 'rbf', 'gamma': 0.7, 'C': 100} log MSE:  19.469\n"
          ],
          "name": "stdout"
        },
        {
          "output_type": "stream",
          "text": [
            "/usr/local/lib/python3.6/dist-packages/sklearn/utils/validation.py:760: DataConversionWarning: A column-vector y was passed when a 1d array was expected. Please change the shape of y to (n_samples, ), for example using ravel().\n",
            "  y = column_or_1d(y, warn=True)\n",
            "/usr/local/lib/python3.6/dist-packages/sklearn/utils/validation.py:760: DataConversionWarning: A column-vector y was passed when a 1d array was expected. Please change the shape of y to (n_samples, ), for example using ravel().\n",
            "  y = column_or_1d(y, warn=True)\n",
            "/usr/local/lib/python3.6/dist-packages/sklearn/utils/validation.py:760: DataConversionWarning: A column-vector y was passed when a 1d array was expected. Please change the shape of y to (n_samples, ), for example using ravel().\n",
            "  y = column_or_1d(y, warn=True)\n"
          ],
          "name": "stderr"
        },
        {
          "output_type": "stream",
          "text": [
            "hyper-parameters:  {'kernel': 'rbf', 'gamma': 0.7, 'C': 300} log MSE:  19.337\n",
            "hyper-parameters:  {'kernel': 'rbf', 'gamma': 0.7, 'C': 500} log MSE:  19.237\n"
          ],
          "name": "stdout"
        },
        {
          "output_type": "stream",
          "text": [
            "/usr/local/lib/python3.6/dist-packages/sklearn/utils/validation.py:760: DataConversionWarning: A column-vector y was passed when a 1d array was expected. Please change the shape of y to (n_samples, ), for example using ravel().\n",
            "  y = column_or_1d(y, warn=True)\n",
            "/usr/local/lib/python3.6/dist-packages/sklearn/utils/validation.py:760: DataConversionWarning: A column-vector y was passed when a 1d array was expected. Please change the shape of y to (n_samples, ), for example using ravel().\n",
            "  y = column_or_1d(y, warn=True)\n"
          ],
          "name": "stderr"
        },
        {
          "output_type": "stream",
          "text": [
            "hyper-parameters:  {'kernel': 'rbf', 'gamma': 0.7, 'C': 1000} log MSE:  19.085\n",
            "hyper-parameters:  {'kernel': 'rbf', 'gamma': 0.7, 'C': 3000} log MSE:  19.048\n"
          ],
          "name": "stdout"
        },
        {
          "output_type": "stream",
          "text": [
            "/usr/local/lib/python3.6/dist-packages/sklearn/utils/validation.py:760: DataConversionWarning: A column-vector y was passed when a 1d array was expected. Please change the shape of y to (n_samples, ), for example using ravel().\n",
            "  y = column_or_1d(y, warn=True)\n",
            "/usr/local/lib/python3.6/dist-packages/sklearn/utils/validation.py:760: DataConversionWarning: A column-vector y was passed when a 1d array was expected. Please change the shape of y to (n_samples, ), for example using ravel().\n",
            "  y = column_or_1d(y, warn=True)\n"
          ],
          "name": "stderr"
        },
        {
          "output_type": "stream",
          "text": [
            "hyper-parameters:  {'kernel': 'rbf', 'gamma': 0.7, 'C': 5000} log MSE:  19.048\n",
            "hyper-parameters:  {'kernel': 'rbf', 'gamma': 0.7, 'C': 10000} log MSE:  19.048\n"
          ],
          "name": "stdout"
        },
        {
          "output_type": "stream",
          "text": [
            "/usr/local/lib/python3.6/dist-packages/sklearn/utils/validation.py:760: DataConversionWarning: A column-vector y was passed when a 1d array was expected. Please change the shape of y to (n_samples, ), for example using ravel().\n",
            "  y = column_or_1d(y, warn=True)\n",
            "/usr/local/lib/python3.6/dist-packages/sklearn/utils/validation.py:760: DataConversionWarning: A column-vector y was passed when a 1d array was expected. Please change the shape of y to (n_samples, ), for example using ravel().\n",
            "  y = column_or_1d(y, warn=True)\n"
          ],
          "name": "stderr"
        },
        {
          "output_type": "stream",
          "text": [
            "hyper-parameters:  {'kernel': 'rbf', 'gamma': 0.7, 'C': 30000} log MSE:  19.048\n",
            "hyper-parameters:  {'kernel': 'rbf', 'gamma': 0.7, 'C': 50000} log MSE:  19.048\n"
          ],
          "name": "stdout"
        },
        {
          "output_type": "stream",
          "text": [
            "/usr/local/lib/python3.6/dist-packages/sklearn/utils/validation.py:760: DataConversionWarning: A column-vector y was passed when a 1d array was expected. Please change the shape of y to (n_samples, ), for example using ravel().\n",
            "  y = column_or_1d(y, warn=True)\n",
            "/usr/local/lib/python3.6/dist-packages/sklearn/utils/validation.py:760: DataConversionWarning: A column-vector y was passed when a 1d array was expected. Please change the shape of y to (n_samples, ), for example using ravel().\n",
            "  y = column_or_1d(y, warn=True)\n"
          ],
          "name": "stderr"
        },
        {
          "output_type": "stream",
          "text": [
            "hyper-parameters:  {'kernel': 'rbf', 'gamma': 0.8, 'C': 1} log MSE:  19.536\n",
            "hyper-parameters:  {'kernel': 'rbf', 'gamma': 0.8, 'C': 3} log MSE:  19.535\n",
            "hyper-parameters:  {'kernel': 'rbf', 'gamma': 0.8, 'C': 5} log MSE:  19.534\n",
            "hyper-parameters:  {'kernel': 'rbf', 'gamma': 0.8, 'C': 10} log MSE:  19.53\n"
          ],
          "name": "stdout"
        },
        {
          "output_type": "stream",
          "text": [
            "/usr/local/lib/python3.6/dist-packages/sklearn/utils/validation.py:760: DataConversionWarning: A column-vector y was passed when a 1d array was expected. Please change the shape of y to (n_samples, ), for example using ravel().\n",
            "  y = column_or_1d(y, warn=True)\n",
            "/usr/local/lib/python3.6/dist-packages/sklearn/utils/validation.py:760: DataConversionWarning: A column-vector y was passed when a 1d array was expected. Please change the shape of y to (n_samples, ), for example using ravel().\n",
            "  y = column_or_1d(y, warn=True)\n",
            "/usr/local/lib/python3.6/dist-packages/sklearn/utils/validation.py:760: DataConversionWarning: A column-vector y was passed when a 1d array was expected. Please change the shape of y to (n_samples, ), for example using ravel().\n",
            "  y = column_or_1d(y, warn=True)\n",
            "/usr/local/lib/python3.6/dist-packages/sklearn/utils/validation.py:760: DataConversionWarning: A column-vector y was passed when a 1d array was expected. Please change the shape of y to (n_samples, ), for example using ravel().\n",
            "  y = column_or_1d(y, warn=True)\n"
          ],
          "name": "stderr"
        },
        {
          "output_type": "stream",
          "text": [
            "hyper-parameters:  {'kernel': 'rbf', 'gamma': 0.8, 'C': 30} log MSE:  19.518\n",
            "hyper-parameters:  {'kernel': 'rbf', 'gamma': 0.8, 'C': 50} log MSE:  19.506\n",
            "hyper-parameters:  {'kernel': 'rbf', 'gamma': 0.8, 'C': 100} log MSE:  19.473\n"
          ],
          "name": "stdout"
        },
        {
          "output_type": "stream",
          "text": [
            "/usr/local/lib/python3.6/dist-packages/sklearn/utils/validation.py:760: DataConversionWarning: A column-vector y was passed when a 1d array was expected. Please change the shape of y to (n_samples, ), for example using ravel().\n",
            "  y = column_or_1d(y, warn=True)\n",
            "/usr/local/lib/python3.6/dist-packages/sklearn/utils/validation.py:760: DataConversionWarning: A column-vector y was passed when a 1d array was expected. Please change the shape of y to (n_samples, ), for example using ravel().\n",
            "  y = column_or_1d(y, warn=True)\n",
            "/usr/local/lib/python3.6/dist-packages/sklearn/utils/validation.py:760: DataConversionWarning: A column-vector y was passed when a 1d array was expected. Please change the shape of y to (n_samples, ), for example using ravel().\n",
            "  y = column_or_1d(y, warn=True)\n"
          ],
          "name": "stderr"
        },
        {
          "output_type": "stream",
          "text": [
            "hyper-parameters:  {'kernel': 'rbf', 'gamma': 0.8, 'C': 300} log MSE:  19.35\n",
            "hyper-parameters:  {'kernel': 'rbf', 'gamma': 0.8, 'C': 500} log MSE:  19.256\n"
          ],
          "name": "stdout"
        },
        {
          "output_type": "stream",
          "text": [
            "/usr/local/lib/python3.6/dist-packages/sklearn/utils/validation.py:760: DataConversionWarning: A column-vector y was passed when a 1d array was expected. Please change the shape of y to (n_samples, ), for example using ravel().\n",
            "  y = column_or_1d(y, warn=True)\n",
            "/usr/local/lib/python3.6/dist-packages/sklearn/utils/validation.py:760: DataConversionWarning: A column-vector y was passed when a 1d array was expected. Please change the shape of y to (n_samples, ), for example using ravel().\n",
            "  y = column_or_1d(y, warn=True)\n"
          ],
          "name": "stderr"
        },
        {
          "output_type": "stream",
          "text": [
            "hyper-parameters:  {'kernel': 'rbf', 'gamma': 0.8, 'C': 1000} log MSE:  19.112\n",
            "hyper-parameters:  {'kernel': 'rbf', 'gamma': 0.8, 'C': 3000} log MSE:  19.077\n"
          ],
          "name": "stdout"
        },
        {
          "output_type": "stream",
          "text": [
            "/usr/local/lib/python3.6/dist-packages/sklearn/utils/validation.py:760: DataConversionWarning: A column-vector y was passed when a 1d array was expected. Please change the shape of y to (n_samples, ), for example using ravel().\n",
            "  y = column_or_1d(y, warn=True)\n",
            "/usr/local/lib/python3.6/dist-packages/sklearn/utils/validation.py:760: DataConversionWarning: A column-vector y was passed when a 1d array was expected. Please change the shape of y to (n_samples, ), for example using ravel().\n",
            "  y = column_or_1d(y, warn=True)\n"
          ],
          "name": "stderr"
        },
        {
          "output_type": "stream",
          "text": [
            "hyper-parameters:  {'kernel': 'rbf', 'gamma': 0.8, 'C': 5000} log MSE:  19.077\n",
            "hyper-parameters:  {'kernel': 'rbf', 'gamma': 0.8, 'C': 10000} log MSE:  19.077\n"
          ],
          "name": "stdout"
        },
        {
          "output_type": "stream",
          "text": [
            "/usr/local/lib/python3.6/dist-packages/sklearn/utils/validation.py:760: DataConversionWarning: A column-vector y was passed when a 1d array was expected. Please change the shape of y to (n_samples, ), for example using ravel().\n",
            "  y = column_or_1d(y, warn=True)\n",
            "/usr/local/lib/python3.6/dist-packages/sklearn/utils/validation.py:760: DataConversionWarning: A column-vector y was passed when a 1d array was expected. Please change the shape of y to (n_samples, ), for example using ravel().\n",
            "  y = column_or_1d(y, warn=True)\n"
          ],
          "name": "stderr"
        },
        {
          "output_type": "stream",
          "text": [
            "hyper-parameters:  {'kernel': 'rbf', 'gamma': 0.8, 'C': 30000} log MSE:  19.077\n",
            "hyper-parameters:  {'kernel': 'rbf', 'gamma': 0.8, 'C': 50000} log MSE:  19.077\n"
          ],
          "name": "stdout"
        },
        {
          "output_type": "stream",
          "text": [
            "/usr/local/lib/python3.6/dist-packages/sklearn/utils/validation.py:760: DataConversionWarning: A column-vector y was passed when a 1d array was expected. Please change the shape of y to (n_samples, ), for example using ravel().\n",
            "  y = column_or_1d(y, warn=True)\n",
            "/usr/local/lib/python3.6/dist-packages/sklearn/utils/validation.py:760: DataConversionWarning: A column-vector y was passed when a 1d array was expected. Please change the shape of y to (n_samples, ), for example using ravel().\n",
            "  y = column_or_1d(y, warn=True)\n"
          ],
          "name": "stderr"
        },
        {
          "output_type": "stream",
          "text": [
            "hyper-parameters:  {'kernel': 'rbf', 'gamma': 0.9, 'C': 1} log MSE:  19.536\n",
            "hyper-parameters:  {'kernel': 'rbf', 'gamma': 0.9, 'C': 3} log MSE:  19.535\n",
            "hyper-parameters:  {'kernel': 'rbf', 'gamma': 0.9, 'C': 5} log MSE:  19.534\n"
          ],
          "name": "stdout"
        },
        {
          "output_type": "stream",
          "text": [
            "/usr/local/lib/python3.6/dist-packages/sklearn/utils/validation.py:760: DataConversionWarning: A column-vector y was passed when a 1d array was expected. Please change the shape of y to (n_samples, ), for example using ravel().\n",
            "  y = column_or_1d(y, warn=True)\n",
            "/usr/local/lib/python3.6/dist-packages/sklearn/utils/validation.py:760: DataConversionWarning: A column-vector y was passed when a 1d array was expected. Please change the shape of y to (n_samples, ), for example using ravel().\n",
            "  y = column_or_1d(y, warn=True)\n",
            "/usr/local/lib/python3.6/dist-packages/sklearn/utils/validation.py:760: DataConversionWarning: A column-vector y was passed when a 1d array was expected. Please change the shape of y to (n_samples, ), for example using ravel().\n",
            "  y = column_or_1d(y, warn=True)\n"
          ],
          "name": "stderr"
        },
        {
          "output_type": "stream",
          "text": [
            "hyper-parameters:  {'kernel': 'rbf', 'gamma': 0.9, 'C': 10} log MSE:  19.53\n",
            "hyper-parameters:  {'kernel': 'rbf', 'gamma': 0.9, 'C': 30} log MSE:  19.519\n",
            "hyper-parameters:  {'kernel': 'rbf', 'gamma': 0.9, 'C': 50} log MSE:  19.508\n"
          ],
          "name": "stdout"
        },
        {
          "output_type": "stream",
          "text": [
            "/usr/local/lib/python3.6/dist-packages/sklearn/utils/validation.py:760: DataConversionWarning: A column-vector y was passed when a 1d array was expected. Please change the shape of y to (n_samples, ), for example using ravel().\n",
            "  y = column_or_1d(y, warn=True)\n",
            "/usr/local/lib/python3.6/dist-packages/sklearn/utils/validation.py:760: DataConversionWarning: A column-vector y was passed when a 1d array was expected. Please change the shape of y to (n_samples, ), for example using ravel().\n",
            "  y = column_or_1d(y, warn=True)\n",
            "/usr/local/lib/python3.6/dist-packages/sklearn/utils/validation.py:760: DataConversionWarning: A column-vector y was passed when a 1d array was expected. Please change the shape of y to (n_samples, ), for example using ravel().\n",
            "  y = column_or_1d(y, warn=True)\n"
          ],
          "name": "stderr"
        },
        {
          "output_type": "stream",
          "text": [
            "hyper-parameters:  {'kernel': 'rbf', 'gamma': 0.9, 'C': 100} log MSE:  19.477\n",
            "hyper-parameters:  {'kernel': 'rbf', 'gamma': 0.9, 'C': 300} log MSE:  19.361\n",
            "hyper-parameters:  {'kernel': 'rbf', 'gamma': 0.9, 'C': 500} log MSE:  19.272\n"
          ],
          "name": "stdout"
        },
        {
          "output_type": "stream",
          "text": [
            "/usr/local/lib/python3.6/dist-packages/sklearn/utils/validation.py:760: DataConversionWarning: A column-vector y was passed when a 1d array was expected. Please change the shape of y to (n_samples, ), for example using ravel().\n",
            "  y = column_or_1d(y, warn=True)\n",
            "/usr/local/lib/python3.6/dist-packages/sklearn/utils/validation.py:760: DataConversionWarning: A column-vector y was passed when a 1d array was expected. Please change the shape of y to (n_samples, ), for example using ravel().\n",
            "  y = column_or_1d(y, warn=True)\n",
            "/usr/local/lib/python3.6/dist-packages/sklearn/utils/validation.py:760: DataConversionWarning: A column-vector y was passed when a 1d array was expected. Please change the shape of y to (n_samples, ), for example using ravel().\n",
            "  y = column_or_1d(y, warn=True)\n"
          ],
          "name": "stderr"
        },
        {
          "output_type": "stream",
          "text": [
            "hyper-parameters:  {'kernel': 'rbf', 'gamma': 0.9, 'C': 1000} log MSE:  19.136\n",
            "hyper-parameters:  {'kernel': 'rbf', 'gamma': 0.9, 'C': 3000} log MSE:  19.102\n"
          ],
          "name": "stdout"
        },
        {
          "output_type": "stream",
          "text": [
            "/usr/local/lib/python3.6/dist-packages/sklearn/utils/validation.py:760: DataConversionWarning: A column-vector y was passed when a 1d array was expected. Please change the shape of y to (n_samples, ), for example using ravel().\n",
            "  y = column_or_1d(y, warn=True)\n",
            "/usr/local/lib/python3.6/dist-packages/sklearn/utils/validation.py:760: DataConversionWarning: A column-vector y was passed when a 1d array was expected. Please change the shape of y to (n_samples, ), for example using ravel().\n",
            "  y = column_or_1d(y, warn=True)\n"
          ],
          "name": "stderr"
        },
        {
          "output_type": "stream",
          "text": [
            "hyper-parameters:  {'kernel': 'rbf', 'gamma': 0.9, 'C': 5000} log MSE:  19.102\n",
            "hyper-parameters:  {'kernel': 'rbf', 'gamma': 0.9, 'C': 10000} log MSE:  19.102\n"
          ],
          "name": "stdout"
        },
        {
          "output_type": "stream",
          "text": [
            "/usr/local/lib/python3.6/dist-packages/sklearn/utils/validation.py:760: DataConversionWarning: A column-vector y was passed when a 1d array was expected. Please change the shape of y to (n_samples, ), for example using ravel().\n",
            "  y = column_or_1d(y, warn=True)\n",
            "/usr/local/lib/python3.6/dist-packages/sklearn/utils/validation.py:760: DataConversionWarning: A column-vector y was passed when a 1d array was expected. Please change the shape of y to (n_samples, ), for example using ravel().\n",
            "  y = column_or_1d(y, warn=True)\n"
          ],
          "name": "stderr"
        },
        {
          "output_type": "stream",
          "text": [
            "hyper-parameters:  {'kernel': 'rbf', 'gamma': 0.9, 'C': 30000} log MSE:  19.102\n",
            "hyper-parameters:  {'kernel': 'rbf', 'gamma': 0.9, 'C': 50000} log MSE:  19.102\n"
          ],
          "name": "stdout"
        },
        {
          "output_type": "stream",
          "text": [
            "/usr/local/lib/python3.6/dist-packages/sklearn/utils/validation.py:760: DataConversionWarning: A column-vector y was passed when a 1d array was expected. Please change the shape of y to (n_samples, ), for example using ravel().\n",
            "  y = column_or_1d(y, warn=True)\n",
            "/usr/local/lib/python3.6/dist-packages/sklearn/utils/validation.py:760: DataConversionWarning: A column-vector y was passed when a 1d array was expected. Please change the shape of y to (n_samples, ), for example using ravel().\n",
            "  y = column_or_1d(y, warn=True)\n"
          ],
          "name": "stderr"
        },
        {
          "output_type": "stream",
          "text": [
            "hyper-parameters:  {'kernel': 'rbf', 'gamma': 1.0, 'C': 1} log MSE:  19.536\n",
            "hyper-parameters:  {'kernel': 'rbf', 'gamma': 1.0, 'C': 3} log MSE:  19.535\n",
            "hyper-parameters:  {'kernel': 'rbf', 'gamma': 1.0, 'C': 5} log MSE:  19.534\n",
            "hyper-parameters:  {'kernel': 'rbf', 'gamma': 1.0, 'C': 10} log MSE:  19.531\n"
          ],
          "name": "stdout"
        },
        {
          "output_type": "stream",
          "text": [
            "/usr/local/lib/python3.6/dist-packages/sklearn/utils/validation.py:760: DataConversionWarning: A column-vector y was passed when a 1d array was expected. Please change the shape of y to (n_samples, ), for example using ravel().\n",
            "  y = column_or_1d(y, warn=True)\n",
            "/usr/local/lib/python3.6/dist-packages/sklearn/utils/validation.py:760: DataConversionWarning: A column-vector y was passed when a 1d array was expected. Please change the shape of y to (n_samples, ), for example using ravel().\n",
            "  y = column_or_1d(y, warn=True)\n",
            "/usr/local/lib/python3.6/dist-packages/sklearn/utils/validation.py:760: DataConversionWarning: A column-vector y was passed when a 1d array was expected. Please change the shape of y to (n_samples, ), for example using ravel().\n",
            "  y = column_or_1d(y, warn=True)\n",
            "/usr/local/lib/python3.6/dist-packages/sklearn/utils/validation.py:760: DataConversionWarning: A column-vector y was passed when a 1d array was expected. Please change the shape of y to (n_samples, ), for example using ravel().\n",
            "  y = column_or_1d(y, warn=True)\n"
          ],
          "name": "stderr"
        },
        {
          "output_type": "stream",
          "text": [
            "hyper-parameters:  {'kernel': 'rbf', 'gamma': 1.0, 'C': 30} log MSE:  19.52\n",
            "hyper-parameters:  {'kernel': 'rbf', 'gamma': 1.0, 'C': 50} log MSE:  19.51\n",
            "hyper-parameters:  {'kernel': 'rbf', 'gamma': 1.0, 'C': 100} log MSE:  19.48\n"
          ],
          "name": "stdout"
        },
        {
          "output_type": "stream",
          "text": [
            "/usr/local/lib/python3.6/dist-packages/sklearn/utils/validation.py:760: DataConversionWarning: A column-vector y was passed when a 1d array was expected. Please change the shape of y to (n_samples, ), for example using ravel().\n",
            "  y = column_or_1d(y, warn=True)\n",
            "/usr/local/lib/python3.6/dist-packages/sklearn/utils/validation.py:760: DataConversionWarning: A column-vector y was passed when a 1d array was expected. Please change the shape of y to (n_samples, ), for example using ravel().\n",
            "  y = column_or_1d(y, warn=True)\n",
            "/usr/local/lib/python3.6/dist-packages/sklearn/utils/validation.py:760: DataConversionWarning: A column-vector y was passed when a 1d array was expected. Please change the shape of y to (n_samples, ), for example using ravel().\n",
            "  y = column_or_1d(y, warn=True)\n"
          ],
          "name": "stderr"
        },
        {
          "output_type": "stream",
          "text": [
            "hyper-parameters:  {'kernel': 'rbf', 'gamma': 1.0, 'C': 300} log MSE:  19.37\n",
            "hyper-parameters:  {'kernel': 'rbf', 'gamma': 1.0, 'C': 500} log MSE:  19.286\n"
          ],
          "name": "stdout"
        },
        {
          "output_type": "stream",
          "text": [
            "/usr/local/lib/python3.6/dist-packages/sklearn/utils/validation.py:760: DataConversionWarning: A column-vector y was passed when a 1d array was expected. Please change the shape of y to (n_samples, ), for example using ravel().\n",
            "  y = column_or_1d(y, warn=True)\n",
            "/usr/local/lib/python3.6/dist-packages/sklearn/utils/validation.py:760: DataConversionWarning: A column-vector y was passed when a 1d array was expected. Please change the shape of y to (n_samples, ), for example using ravel().\n",
            "  y = column_or_1d(y, warn=True)\n"
          ],
          "name": "stderr"
        },
        {
          "output_type": "stream",
          "text": [
            "hyper-parameters:  {'kernel': 'rbf', 'gamma': 1.0, 'C': 1000} log MSE:  19.157\n",
            "hyper-parameters:  {'kernel': 'rbf', 'gamma': 1.0, 'C': 3000} log MSE:  19.124\n"
          ],
          "name": "stdout"
        },
        {
          "output_type": "stream",
          "text": [
            "/usr/local/lib/python3.6/dist-packages/sklearn/utils/validation.py:760: DataConversionWarning: A column-vector y was passed when a 1d array was expected. Please change the shape of y to (n_samples, ), for example using ravel().\n",
            "  y = column_or_1d(y, warn=True)\n",
            "/usr/local/lib/python3.6/dist-packages/sklearn/utils/validation.py:760: DataConversionWarning: A column-vector y was passed when a 1d array was expected. Please change the shape of y to (n_samples, ), for example using ravel().\n",
            "  y = column_or_1d(y, warn=True)\n"
          ],
          "name": "stderr"
        },
        {
          "output_type": "stream",
          "text": [
            "hyper-parameters:  {'kernel': 'rbf', 'gamma': 1.0, 'C': 5000} log MSE:  19.124\n",
            "hyper-parameters:  {'kernel': 'rbf', 'gamma': 1.0, 'C': 10000} log MSE:  19.124\n"
          ],
          "name": "stdout"
        },
        {
          "output_type": "stream",
          "text": [
            "/usr/local/lib/python3.6/dist-packages/sklearn/utils/validation.py:760: DataConversionWarning: A column-vector y was passed when a 1d array was expected. Please change the shape of y to (n_samples, ), for example using ravel().\n",
            "  y = column_or_1d(y, warn=True)\n",
            "/usr/local/lib/python3.6/dist-packages/sklearn/utils/validation.py:760: DataConversionWarning: A column-vector y was passed when a 1d array was expected. Please change the shape of y to (n_samples, ), for example using ravel().\n",
            "  y = column_or_1d(y, warn=True)\n"
          ],
          "name": "stderr"
        },
        {
          "output_type": "stream",
          "text": [
            "hyper-parameters:  {'kernel': 'rbf', 'gamma': 1.0, 'C': 30000} log MSE:  19.124\n",
            "hyper-parameters:  {'kernel': 'rbf', 'gamma': 1.0, 'C': 50000} log MSE:  19.124\n",
            "hyper-parameters:  {'kernel': 'sigmoid', 'gamma': 0.0001, 'C': 1} log MSE:  19.536\n"
          ],
          "name": "stdout"
        },
        {
          "output_type": "stream",
          "text": [
            "/usr/local/lib/python3.6/dist-packages/sklearn/utils/validation.py:760: DataConversionWarning: A column-vector y was passed when a 1d array was expected. Please change the shape of y to (n_samples, ), for example using ravel().\n",
            "  y = column_or_1d(y, warn=True)\n",
            "/usr/local/lib/python3.6/dist-packages/sklearn/utils/validation.py:760: DataConversionWarning: A column-vector y was passed when a 1d array was expected. Please change the shape of y to (n_samples, ), for example using ravel().\n",
            "  y = column_or_1d(y, warn=True)\n",
            "/usr/local/lib/python3.6/dist-packages/sklearn/utils/validation.py:760: DataConversionWarning: A column-vector y was passed when a 1d array was expected. Please change the shape of y to (n_samples, ), for example using ravel().\n",
            "  y = column_or_1d(y, warn=True)\n"
          ],
          "name": "stderr"
        },
        {
          "output_type": "stream",
          "text": [
            "hyper-parameters:  {'kernel': 'sigmoid', 'gamma': 0.0001, 'C': 3} log MSE:  19.536\n",
            "hyper-parameters:  {'kernel': 'sigmoid', 'gamma': 0.0001, 'C': 5} log MSE:  19.536\n",
            "hyper-parameters:  {'kernel': 'sigmoid', 'gamma': 0.0001, 'C': 10} log MSE:  19.536\n",
            "hyper-parameters:  {'kernel': 'sigmoid', 'gamma': 0.0001, 'C': 30} log MSE:  19.536\n",
            "hyper-parameters:  {'kernel': 'sigmoid', 'gamma': 0.0001, 'C': 50} log MSE:  19.536\n"
          ],
          "name": "stdout"
        },
        {
          "output_type": "stream",
          "text": [
            "/usr/local/lib/python3.6/dist-packages/sklearn/utils/validation.py:760: DataConversionWarning: A column-vector y was passed when a 1d array was expected. Please change the shape of y to (n_samples, ), for example using ravel().\n",
            "  y = column_or_1d(y, warn=True)\n",
            "/usr/local/lib/python3.6/dist-packages/sklearn/utils/validation.py:760: DataConversionWarning: A column-vector y was passed when a 1d array was expected. Please change the shape of y to (n_samples, ), for example using ravel().\n",
            "  y = column_or_1d(y, warn=True)\n",
            "/usr/local/lib/python3.6/dist-packages/sklearn/utils/validation.py:760: DataConversionWarning: A column-vector y was passed when a 1d array was expected. Please change the shape of y to (n_samples, ), for example using ravel().\n",
            "  y = column_or_1d(y, warn=True)\n",
            "/usr/local/lib/python3.6/dist-packages/sklearn/utils/validation.py:760: DataConversionWarning: A column-vector y was passed when a 1d array was expected. Please change the shape of y to (n_samples, ), for example using ravel().\n",
            "  y = column_or_1d(y, warn=True)\n",
            "/usr/local/lib/python3.6/dist-packages/sklearn/utils/validation.py:760: DataConversionWarning: A column-vector y was passed when a 1d array was expected. Please change the shape of y to (n_samples, ), for example using ravel().\n",
            "  y = column_or_1d(y, warn=True)\n"
          ],
          "name": "stderr"
        },
        {
          "output_type": "stream",
          "text": [
            "hyper-parameters:  {'kernel': 'sigmoid', 'gamma': 0.0001, 'C': 100} log MSE:  19.536\n",
            "hyper-parameters:  {'kernel': 'sigmoid', 'gamma': 0.0001, 'C': 300} log MSE:  19.536\n",
            "hyper-parameters:  {'kernel': 'sigmoid', 'gamma': 0.0001, 'C': 500} log MSE:  19.536\n",
            "hyper-parameters:  {'kernel': 'sigmoid', 'gamma': 0.0001, 'C': 1000} log MSE:  19.536\n",
            "hyper-parameters:  {'kernel': 'sigmoid', 'gamma': 0.0001, 'C': 3000} log MSE:  19.536\n"
          ],
          "name": "stdout"
        },
        {
          "output_type": "stream",
          "text": [
            "/usr/local/lib/python3.6/dist-packages/sklearn/utils/validation.py:760: DataConversionWarning: A column-vector y was passed when a 1d array was expected. Please change the shape of y to (n_samples, ), for example using ravel().\n",
            "  y = column_or_1d(y, warn=True)\n",
            "/usr/local/lib/python3.6/dist-packages/sklearn/utils/validation.py:760: DataConversionWarning: A column-vector y was passed when a 1d array was expected. Please change the shape of y to (n_samples, ), for example using ravel().\n",
            "  y = column_or_1d(y, warn=True)\n",
            "/usr/local/lib/python3.6/dist-packages/sklearn/utils/validation.py:760: DataConversionWarning: A column-vector y was passed when a 1d array was expected. Please change the shape of y to (n_samples, ), for example using ravel().\n",
            "  y = column_or_1d(y, warn=True)\n",
            "/usr/local/lib/python3.6/dist-packages/sklearn/utils/validation.py:760: DataConversionWarning: A column-vector y was passed when a 1d array was expected. Please change the shape of y to (n_samples, ), for example using ravel().\n",
            "  y = column_or_1d(y, warn=True)\n",
            "/usr/local/lib/python3.6/dist-packages/sklearn/utils/validation.py:760: DataConversionWarning: A column-vector y was passed when a 1d array was expected. Please change the shape of y to (n_samples, ), for example using ravel().\n",
            "  y = column_or_1d(y, warn=True)\n"
          ],
          "name": "stderr"
        },
        {
          "output_type": "stream",
          "text": [
            "hyper-parameters:  {'kernel': 'sigmoid', 'gamma': 0.0001, 'C': 5000} log MSE:  19.536\n",
            "hyper-parameters:  {'kernel': 'sigmoid', 'gamma': 0.0001, 'C': 10000} log MSE:  19.536\n",
            "hyper-parameters:  {'kernel': 'sigmoid', 'gamma': 0.0001, 'C': 30000} log MSE:  19.536\n",
            "hyper-parameters:  {'kernel': 'sigmoid', 'gamma': 0.0001, 'C': 50000} log MSE:  19.536\n",
            "hyper-parameters:  {'kernel': 'sigmoid', 'gamma': 0.001, 'C': 1} log MSE:  19.536\n"
          ],
          "name": "stdout"
        },
        {
          "output_type": "stream",
          "text": [
            "/usr/local/lib/python3.6/dist-packages/sklearn/utils/validation.py:760: DataConversionWarning: A column-vector y was passed when a 1d array was expected. Please change the shape of y to (n_samples, ), for example using ravel().\n",
            "  y = column_or_1d(y, warn=True)\n",
            "/usr/local/lib/python3.6/dist-packages/sklearn/utils/validation.py:760: DataConversionWarning: A column-vector y was passed when a 1d array was expected. Please change the shape of y to (n_samples, ), for example using ravel().\n",
            "  y = column_or_1d(y, warn=True)\n",
            "/usr/local/lib/python3.6/dist-packages/sklearn/utils/validation.py:760: DataConversionWarning: A column-vector y was passed when a 1d array was expected. Please change the shape of y to (n_samples, ), for example using ravel().\n",
            "  y = column_or_1d(y, warn=True)\n",
            "/usr/local/lib/python3.6/dist-packages/sklearn/utils/validation.py:760: DataConversionWarning: A column-vector y was passed when a 1d array was expected. Please change the shape of y to (n_samples, ), for example using ravel().\n",
            "  y = column_or_1d(y, warn=True)\n",
            "/usr/local/lib/python3.6/dist-packages/sklearn/utils/validation.py:760: DataConversionWarning: A column-vector y was passed when a 1d array was expected. Please change the shape of y to (n_samples, ), for example using ravel().\n",
            "  y = column_or_1d(y, warn=True)\n"
          ],
          "name": "stderr"
        },
        {
          "output_type": "stream",
          "text": [
            "hyper-parameters:  {'kernel': 'sigmoid', 'gamma': 0.001, 'C': 3} log MSE:  19.536\n",
            "hyper-parameters:  {'kernel': 'sigmoid', 'gamma': 0.001, 'C': 5} log MSE:  19.536\n",
            "hyper-parameters:  {'kernel': 'sigmoid', 'gamma': 0.001, 'C': 10} log MSE:  19.536\n",
            "hyper-parameters:  {'kernel': 'sigmoid', 'gamma': 0.001, 'C': 30} log MSE:  19.536\n",
            "hyper-parameters:  {'kernel': 'sigmoid', 'gamma': 0.001, 'C': 50} log MSE:  19.536\n"
          ],
          "name": "stdout"
        },
        {
          "output_type": "stream",
          "text": [
            "/usr/local/lib/python3.6/dist-packages/sklearn/utils/validation.py:760: DataConversionWarning: A column-vector y was passed when a 1d array was expected. Please change the shape of y to (n_samples, ), for example using ravel().\n",
            "  y = column_or_1d(y, warn=True)\n",
            "/usr/local/lib/python3.6/dist-packages/sklearn/utils/validation.py:760: DataConversionWarning: A column-vector y was passed when a 1d array was expected. Please change the shape of y to (n_samples, ), for example using ravel().\n",
            "  y = column_or_1d(y, warn=True)\n",
            "/usr/local/lib/python3.6/dist-packages/sklearn/utils/validation.py:760: DataConversionWarning: A column-vector y was passed when a 1d array was expected. Please change the shape of y to (n_samples, ), for example using ravel().\n",
            "  y = column_or_1d(y, warn=True)\n",
            "/usr/local/lib/python3.6/dist-packages/sklearn/utils/validation.py:760: DataConversionWarning: A column-vector y was passed when a 1d array was expected. Please change the shape of y to (n_samples, ), for example using ravel().\n",
            "  y = column_or_1d(y, warn=True)\n",
            "/usr/local/lib/python3.6/dist-packages/sklearn/utils/validation.py:760: DataConversionWarning: A column-vector y was passed when a 1d array was expected. Please change the shape of y to (n_samples, ), for example using ravel().\n",
            "  y = column_or_1d(y, warn=True)\n"
          ],
          "name": "stderr"
        },
        {
          "output_type": "stream",
          "text": [
            "hyper-parameters:  {'kernel': 'sigmoid', 'gamma': 0.001, 'C': 100} log MSE:  19.536\n",
            "hyper-parameters:  {'kernel': 'sigmoid', 'gamma': 0.001, 'C': 300} log MSE:  19.536\n",
            "hyper-parameters:  {'kernel': 'sigmoid', 'gamma': 0.001, 'C': 500} log MSE:  19.536\n",
            "hyper-parameters:  {'kernel': 'sigmoid', 'gamma': 0.001, 'C': 1000} log MSE:  19.536\n",
            "hyper-parameters:  {'kernel': 'sigmoid', 'gamma': 0.001, 'C': 3000} log MSE:  19.536\n"
          ],
          "name": "stdout"
        },
        {
          "output_type": "stream",
          "text": [
            "/usr/local/lib/python3.6/dist-packages/sklearn/utils/validation.py:760: DataConversionWarning: A column-vector y was passed when a 1d array was expected. Please change the shape of y to (n_samples, ), for example using ravel().\n",
            "  y = column_or_1d(y, warn=True)\n",
            "/usr/local/lib/python3.6/dist-packages/sklearn/utils/validation.py:760: DataConversionWarning: A column-vector y was passed when a 1d array was expected. Please change the shape of y to (n_samples, ), for example using ravel().\n",
            "  y = column_or_1d(y, warn=True)\n",
            "/usr/local/lib/python3.6/dist-packages/sklearn/utils/validation.py:760: DataConversionWarning: A column-vector y was passed when a 1d array was expected. Please change the shape of y to (n_samples, ), for example using ravel().\n",
            "  y = column_or_1d(y, warn=True)\n",
            "/usr/local/lib/python3.6/dist-packages/sklearn/utils/validation.py:760: DataConversionWarning: A column-vector y was passed when a 1d array was expected. Please change the shape of y to (n_samples, ), for example using ravel().\n",
            "  y = column_or_1d(y, warn=True)\n",
            "/usr/local/lib/python3.6/dist-packages/sklearn/utils/validation.py:760: DataConversionWarning: A column-vector y was passed when a 1d array was expected. Please change the shape of y to (n_samples, ), for example using ravel().\n",
            "  y = column_or_1d(y, warn=True)\n"
          ],
          "name": "stderr"
        },
        {
          "output_type": "stream",
          "text": [
            "hyper-parameters:  {'kernel': 'sigmoid', 'gamma': 0.001, 'C': 5000} log MSE:  19.536\n",
            "hyper-parameters:  {'kernel': 'sigmoid', 'gamma': 0.001, 'C': 10000} log MSE:  19.536\n",
            "hyper-parameters:  {'kernel': 'sigmoid', 'gamma': 0.001, 'C': 30000} log MSE:  19.536\n",
            "hyper-parameters:  {'kernel': 'sigmoid', 'gamma': 0.001, 'C': 50000} log MSE:  19.536\n",
            "hyper-parameters:  {'kernel': 'sigmoid', 'gamma': 0.01, 'C': 1} log MSE:  19.536\n"
          ],
          "name": "stdout"
        },
        {
          "output_type": "stream",
          "text": [
            "/usr/local/lib/python3.6/dist-packages/sklearn/utils/validation.py:760: DataConversionWarning: A column-vector y was passed when a 1d array was expected. Please change the shape of y to (n_samples, ), for example using ravel().\n",
            "  y = column_or_1d(y, warn=True)\n",
            "/usr/local/lib/python3.6/dist-packages/sklearn/utils/validation.py:760: DataConversionWarning: A column-vector y was passed when a 1d array was expected. Please change the shape of y to (n_samples, ), for example using ravel().\n",
            "  y = column_or_1d(y, warn=True)\n",
            "/usr/local/lib/python3.6/dist-packages/sklearn/utils/validation.py:760: DataConversionWarning: A column-vector y was passed when a 1d array was expected. Please change the shape of y to (n_samples, ), for example using ravel().\n",
            "  y = column_or_1d(y, warn=True)\n",
            "/usr/local/lib/python3.6/dist-packages/sklearn/utils/validation.py:760: DataConversionWarning: A column-vector y was passed when a 1d array was expected. Please change the shape of y to (n_samples, ), for example using ravel().\n",
            "  y = column_or_1d(y, warn=True)\n",
            "/usr/local/lib/python3.6/dist-packages/sklearn/utils/validation.py:760: DataConversionWarning: A column-vector y was passed when a 1d array was expected. Please change the shape of y to (n_samples, ), for example using ravel().\n",
            "  y = column_or_1d(y, warn=True)\n"
          ],
          "name": "stderr"
        },
        {
          "output_type": "stream",
          "text": [
            "hyper-parameters:  {'kernel': 'sigmoid', 'gamma': 0.01, 'C': 3} log MSE:  19.536\n",
            "hyper-parameters:  {'kernel': 'sigmoid', 'gamma': 0.01, 'C': 5} log MSE:  19.536\n",
            "hyper-parameters:  {'kernel': 'sigmoid', 'gamma': 0.01, 'C': 10} log MSE:  19.536\n",
            "hyper-parameters:  {'kernel': 'sigmoid', 'gamma': 0.01, 'C': 30} log MSE:  19.536\n",
            "hyper-parameters:  {'kernel': 'sigmoid', 'gamma': 0.01, 'C': 50} log MSE:  19.536\n"
          ],
          "name": "stdout"
        },
        {
          "output_type": "stream",
          "text": [
            "/usr/local/lib/python3.6/dist-packages/sklearn/utils/validation.py:760: DataConversionWarning: A column-vector y was passed when a 1d array was expected. Please change the shape of y to (n_samples, ), for example using ravel().\n",
            "  y = column_or_1d(y, warn=True)\n",
            "/usr/local/lib/python3.6/dist-packages/sklearn/utils/validation.py:760: DataConversionWarning: A column-vector y was passed when a 1d array was expected. Please change the shape of y to (n_samples, ), for example using ravel().\n",
            "  y = column_or_1d(y, warn=True)\n",
            "/usr/local/lib/python3.6/dist-packages/sklearn/utils/validation.py:760: DataConversionWarning: A column-vector y was passed when a 1d array was expected. Please change the shape of y to (n_samples, ), for example using ravel().\n",
            "  y = column_or_1d(y, warn=True)\n",
            "/usr/local/lib/python3.6/dist-packages/sklearn/utils/validation.py:760: DataConversionWarning: A column-vector y was passed when a 1d array was expected. Please change the shape of y to (n_samples, ), for example using ravel().\n",
            "  y = column_or_1d(y, warn=True)\n",
            "/usr/local/lib/python3.6/dist-packages/sklearn/utils/validation.py:760: DataConversionWarning: A column-vector y was passed when a 1d array was expected. Please change the shape of y to (n_samples, ), for example using ravel().\n",
            "  y = column_or_1d(y, warn=True)\n"
          ],
          "name": "stderr"
        },
        {
          "output_type": "stream",
          "text": [
            "hyper-parameters:  {'kernel': 'sigmoid', 'gamma': 0.01, 'C': 100} log MSE:  19.536\n",
            "hyper-parameters:  {'kernel': 'sigmoid', 'gamma': 0.01, 'C': 300} log MSE:  19.536\n",
            "hyper-parameters:  {'kernel': 'sigmoid', 'gamma': 0.01, 'C': 500} log MSE:  19.536\n",
            "hyper-parameters:  {'kernel': 'sigmoid', 'gamma': 0.01, 'C': 1000} log MSE:  19.536\n",
            "hyper-parameters:  {'kernel': 'sigmoid', 'gamma': 0.01, 'C': 3000} log MSE:  19.536\n"
          ],
          "name": "stdout"
        },
        {
          "output_type": "stream",
          "text": [
            "/usr/local/lib/python3.6/dist-packages/sklearn/utils/validation.py:760: DataConversionWarning: A column-vector y was passed when a 1d array was expected. Please change the shape of y to (n_samples, ), for example using ravel().\n",
            "  y = column_or_1d(y, warn=True)\n",
            "/usr/local/lib/python3.6/dist-packages/sklearn/utils/validation.py:760: DataConversionWarning: A column-vector y was passed when a 1d array was expected. Please change the shape of y to (n_samples, ), for example using ravel().\n",
            "  y = column_or_1d(y, warn=True)\n",
            "/usr/local/lib/python3.6/dist-packages/sklearn/utils/validation.py:760: DataConversionWarning: A column-vector y was passed when a 1d array was expected. Please change the shape of y to (n_samples, ), for example using ravel().\n",
            "  y = column_or_1d(y, warn=True)\n",
            "/usr/local/lib/python3.6/dist-packages/sklearn/utils/validation.py:760: DataConversionWarning: A column-vector y was passed when a 1d array was expected. Please change the shape of y to (n_samples, ), for example using ravel().\n",
            "  y = column_or_1d(y, warn=True)\n",
            "/usr/local/lib/python3.6/dist-packages/sklearn/utils/validation.py:760: DataConversionWarning: A column-vector y was passed when a 1d array was expected. Please change the shape of y to (n_samples, ), for example using ravel().\n",
            "  y = column_or_1d(y, warn=True)\n"
          ],
          "name": "stderr"
        },
        {
          "output_type": "stream",
          "text": [
            "hyper-parameters:  {'kernel': 'sigmoid', 'gamma': 0.01, 'C': 5000} log MSE:  19.536\n",
            "hyper-parameters:  {'kernel': 'sigmoid', 'gamma': 0.01, 'C': 10000} log MSE:  19.536\n",
            "hyper-parameters:  {'kernel': 'sigmoid', 'gamma': 0.01, 'C': 30000} log MSE:  19.536\n",
            "hyper-parameters:  {'kernel': 'sigmoid', 'gamma': 0.01, 'C': 50000} log MSE:  19.536\n",
            "hyper-parameters:  {'kernel': 'sigmoid', 'gamma': 0.1, 'C': 1} log MSE:  19.536\n"
          ],
          "name": "stdout"
        },
        {
          "output_type": "stream",
          "text": [
            "/usr/local/lib/python3.6/dist-packages/sklearn/utils/validation.py:760: DataConversionWarning: A column-vector y was passed when a 1d array was expected. Please change the shape of y to (n_samples, ), for example using ravel().\n",
            "  y = column_or_1d(y, warn=True)\n",
            "/usr/local/lib/python3.6/dist-packages/sklearn/utils/validation.py:760: DataConversionWarning: A column-vector y was passed when a 1d array was expected. Please change the shape of y to (n_samples, ), for example using ravel().\n",
            "  y = column_or_1d(y, warn=True)\n",
            "/usr/local/lib/python3.6/dist-packages/sklearn/utils/validation.py:760: DataConversionWarning: A column-vector y was passed when a 1d array was expected. Please change the shape of y to (n_samples, ), for example using ravel().\n",
            "  y = column_or_1d(y, warn=True)\n",
            "/usr/local/lib/python3.6/dist-packages/sklearn/utils/validation.py:760: DataConversionWarning: A column-vector y was passed when a 1d array was expected. Please change the shape of y to (n_samples, ), for example using ravel().\n",
            "  y = column_or_1d(y, warn=True)\n",
            "/usr/local/lib/python3.6/dist-packages/sklearn/utils/validation.py:760: DataConversionWarning: A column-vector y was passed when a 1d array was expected. Please change the shape of y to (n_samples, ), for example using ravel().\n",
            "  y = column_or_1d(y, warn=True)\n"
          ],
          "name": "stderr"
        },
        {
          "output_type": "stream",
          "text": [
            "hyper-parameters:  {'kernel': 'sigmoid', 'gamma': 0.1, 'C': 3} log MSE:  19.536\n",
            "hyper-parameters:  {'kernel': 'sigmoid', 'gamma': 0.1, 'C': 5} log MSE:  19.536\n",
            "hyper-parameters:  {'kernel': 'sigmoid', 'gamma': 0.1, 'C': 10} log MSE:  19.536\n",
            "hyper-parameters:  {'kernel': 'sigmoid', 'gamma': 0.1, 'C': 30} log MSE:  19.536\n",
            "hyper-parameters:  {'kernel': 'sigmoid', 'gamma': 0.1, 'C': 50} log MSE:  19.536\n"
          ],
          "name": "stdout"
        },
        {
          "output_type": "stream",
          "text": [
            "/usr/local/lib/python3.6/dist-packages/sklearn/utils/validation.py:760: DataConversionWarning: A column-vector y was passed when a 1d array was expected. Please change the shape of y to (n_samples, ), for example using ravel().\n",
            "  y = column_or_1d(y, warn=True)\n",
            "/usr/local/lib/python3.6/dist-packages/sklearn/utils/validation.py:760: DataConversionWarning: A column-vector y was passed when a 1d array was expected. Please change the shape of y to (n_samples, ), for example using ravel().\n",
            "  y = column_or_1d(y, warn=True)\n",
            "/usr/local/lib/python3.6/dist-packages/sklearn/utils/validation.py:760: DataConversionWarning: A column-vector y was passed when a 1d array was expected. Please change the shape of y to (n_samples, ), for example using ravel().\n",
            "  y = column_or_1d(y, warn=True)\n",
            "/usr/local/lib/python3.6/dist-packages/sklearn/utils/validation.py:760: DataConversionWarning: A column-vector y was passed when a 1d array was expected. Please change the shape of y to (n_samples, ), for example using ravel().\n",
            "  y = column_or_1d(y, warn=True)\n",
            "/usr/local/lib/python3.6/dist-packages/sklearn/utils/validation.py:760: DataConversionWarning: A column-vector y was passed when a 1d array was expected. Please change the shape of y to (n_samples, ), for example using ravel().\n",
            "  y = column_or_1d(y, warn=True)\n"
          ],
          "name": "stderr"
        },
        {
          "output_type": "stream",
          "text": [
            "hyper-parameters:  {'kernel': 'sigmoid', 'gamma': 0.1, 'C': 100} log MSE:  19.536\n",
            "hyper-parameters:  {'kernel': 'sigmoid', 'gamma': 0.1, 'C': 300} log MSE:  19.536\n",
            "hyper-parameters:  {'kernel': 'sigmoid', 'gamma': 0.1, 'C': 500} log MSE:  19.536\n",
            "hyper-parameters:  {'kernel': 'sigmoid', 'gamma': 0.1, 'C': 1000} log MSE:  19.536\n",
            "hyper-parameters:  {'kernel': 'sigmoid', 'gamma': 0.1, 'C': 3000} log MSE:  19.536\n"
          ],
          "name": "stdout"
        },
        {
          "output_type": "stream",
          "text": [
            "/usr/local/lib/python3.6/dist-packages/sklearn/utils/validation.py:760: DataConversionWarning: A column-vector y was passed when a 1d array was expected. Please change the shape of y to (n_samples, ), for example using ravel().\n",
            "  y = column_or_1d(y, warn=True)\n",
            "/usr/local/lib/python3.6/dist-packages/sklearn/utils/validation.py:760: DataConversionWarning: A column-vector y was passed when a 1d array was expected. Please change the shape of y to (n_samples, ), for example using ravel().\n",
            "  y = column_or_1d(y, warn=True)\n",
            "/usr/local/lib/python3.6/dist-packages/sklearn/utils/validation.py:760: DataConversionWarning: A column-vector y was passed when a 1d array was expected. Please change the shape of y to (n_samples, ), for example using ravel().\n",
            "  y = column_or_1d(y, warn=True)\n",
            "/usr/local/lib/python3.6/dist-packages/sklearn/utils/validation.py:760: DataConversionWarning: A column-vector y was passed when a 1d array was expected. Please change the shape of y to (n_samples, ), for example using ravel().\n",
            "  y = column_or_1d(y, warn=True)\n",
            "/usr/local/lib/python3.6/dist-packages/sklearn/utils/validation.py:760: DataConversionWarning: A column-vector y was passed when a 1d array was expected. Please change the shape of y to (n_samples, ), for example using ravel().\n",
            "  y = column_or_1d(y, warn=True)\n"
          ],
          "name": "stderr"
        },
        {
          "output_type": "stream",
          "text": [
            "hyper-parameters:  {'kernel': 'sigmoid', 'gamma': 0.1, 'C': 5000} log MSE:  19.536\n",
            "hyper-parameters:  {'kernel': 'sigmoid', 'gamma': 0.1, 'C': 10000} log MSE:  19.536\n",
            "hyper-parameters:  {'kernel': 'sigmoid', 'gamma': 0.1, 'C': 30000} log MSE:  19.536\n",
            "hyper-parameters:  {'kernel': 'sigmoid', 'gamma': 0.1, 'C': 50000} log MSE:  19.536\n",
            "hyper-parameters:  {'kernel': 'sigmoid', 'gamma': 0.2, 'C': 1} log MSE:  19.536\n"
          ],
          "name": "stdout"
        },
        {
          "output_type": "stream",
          "text": [
            "/usr/local/lib/python3.6/dist-packages/sklearn/utils/validation.py:760: DataConversionWarning: A column-vector y was passed when a 1d array was expected. Please change the shape of y to (n_samples, ), for example using ravel().\n",
            "  y = column_or_1d(y, warn=True)\n",
            "/usr/local/lib/python3.6/dist-packages/sklearn/utils/validation.py:760: DataConversionWarning: A column-vector y was passed when a 1d array was expected. Please change the shape of y to (n_samples, ), for example using ravel().\n",
            "  y = column_or_1d(y, warn=True)\n",
            "/usr/local/lib/python3.6/dist-packages/sklearn/utils/validation.py:760: DataConversionWarning: A column-vector y was passed when a 1d array was expected. Please change the shape of y to (n_samples, ), for example using ravel().\n",
            "  y = column_or_1d(y, warn=True)\n",
            "/usr/local/lib/python3.6/dist-packages/sklearn/utils/validation.py:760: DataConversionWarning: A column-vector y was passed when a 1d array was expected. Please change the shape of y to (n_samples, ), for example using ravel().\n",
            "  y = column_or_1d(y, warn=True)\n",
            "/usr/local/lib/python3.6/dist-packages/sklearn/utils/validation.py:760: DataConversionWarning: A column-vector y was passed when a 1d array was expected. Please change the shape of y to (n_samples, ), for example using ravel().\n",
            "  y = column_or_1d(y, warn=True)\n"
          ],
          "name": "stderr"
        },
        {
          "output_type": "stream",
          "text": [
            "hyper-parameters:  {'kernel': 'sigmoid', 'gamma': 0.2, 'C': 3} log MSE:  19.536\n",
            "hyper-parameters:  {'kernel': 'sigmoid', 'gamma': 0.2, 'C': 5} log MSE:  19.536\n",
            "hyper-parameters:  {'kernel': 'sigmoid', 'gamma': 0.2, 'C': 10} log MSE:  19.536\n",
            "hyper-parameters:  {'kernel': 'sigmoid', 'gamma': 0.2, 'C': 30} log MSE:  19.536\n",
            "hyper-parameters:  {'kernel': 'sigmoid', 'gamma': 0.2, 'C': 50} log MSE:  19.536\n"
          ],
          "name": "stdout"
        },
        {
          "output_type": "stream",
          "text": [
            "/usr/local/lib/python3.6/dist-packages/sklearn/utils/validation.py:760: DataConversionWarning: A column-vector y was passed when a 1d array was expected. Please change the shape of y to (n_samples, ), for example using ravel().\n",
            "  y = column_or_1d(y, warn=True)\n",
            "/usr/local/lib/python3.6/dist-packages/sklearn/utils/validation.py:760: DataConversionWarning: A column-vector y was passed when a 1d array was expected. Please change the shape of y to (n_samples, ), for example using ravel().\n",
            "  y = column_or_1d(y, warn=True)\n",
            "/usr/local/lib/python3.6/dist-packages/sklearn/utils/validation.py:760: DataConversionWarning: A column-vector y was passed when a 1d array was expected. Please change the shape of y to (n_samples, ), for example using ravel().\n",
            "  y = column_or_1d(y, warn=True)\n",
            "/usr/local/lib/python3.6/dist-packages/sklearn/utils/validation.py:760: DataConversionWarning: A column-vector y was passed when a 1d array was expected. Please change the shape of y to (n_samples, ), for example using ravel().\n",
            "  y = column_or_1d(y, warn=True)\n",
            "/usr/local/lib/python3.6/dist-packages/sklearn/utils/validation.py:760: DataConversionWarning: A column-vector y was passed when a 1d array was expected. Please change the shape of y to (n_samples, ), for example using ravel().\n",
            "  y = column_or_1d(y, warn=True)\n"
          ],
          "name": "stderr"
        },
        {
          "output_type": "stream",
          "text": [
            "hyper-parameters:  {'kernel': 'sigmoid', 'gamma': 0.2, 'C': 100} log MSE:  19.536\n",
            "hyper-parameters:  {'kernel': 'sigmoid', 'gamma': 0.2, 'C': 300} log MSE:  19.536\n",
            "hyper-parameters:  {'kernel': 'sigmoid', 'gamma': 0.2, 'C': 500} log MSE:  19.536\n",
            "hyper-parameters:  {'kernel': 'sigmoid', 'gamma': 0.2, 'C': 1000} log MSE:  19.536\n",
            "hyper-parameters:  {'kernel': 'sigmoid', 'gamma': 0.2, 'C': 3000} log MSE:  19.536\n"
          ],
          "name": "stdout"
        },
        {
          "output_type": "stream",
          "text": [
            "/usr/local/lib/python3.6/dist-packages/sklearn/utils/validation.py:760: DataConversionWarning: A column-vector y was passed when a 1d array was expected. Please change the shape of y to (n_samples, ), for example using ravel().\n",
            "  y = column_or_1d(y, warn=True)\n",
            "/usr/local/lib/python3.6/dist-packages/sklearn/utils/validation.py:760: DataConversionWarning: A column-vector y was passed when a 1d array was expected. Please change the shape of y to (n_samples, ), for example using ravel().\n",
            "  y = column_or_1d(y, warn=True)\n",
            "/usr/local/lib/python3.6/dist-packages/sklearn/utils/validation.py:760: DataConversionWarning: A column-vector y was passed when a 1d array was expected. Please change the shape of y to (n_samples, ), for example using ravel().\n",
            "  y = column_or_1d(y, warn=True)\n",
            "/usr/local/lib/python3.6/dist-packages/sklearn/utils/validation.py:760: DataConversionWarning: A column-vector y was passed when a 1d array was expected. Please change the shape of y to (n_samples, ), for example using ravel().\n",
            "  y = column_or_1d(y, warn=True)\n",
            "/usr/local/lib/python3.6/dist-packages/sklearn/utils/validation.py:760: DataConversionWarning: A column-vector y was passed when a 1d array was expected. Please change the shape of y to (n_samples, ), for example using ravel().\n",
            "  y = column_or_1d(y, warn=True)\n"
          ],
          "name": "stderr"
        },
        {
          "output_type": "stream",
          "text": [
            "hyper-parameters:  {'kernel': 'sigmoid', 'gamma': 0.2, 'C': 5000} log MSE:  19.536\n",
            "hyper-parameters:  {'kernel': 'sigmoid', 'gamma': 0.2, 'C': 10000} log MSE:  19.536\n",
            "hyper-parameters:  {'kernel': 'sigmoid', 'gamma': 0.2, 'C': 30000} log MSE:  19.536\n",
            "hyper-parameters:  {'kernel': 'sigmoid', 'gamma': 0.2, 'C': 50000} log MSE:  19.536\n",
            "hyper-parameters:  {'kernel': 'sigmoid', 'gamma': 0.3, 'C': 1} log MSE:  19.536\n"
          ],
          "name": "stdout"
        },
        {
          "output_type": "stream",
          "text": [
            "/usr/local/lib/python3.6/dist-packages/sklearn/utils/validation.py:760: DataConversionWarning: A column-vector y was passed when a 1d array was expected. Please change the shape of y to (n_samples, ), for example using ravel().\n",
            "  y = column_or_1d(y, warn=True)\n",
            "/usr/local/lib/python3.6/dist-packages/sklearn/utils/validation.py:760: DataConversionWarning: A column-vector y was passed when a 1d array was expected. Please change the shape of y to (n_samples, ), for example using ravel().\n",
            "  y = column_or_1d(y, warn=True)\n",
            "/usr/local/lib/python3.6/dist-packages/sklearn/utils/validation.py:760: DataConversionWarning: A column-vector y was passed when a 1d array was expected. Please change the shape of y to (n_samples, ), for example using ravel().\n",
            "  y = column_or_1d(y, warn=True)\n",
            "/usr/local/lib/python3.6/dist-packages/sklearn/utils/validation.py:760: DataConversionWarning: A column-vector y was passed when a 1d array was expected. Please change the shape of y to (n_samples, ), for example using ravel().\n",
            "  y = column_or_1d(y, warn=True)\n",
            "/usr/local/lib/python3.6/dist-packages/sklearn/utils/validation.py:760: DataConversionWarning: A column-vector y was passed when a 1d array was expected. Please change the shape of y to (n_samples, ), for example using ravel().\n",
            "  y = column_or_1d(y, warn=True)\n"
          ],
          "name": "stderr"
        },
        {
          "output_type": "stream",
          "text": [
            "hyper-parameters:  {'kernel': 'sigmoid', 'gamma': 0.3, 'C': 3} log MSE:  19.536\n",
            "hyper-parameters:  {'kernel': 'sigmoid', 'gamma': 0.3, 'C': 5} log MSE:  19.536\n",
            "hyper-parameters:  {'kernel': 'sigmoid', 'gamma': 0.3, 'C': 10} log MSE:  19.536\n",
            "hyper-parameters:  {'kernel': 'sigmoid', 'gamma': 0.3, 'C': 30} log MSE:  19.536\n",
            "hyper-parameters:  {'kernel': 'sigmoid', 'gamma': 0.3, 'C': 50} log MSE:  19.536\n"
          ],
          "name": "stdout"
        },
        {
          "output_type": "stream",
          "text": [
            "/usr/local/lib/python3.6/dist-packages/sklearn/utils/validation.py:760: DataConversionWarning: A column-vector y was passed when a 1d array was expected. Please change the shape of y to (n_samples, ), for example using ravel().\n",
            "  y = column_or_1d(y, warn=True)\n",
            "/usr/local/lib/python3.6/dist-packages/sklearn/utils/validation.py:760: DataConversionWarning: A column-vector y was passed when a 1d array was expected. Please change the shape of y to (n_samples, ), for example using ravel().\n",
            "  y = column_or_1d(y, warn=True)\n",
            "/usr/local/lib/python3.6/dist-packages/sklearn/utils/validation.py:760: DataConversionWarning: A column-vector y was passed when a 1d array was expected. Please change the shape of y to (n_samples, ), for example using ravel().\n",
            "  y = column_or_1d(y, warn=True)\n",
            "/usr/local/lib/python3.6/dist-packages/sklearn/utils/validation.py:760: DataConversionWarning: A column-vector y was passed when a 1d array was expected. Please change the shape of y to (n_samples, ), for example using ravel().\n",
            "  y = column_or_1d(y, warn=True)\n",
            "/usr/local/lib/python3.6/dist-packages/sklearn/utils/validation.py:760: DataConversionWarning: A column-vector y was passed when a 1d array was expected. Please change the shape of y to (n_samples, ), for example using ravel().\n",
            "  y = column_or_1d(y, warn=True)\n"
          ],
          "name": "stderr"
        },
        {
          "output_type": "stream",
          "text": [
            "hyper-parameters:  {'kernel': 'sigmoid', 'gamma': 0.3, 'C': 100} log MSE:  19.536\n",
            "hyper-parameters:  {'kernel': 'sigmoid', 'gamma': 0.3, 'C': 300} log MSE:  19.536\n",
            "hyper-parameters:  {'kernel': 'sigmoid', 'gamma': 0.3, 'C': 500} log MSE:  19.536\n",
            "hyper-parameters:  {'kernel': 'sigmoid', 'gamma': 0.3, 'C': 1000} log MSE:  19.536\n",
            "hyper-parameters:  {'kernel': 'sigmoid', 'gamma': 0.3, 'C': 3000} log MSE:  19.536\n"
          ],
          "name": "stdout"
        },
        {
          "output_type": "stream",
          "text": [
            "/usr/local/lib/python3.6/dist-packages/sklearn/utils/validation.py:760: DataConversionWarning: A column-vector y was passed when a 1d array was expected. Please change the shape of y to (n_samples, ), for example using ravel().\n",
            "  y = column_or_1d(y, warn=True)\n",
            "/usr/local/lib/python3.6/dist-packages/sklearn/utils/validation.py:760: DataConversionWarning: A column-vector y was passed when a 1d array was expected. Please change the shape of y to (n_samples, ), for example using ravel().\n",
            "  y = column_or_1d(y, warn=True)\n",
            "/usr/local/lib/python3.6/dist-packages/sklearn/utils/validation.py:760: DataConversionWarning: A column-vector y was passed when a 1d array was expected. Please change the shape of y to (n_samples, ), for example using ravel().\n",
            "  y = column_or_1d(y, warn=True)\n",
            "/usr/local/lib/python3.6/dist-packages/sklearn/utils/validation.py:760: DataConversionWarning: A column-vector y was passed when a 1d array was expected. Please change the shape of y to (n_samples, ), for example using ravel().\n",
            "  y = column_or_1d(y, warn=True)\n",
            "/usr/local/lib/python3.6/dist-packages/sklearn/utils/validation.py:760: DataConversionWarning: A column-vector y was passed when a 1d array was expected. Please change the shape of y to (n_samples, ), for example using ravel().\n",
            "  y = column_or_1d(y, warn=True)\n",
            "/usr/local/lib/python3.6/dist-packages/sklearn/utils/validation.py:760: DataConversionWarning: A column-vector y was passed when a 1d array was expected. Please change the shape of y to (n_samples, ), for example using ravel().\n",
            "  y = column_or_1d(y, warn=True)\n"
          ],
          "name": "stderr"
        },
        {
          "output_type": "stream",
          "text": [
            "hyper-parameters:  {'kernel': 'sigmoid', 'gamma': 0.3, 'C': 5000} log MSE:  19.536\n",
            "hyper-parameters:  {'kernel': 'sigmoid', 'gamma': 0.3, 'C': 10000} log MSE:  19.536\n",
            "hyper-parameters:  {'kernel': 'sigmoid', 'gamma': 0.3, 'C': 30000} log MSE:  19.536\n",
            "hyper-parameters:  {'kernel': 'sigmoid', 'gamma': 0.3, 'C': 50000} log MSE:  19.536\n",
            "hyper-parameters:  {'kernel': 'sigmoid', 'gamma': 0.4, 'C': 1} log MSE:  19.536\n"
          ],
          "name": "stdout"
        },
        {
          "output_type": "stream",
          "text": [
            "/usr/local/lib/python3.6/dist-packages/sklearn/utils/validation.py:760: DataConversionWarning: A column-vector y was passed when a 1d array was expected. Please change the shape of y to (n_samples, ), for example using ravel().\n",
            "  y = column_or_1d(y, warn=True)\n",
            "/usr/local/lib/python3.6/dist-packages/sklearn/utils/validation.py:760: DataConversionWarning: A column-vector y was passed when a 1d array was expected. Please change the shape of y to (n_samples, ), for example using ravel().\n",
            "  y = column_or_1d(y, warn=True)\n",
            "/usr/local/lib/python3.6/dist-packages/sklearn/utils/validation.py:760: DataConversionWarning: A column-vector y was passed when a 1d array was expected. Please change the shape of y to (n_samples, ), for example using ravel().\n",
            "  y = column_or_1d(y, warn=True)\n",
            "/usr/local/lib/python3.6/dist-packages/sklearn/utils/validation.py:760: DataConversionWarning: A column-vector y was passed when a 1d array was expected. Please change the shape of y to (n_samples, ), for example using ravel().\n",
            "  y = column_or_1d(y, warn=True)\n",
            "/usr/local/lib/python3.6/dist-packages/sklearn/utils/validation.py:760: DataConversionWarning: A column-vector y was passed when a 1d array was expected. Please change the shape of y to (n_samples, ), for example using ravel().\n",
            "  y = column_or_1d(y, warn=True)\n"
          ],
          "name": "stderr"
        },
        {
          "output_type": "stream",
          "text": [
            "hyper-parameters:  {'kernel': 'sigmoid', 'gamma': 0.4, 'C': 3} log MSE:  19.536\n",
            "hyper-parameters:  {'kernel': 'sigmoid', 'gamma': 0.4, 'C': 5} log MSE:  19.536\n",
            "hyper-parameters:  {'kernel': 'sigmoid', 'gamma': 0.4, 'C': 10} log MSE:  19.536\n",
            "hyper-parameters:  {'kernel': 'sigmoid', 'gamma': 0.4, 'C': 30} log MSE:  19.536\n",
            "hyper-parameters:  {'kernel': 'sigmoid', 'gamma': 0.4, 'C': 50} log MSE:  19.536\n"
          ],
          "name": "stdout"
        },
        {
          "output_type": "stream",
          "text": [
            "/usr/local/lib/python3.6/dist-packages/sklearn/utils/validation.py:760: DataConversionWarning: A column-vector y was passed when a 1d array was expected. Please change the shape of y to (n_samples, ), for example using ravel().\n",
            "  y = column_or_1d(y, warn=True)\n",
            "/usr/local/lib/python3.6/dist-packages/sklearn/utils/validation.py:760: DataConversionWarning: A column-vector y was passed when a 1d array was expected. Please change the shape of y to (n_samples, ), for example using ravel().\n",
            "  y = column_or_1d(y, warn=True)\n",
            "/usr/local/lib/python3.6/dist-packages/sklearn/utils/validation.py:760: DataConversionWarning: A column-vector y was passed when a 1d array was expected. Please change the shape of y to (n_samples, ), for example using ravel().\n",
            "  y = column_or_1d(y, warn=True)\n",
            "/usr/local/lib/python3.6/dist-packages/sklearn/utils/validation.py:760: DataConversionWarning: A column-vector y was passed when a 1d array was expected. Please change the shape of y to (n_samples, ), for example using ravel().\n",
            "  y = column_or_1d(y, warn=True)\n",
            "/usr/local/lib/python3.6/dist-packages/sklearn/utils/validation.py:760: DataConversionWarning: A column-vector y was passed when a 1d array was expected. Please change the shape of y to (n_samples, ), for example using ravel().\n",
            "  y = column_or_1d(y, warn=True)\n"
          ],
          "name": "stderr"
        },
        {
          "output_type": "stream",
          "text": [
            "hyper-parameters:  {'kernel': 'sigmoid', 'gamma': 0.4, 'C': 100} log MSE:  19.536\n",
            "hyper-parameters:  {'kernel': 'sigmoid', 'gamma': 0.4, 'C': 300} log MSE:  19.536\n",
            "hyper-parameters:  {'kernel': 'sigmoid', 'gamma': 0.4, 'C': 500} log MSE:  19.536\n",
            "hyper-parameters:  {'kernel': 'sigmoid', 'gamma': 0.4, 'C': 1000} log MSE:  19.536\n",
            "hyper-parameters:  {'kernel': 'sigmoid', 'gamma': 0.4, 'C': 3000} log MSE:  19.536\n"
          ],
          "name": "stdout"
        },
        {
          "output_type": "stream",
          "text": [
            "/usr/local/lib/python3.6/dist-packages/sklearn/utils/validation.py:760: DataConversionWarning: A column-vector y was passed when a 1d array was expected. Please change the shape of y to (n_samples, ), for example using ravel().\n",
            "  y = column_or_1d(y, warn=True)\n",
            "/usr/local/lib/python3.6/dist-packages/sklearn/utils/validation.py:760: DataConversionWarning: A column-vector y was passed when a 1d array was expected. Please change the shape of y to (n_samples, ), for example using ravel().\n",
            "  y = column_or_1d(y, warn=True)\n",
            "/usr/local/lib/python3.6/dist-packages/sklearn/utils/validation.py:760: DataConversionWarning: A column-vector y was passed when a 1d array was expected. Please change the shape of y to (n_samples, ), for example using ravel().\n",
            "  y = column_or_1d(y, warn=True)\n",
            "/usr/local/lib/python3.6/dist-packages/sklearn/utils/validation.py:760: DataConversionWarning: A column-vector y was passed when a 1d array was expected. Please change the shape of y to (n_samples, ), for example using ravel().\n",
            "  y = column_or_1d(y, warn=True)\n",
            "/usr/local/lib/python3.6/dist-packages/sklearn/utils/validation.py:760: DataConversionWarning: A column-vector y was passed when a 1d array was expected. Please change the shape of y to (n_samples, ), for example using ravel().\n",
            "  y = column_or_1d(y, warn=True)\n"
          ],
          "name": "stderr"
        },
        {
          "output_type": "stream",
          "text": [
            "hyper-parameters:  {'kernel': 'sigmoid', 'gamma': 0.4, 'C': 5000} log MSE:  19.536\n",
            "hyper-parameters:  {'kernel': 'sigmoid', 'gamma': 0.4, 'C': 10000} log MSE:  19.536\n",
            "hyper-parameters:  {'kernel': 'sigmoid', 'gamma': 0.4, 'C': 30000} log MSE:  19.536\n",
            "hyper-parameters:  {'kernel': 'sigmoid', 'gamma': 0.4, 'C': 50000} log MSE:  19.536\n",
            "hyper-parameters:  {'kernel': 'sigmoid', 'gamma': 0.5, 'C': 1} log MSE:  19.536\n"
          ],
          "name": "stdout"
        },
        {
          "output_type": "stream",
          "text": [
            "/usr/local/lib/python3.6/dist-packages/sklearn/utils/validation.py:760: DataConversionWarning: A column-vector y was passed when a 1d array was expected. Please change the shape of y to (n_samples, ), for example using ravel().\n",
            "  y = column_or_1d(y, warn=True)\n",
            "/usr/local/lib/python3.6/dist-packages/sklearn/utils/validation.py:760: DataConversionWarning: A column-vector y was passed when a 1d array was expected. Please change the shape of y to (n_samples, ), for example using ravel().\n",
            "  y = column_or_1d(y, warn=True)\n",
            "/usr/local/lib/python3.6/dist-packages/sklearn/utils/validation.py:760: DataConversionWarning: A column-vector y was passed when a 1d array was expected. Please change the shape of y to (n_samples, ), for example using ravel().\n",
            "  y = column_or_1d(y, warn=True)\n",
            "/usr/local/lib/python3.6/dist-packages/sklearn/utils/validation.py:760: DataConversionWarning: A column-vector y was passed when a 1d array was expected. Please change the shape of y to (n_samples, ), for example using ravel().\n",
            "  y = column_or_1d(y, warn=True)\n",
            "/usr/local/lib/python3.6/dist-packages/sklearn/utils/validation.py:760: DataConversionWarning: A column-vector y was passed when a 1d array was expected. Please change the shape of y to (n_samples, ), for example using ravel().\n",
            "  y = column_or_1d(y, warn=True)\n"
          ],
          "name": "stderr"
        },
        {
          "output_type": "stream",
          "text": [
            "hyper-parameters:  {'kernel': 'sigmoid', 'gamma': 0.5, 'C': 3} log MSE:  19.536\n",
            "hyper-parameters:  {'kernel': 'sigmoid', 'gamma': 0.5, 'C': 5} log MSE:  19.536\n",
            "hyper-parameters:  {'kernel': 'sigmoid', 'gamma': 0.5, 'C': 10} log MSE:  19.536\n",
            "hyper-parameters:  {'kernel': 'sigmoid', 'gamma': 0.5, 'C': 30} log MSE:  19.536\n",
            "hyper-parameters:  {'kernel': 'sigmoid', 'gamma': 0.5, 'C': 50} log MSE:  19.536\n"
          ],
          "name": "stdout"
        },
        {
          "output_type": "stream",
          "text": [
            "/usr/local/lib/python3.6/dist-packages/sklearn/utils/validation.py:760: DataConversionWarning: A column-vector y was passed when a 1d array was expected. Please change the shape of y to (n_samples, ), for example using ravel().\n",
            "  y = column_or_1d(y, warn=True)\n",
            "/usr/local/lib/python3.6/dist-packages/sklearn/utils/validation.py:760: DataConversionWarning: A column-vector y was passed when a 1d array was expected. Please change the shape of y to (n_samples, ), for example using ravel().\n",
            "  y = column_or_1d(y, warn=True)\n",
            "/usr/local/lib/python3.6/dist-packages/sklearn/utils/validation.py:760: DataConversionWarning: A column-vector y was passed when a 1d array was expected. Please change the shape of y to (n_samples, ), for example using ravel().\n",
            "  y = column_or_1d(y, warn=True)\n",
            "/usr/local/lib/python3.6/dist-packages/sklearn/utils/validation.py:760: DataConversionWarning: A column-vector y was passed when a 1d array was expected. Please change the shape of y to (n_samples, ), for example using ravel().\n",
            "  y = column_or_1d(y, warn=True)\n",
            "/usr/local/lib/python3.6/dist-packages/sklearn/utils/validation.py:760: DataConversionWarning: A column-vector y was passed when a 1d array was expected. Please change the shape of y to (n_samples, ), for example using ravel().\n",
            "  y = column_or_1d(y, warn=True)\n"
          ],
          "name": "stderr"
        },
        {
          "output_type": "stream",
          "text": [
            "hyper-parameters:  {'kernel': 'sigmoid', 'gamma': 0.5, 'C': 100} log MSE:  19.536\n",
            "hyper-parameters:  {'kernel': 'sigmoid', 'gamma': 0.5, 'C': 300} log MSE:  19.536\n",
            "hyper-parameters:  {'kernel': 'sigmoid', 'gamma': 0.5, 'C': 500} log MSE:  19.536\n",
            "hyper-parameters:  {'kernel': 'sigmoid', 'gamma': 0.5, 'C': 1000} log MSE:  19.536\n",
            "hyper-parameters:  {'kernel': 'sigmoid', 'gamma': 0.5, 'C': 3000} log MSE:  19.536\n"
          ],
          "name": "stdout"
        },
        {
          "output_type": "stream",
          "text": [
            "/usr/local/lib/python3.6/dist-packages/sklearn/utils/validation.py:760: DataConversionWarning: A column-vector y was passed when a 1d array was expected. Please change the shape of y to (n_samples, ), for example using ravel().\n",
            "  y = column_or_1d(y, warn=True)\n",
            "/usr/local/lib/python3.6/dist-packages/sklearn/utils/validation.py:760: DataConversionWarning: A column-vector y was passed when a 1d array was expected. Please change the shape of y to (n_samples, ), for example using ravel().\n",
            "  y = column_or_1d(y, warn=True)\n",
            "/usr/local/lib/python3.6/dist-packages/sklearn/utils/validation.py:760: DataConversionWarning: A column-vector y was passed when a 1d array was expected. Please change the shape of y to (n_samples, ), for example using ravel().\n",
            "  y = column_or_1d(y, warn=True)\n",
            "/usr/local/lib/python3.6/dist-packages/sklearn/utils/validation.py:760: DataConversionWarning: A column-vector y was passed when a 1d array was expected. Please change the shape of y to (n_samples, ), for example using ravel().\n",
            "  y = column_or_1d(y, warn=True)\n",
            "/usr/local/lib/python3.6/dist-packages/sklearn/utils/validation.py:760: DataConversionWarning: A column-vector y was passed when a 1d array was expected. Please change the shape of y to (n_samples, ), for example using ravel().\n",
            "  y = column_or_1d(y, warn=True)\n"
          ],
          "name": "stderr"
        },
        {
          "output_type": "stream",
          "text": [
            "hyper-parameters:  {'kernel': 'sigmoid', 'gamma': 0.5, 'C': 5000} log MSE:  19.536\n",
            "hyper-parameters:  {'kernel': 'sigmoid', 'gamma': 0.5, 'C': 10000} log MSE:  19.536\n",
            "hyper-parameters:  {'kernel': 'sigmoid', 'gamma': 0.5, 'C': 30000} log MSE:  19.536\n",
            "hyper-parameters:  {'kernel': 'sigmoid', 'gamma': 0.5, 'C': 50000} log MSE:  19.536\n",
            "hyper-parameters:  {'kernel': 'sigmoid', 'gamma': 0.6, 'C': 1} log MSE:  19.536\n"
          ],
          "name": "stdout"
        },
        {
          "output_type": "stream",
          "text": [
            "/usr/local/lib/python3.6/dist-packages/sklearn/utils/validation.py:760: DataConversionWarning: A column-vector y was passed when a 1d array was expected. Please change the shape of y to (n_samples, ), for example using ravel().\n",
            "  y = column_or_1d(y, warn=True)\n",
            "/usr/local/lib/python3.6/dist-packages/sklearn/utils/validation.py:760: DataConversionWarning: A column-vector y was passed when a 1d array was expected. Please change the shape of y to (n_samples, ), for example using ravel().\n",
            "  y = column_or_1d(y, warn=True)\n",
            "/usr/local/lib/python3.6/dist-packages/sklearn/utils/validation.py:760: DataConversionWarning: A column-vector y was passed when a 1d array was expected. Please change the shape of y to (n_samples, ), for example using ravel().\n",
            "  y = column_or_1d(y, warn=True)\n",
            "/usr/local/lib/python3.6/dist-packages/sklearn/utils/validation.py:760: DataConversionWarning: A column-vector y was passed when a 1d array was expected. Please change the shape of y to (n_samples, ), for example using ravel().\n",
            "  y = column_or_1d(y, warn=True)\n",
            "/usr/local/lib/python3.6/dist-packages/sklearn/utils/validation.py:760: DataConversionWarning: A column-vector y was passed when a 1d array was expected. Please change the shape of y to (n_samples, ), for example using ravel().\n",
            "  y = column_or_1d(y, warn=True)\n"
          ],
          "name": "stderr"
        },
        {
          "output_type": "stream",
          "text": [
            "hyper-parameters:  {'kernel': 'sigmoid', 'gamma': 0.6, 'C': 3} log MSE:  19.536\n",
            "hyper-parameters:  {'kernel': 'sigmoid', 'gamma': 0.6, 'C': 5} log MSE:  19.536\n",
            "hyper-parameters:  {'kernel': 'sigmoid', 'gamma': 0.6, 'C': 10} log MSE:  19.536\n",
            "hyper-parameters:  {'kernel': 'sigmoid', 'gamma': 0.6, 'C': 30} log MSE:  19.536\n",
            "hyper-parameters:  {'kernel': 'sigmoid', 'gamma': 0.6, 'C': 50} log MSE:  19.536\n"
          ],
          "name": "stdout"
        },
        {
          "output_type": "stream",
          "text": [
            "/usr/local/lib/python3.6/dist-packages/sklearn/utils/validation.py:760: DataConversionWarning: A column-vector y was passed when a 1d array was expected. Please change the shape of y to (n_samples, ), for example using ravel().\n",
            "  y = column_or_1d(y, warn=True)\n",
            "/usr/local/lib/python3.6/dist-packages/sklearn/utils/validation.py:760: DataConversionWarning: A column-vector y was passed when a 1d array was expected. Please change the shape of y to (n_samples, ), for example using ravel().\n",
            "  y = column_or_1d(y, warn=True)\n",
            "/usr/local/lib/python3.6/dist-packages/sklearn/utils/validation.py:760: DataConversionWarning: A column-vector y was passed when a 1d array was expected. Please change the shape of y to (n_samples, ), for example using ravel().\n",
            "  y = column_or_1d(y, warn=True)\n",
            "/usr/local/lib/python3.6/dist-packages/sklearn/utils/validation.py:760: DataConversionWarning: A column-vector y was passed when a 1d array was expected. Please change the shape of y to (n_samples, ), for example using ravel().\n",
            "  y = column_or_1d(y, warn=True)\n",
            "/usr/local/lib/python3.6/dist-packages/sklearn/utils/validation.py:760: DataConversionWarning: A column-vector y was passed when a 1d array was expected. Please change the shape of y to (n_samples, ), for example using ravel().\n",
            "  y = column_or_1d(y, warn=True)\n"
          ],
          "name": "stderr"
        },
        {
          "output_type": "stream",
          "text": [
            "hyper-parameters:  {'kernel': 'sigmoid', 'gamma': 0.6, 'C': 100} log MSE:  19.536\n",
            "hyper-parameters:  {'kernel': 'sigmoid', 'gamma': 0.6, 'C': 300} log MSE:  19.536\n",
            "hyper-parameters:  {'kernel': 'sigmoid', 'gamma': 0.6, 'C': 500} log MSE:  19.536\n",
            "hyper-parameters:  {'kernel': 'sigmoid', 'gamma': 0.6, 'C': 1000} log MSE:  19.536\n",
            "hyper-parameters:  {'kernel': 'sigmoid', 'gamma': 0.6, 'C': 3000} log MSE:  19.536\n"
          ],
          "name": "stdout"
        },
        {
          "output_type": "stream",
          "text": [
            "/usr/local/lib/python3.6/dist-packages/sklearn/utils/validation.py:760: DataConversionWarning: A column-vector y was passed when a 1d array was expected. Please change the shape of y to (n_samples, ), for example using ravel().\n",
            "  y = column_or_1d(y, warn=True)\n",
            "/usr/local/lib/python3.6/dist-packages/sklearn/utils/validation.py:760: DataConversionWarning: A column-vector y was passed when a 1d array was expected. Please change the shape of y to (n_samples, ), for example using ravel().\n",
            "  y = column_or_1d(y, warn=True)\n",
            "/usr/local/lib/python3.6/dist-packages/sklearn/utils/validation.py:760: DataConversionWarning: A column-vector y was passed when a 1d array was expected. Please change the shape of y to (n_samples, ), for example using ravel().\n",
            "  y = column_or_1d(y, warn=True)\n",
            "/usr/local/lib/python3.6/dist-packages/sklearn/utils/validation.py:760: DataConversionWarning: A column-vector y was passed when a 1d array was expected. Please change the shape of y to (n_samples, ), for example using ravel().\n",
            "  y = column_or_1d(y, warn=True)\n",
            "/usr/local/lib/python3.6/dist-packages/sklearn/utils/validation.py:760: DataConversionWarning: A column-vector y was passed when a 1d array was expected. Please change the shape of y to (n_samples, ), for example using ravel().\n",
            "  y = column_or_1d(y, warn=True)\n"
          ],
          "name": "stderr"
        },
        {
          "output_type": "stream",
          "text": [
            "hyper-parameters:  {'kernel': 'sigmoid', 'gamma': 0.6, 'C': 5000} log MSE:  19.536\n",
            "hyper-parameters:  {'kernel': 'sigmoid', 'gamma': 0.6, 'C': 10000} log MSE:  19.536\n",
            "hyper-parameters:  {'kernel': 'sigmoid', 'gamma': 0.6, 'C': 30000} log MSE:  19.536\n",
            "hyper-parameters:  {'kernel': 'sigmoid', 'gamma': 0.6, 'C': 50000} log MSE:  19.536\n",
            "hyper-parameters:  {'kernel': 'sigmoid', 'gamma': 0.7, 'C': 1} log MSE:  19.536\n"
          ],
          "name": "stdout"
        },
        {
          "output_type": "stream",
          "text": [
            "/usr/local/lib/python3.6/dist-packages/sklearn/utils/validation.py:760: DataConversionWarning: A column-vector y was passed when a 1d array was expected. Please change the shape of y to (n_samples, ), for example using ravel().\n",
            "  y = column_or_1d(y, warn=True)\n",
            "/usr/local/lib/python3.6/dist-packages/sklearn/utils/validation.py:760: DataConversionWarning: A column-vector y was passed when a 1d array was expected. Please change the shape of y to (n_samples, ), for example using ravel().\n",
            "  y = column_or_1d(y, warn=True)\n",
            "/usr/local/lib/python3.6/dist-packages/sklearn/utils/validation.py:760: DataConversionWarning: A column-vector y was passed when a 1d array was expected. Please change the shape of y to (n_samples, ), for example using ravel().\n",
            "  y = column_or_1d(y, warn=True)\n",
            "/usr/local/lib/python3.6/dist-packages/sklearn/utils/validation.py:760: DataConversionWarning: A column-vector y was passed when a 1d array was expected. Please change the shape of y to (n_samples, ), for example using ravel().\n",
            "  y = column_or_1d(y, warn=True)\n",
            "/usr/local/lib/python3.6/dist-packages/sklearn/utils/validation.py:760: DataConversionWarning: A column-vector y was passed when a 1d array was expected. Please change the shape of y to (n_samples, ), for example using ravel().\n",
            "  y = column_or_1d(y, warn=True)\n"
          ],
          "name": "stderr"
        },
        {
          "output_type": "stream",
          "text": [
            "hyper-parameters:  {'kernel': 'sigmoid', 'gamma': 0.7, 'C': 3} log MSE:  19.536\n",
            "hyper-parameters:  {'kernel': 'sigmoid', 'gamma': 0.7, 'C': 5} log MSE:  19.536\n",
            "hyper-parameters:  {'kernel': 'sigmoid', 'gamma': 0.7, 'C': 10} log MSE:  19.536\n",
            "hyper-parameters:  {'kernel': 'sigmoid', 'gamma': 0.7, 'C': 30} log MSE:  19.536\n",
            "hyper-parameters:  {'kernel': 'sigmoid', 'gamma': 0.7, 'C': 50} log MSE:  19.536\n"
          ],
          "name": "stdout"
        },
        {
          "output_type": "stream",
          "text": [
            "/usr/local/lib/python3.6/dist-packages/sklearn/utils/validation.py:760: DataConversionWarning: A column-vector y was passed when a 1d array was expected. Please change the shape of y to (n_samples, ), for example using ravel().\n",
            "  y = column_or_1d(y, warn=True)\n",
            "/usr/local/lib/python3.6/dist-packages/sklearn/utils/validation.py:760: DataConversionWarning: A column-vector y was passed when a 1d array was expected. Please change the shape of y to (n_samples, ), for example using ravel().\n",
            "  y = column_or_1d(y, warn=True)\n",
            "/usr/local/lib/python3.6/dist-packages/sklearn/utils/validation.py:760: DataConversionWarning: A column-vector y was passed when a 1d array was expected. Please change the shape of y to (n_samples, ), for example using ravel().\n",
            "  y = column_or_1d(y, warn=True)\n",
            "/usr/local/lib/python3.6/dist-packages/sklearn/utils/validation.py:760: DataConversionWarning: A column-vector y was passed when a 1d array was expected. Please change the shape of y to (n_samples, ), for example using ravel().\n",
            "  y = column_or_1d(y, warn=True)\n",
            "/usr/local/lib/python3.6/dist-packages/sklearn/utils/validation.py:760: DataConversionWarning: A column-vector y was passed when a 1d array was expected. Please change the shape of y to (n_samples, ), for example using ravel().\n",
            "  y = column_or_1d(y, warn=True)\n"
          ],
          "name": "stderr"
        },
        {
          "output_type": "stream",
          "text": [
            "hyper-parameters:  {'kernel': 'sigmoid', 'gamma': 0.7, 'C': 100} log MSE:  19.536\n",
            "hyper-parameters:  {'kernel': 'sigmoid', 'gamma': 0.7, 'C': 300} log MSE:  19.536\n",
            "hyper-parameters:  {'kernel': 'sigmoid', 'gamma': 0.7, 'C': 500} log MSE:  19.536\n",
            "hyper-parameters:  {'kernel': 'sigmoid', 'gamma': 0.7, 'C': 1000} log MSE:  19.536\n",
            "hyper-parameters:  {'kernel': 'sigmoid', 'gamma': 0.7, 'C': 3000} log MSE:  19.536\n"
          ],
          "name": "stdout"
        },
        {
          "output_type": "stream",
          "text": [
            "/usr/local/lib/python3.6/dist-packages/sklearn/utils/validation.py:760: DataConversionWarning: A column-vector y was passed when a 1d array was expected. Please change the shape of y to (n_samples, ), for example using ravel().\n",
            "  y = column_or_1d(y, warn=True)\n",
            "/usr/local/lib/python3.6/dist-packages/sklearn/utils/validation.py:760: DataConversionWarning: A column-vector y was passed when a 1d array was expected. Please change the shape of y to (n_samples, ), for example using ravel().\n",
            "  y = column_or_1d(y, warn=True)\n",
            "/usr/local/lib/python3.6/dist-packages/sklearn/utils/validation.py:760: DataConversionWarning: A column-vector y was passed when a 1d array was expected. Please change the shape of y to (n_samples, ), for example using ravel().\n",
            "  y = column_or_1d(y, warn=True)\n",
            "/usr/local/lib/python3.6/dist-packages/sklearn/utils/validation.py:760: DataConversionWarning: A column-vector y was passed when a 1d array was expected. Please change the shape of y to (n_samples, ), for example using ravel().\n",
            "  y = column_or_1d(y, warn=True)\n",
            "/usr/local/lib/python3.6/dist-packages/sklearn/utils/validation.py:760: DataConversionWarning: A column-vector y was passed when a 1d array was expected. Please change the shape of y to (n_samples, ), for example using ravel().\n",
            "  y = column_or_1d(y, warn=True)\n"
          ],
          "name": "stderr"
        },
        {
          "output_type": "stream",
          "text": [
            "hyper-parameters:  {'kernel': 'sigmoid', 'gamma': 0.7, 'C': 5000} log MSE:  19.536\n",
            "hyper-parameters:  {'kernel': 'sigmoid', 'gamma': 0.7, 'C': 10000} log MSE:  19.536\n",
            "hyper-parameters:  {'kernel': 'sigmoid', 'gamma': 0.7, 'C': 30000} log MSE:  19.536\n",
            "hyper-parameters:  {'kernel': 'sigmoid', 'gamma': 0.7, 'C': 50000} log MSE:  19.536\n",
            "hyper-parameters:  {'kernel': 'sigmoid', 'gamma': 0.8, 'C': 1} log MSE:  19.536\n"
          ],
          "name": "stdout"
        },
        {
          "output_type": "stream",
          "text": [
            "/usr/local/lib/python3.6/dist-packages/sklearn/utils/validation.py:760: DataConversionWarning: A column-vector y was passed when a 1d array was expected. Please change the shape of y to (n_samples, ), for example using ravel().\n",
            "  y = column_or_1d(y, warn=True)\n",
            "/usr/local/lib/python3.6/dist-packages/sklearn/utils/validation.py:760: DataConversionWarning: A column-vector y was passed when a 1d array was expected. Please change the shape of y to (n_samples, ), for example using ravel().\n",
            "  y = column_or_1d(y, warn=True)\n",
            "/usr/local/lib/python3.6/dist-packages/sklearn/utils/validation.py:760: DataConversionWarning: A column-vector y was passed when a 1d array was expected. Please change the shape of y to (n_samples, ), for example using ravel().\n",
            "  y = column_or_1d(y, warn=True)\n",
            "/usr/local/lib/python3.6/dist-packages/sklearn/utils/validation.py:760: DataConversionWarning: A column-vector y was passed when a 1d array was expected. Please change the shape of y to (n_samples, ), for example using ravel().\n",
            "  y = column_or_1d(y, warn=True)\n",
            "/usr/local/lib/python3.6/dist-packages/sklearn/utils/validation.py:760: DataConversionWarning: A column-vector y was passed when a 1d array was expected. Please change the shape of y to (n_samples, ), for example using ravel().\n",
            "  y = column_or_1d(y, warn=True)\n"
          ],
          "name": "stderr"
        },
        {
          "output_type": "stream",
          "text": [
            "hyper-parameters:  {'kernel': 'sigmoid', 'gamma': 0.8, 'C': 3} log MSE:  19.536\n",
            "hyper-parameters:  {'kernel': 'sigmoid', 'gamma': 0.8, 'C': 5} log MSE:  19.536\n",
            "hyper-parameters:  {'kernel': 'sigmoid', 'gamma': 0.8, 'C': 10} log MSE:  19.536\n",
            "hyper-parameters:  {'kernel': 'sigmoid', 'gamma': 0.8, 'C': 30} log MSE:  19.536\n",
            "hyper-parameters:  {'kernel': 'sigmoid', 'gamma': 0.8, 'C': 50} log MSE:  19.536\n"
          ],
          "name": "stdout"
        },
        {
          "output_type": "stream",
          "text": [
            "/usr/local/lib/python3.6/dist-packages/sklearn/utils/validation.py:760: DataConversionWarning: A column-vector y was passed when a 1d array was expected. Please change the shape of y to (n_samples, ), for example using ravel().\n",
            "  y = column_or_1d(y, warn=True)\n",
            "/usr/local/lib/python3.6/dist-packages/sklearn/utils/validation.py:760: DataConversionWarning: A column-vector y was passed when a 1d array was expected. Please change the shape of y to (n_samples, ), for example using ravel().\n",
            "  y = column_or_1d(y, warn=True)\n",
            "/usr/local/lib/python3.6/dist-packages/sklearn/utils/validation.py:760: DataConversionWarning: A column-vector y was passed when a 1d array was expected. Please change the shape of y to (n_samples, ), for example using ravel().\n",
            "  y = column_or_1d(y, warn=True)\n",
            "/usr/local/lib/python3.6/dist-packages/sklearn/utils/validation.py:760: DataConversionWarning: A column-vector y was passed when a 1d array was expected. Please change the shape of y to (n_samples, ), for example using ravel().\n",
            "  y = column_or_1d(y, warn=True)\n",
            "/usr/local/lib/python3.6/dist-packages/sklearn/utils/validation.py:760: DataConversionWarning: A column-vector y was passed when a 1d array was expected. Please change the shape of y to (n_samples, ), for example using ravel().\n",
            "  y = column_or_1d(y, warn=True)\n"
          ],
          "name": "stderr"
        },
        {
          "output_type": "stream",
          "text": [
            "hyper-parameters:  {'kernel': 'sigmoid', 'gamma': 0.8, 'C': 100} log MSE:  19.536\n",
            "hyper-parameters:  {'kernel': 'sigmoid', 'gamma': 0.8, 'C': 300} log MSE:  19.536\n",
            "hyper-parameters:  {'kernel': 'sigmoid', 'gamma': 0.8, 'C': 500} log MSE:  19.536\n",
            "hyper-parameters:  {'kernel': 'sigmoid', 'gamma': 0.8, 'C': 1000} log MSE:  19.536\n",
            "hyper-parameters:  {'kernel': 'sigmoid', 'gamma': 0.8, 'C': 3000} log MSE:  19.536\n"
          ],
          "name": "stdout"
        },
        {
          "output_type": "stream",
          "text": [
            "/usr/local/lib/python3.6/dist-packages/sklearn/utils/validation.py:760: DataConversionWarning: A column-vector y was passed when a 1d array was expected. Please change the shape of y to (n_samples, ), for example using ravel().\n",
            "  y = column_or_1d(y, warn=True)\n",
            "/usr/local/lib/python3.6/dist-packages/sklearn/utils/validation.py:760: DataConversionWarning: A column-vector y was passed when a 1d array was expected. Please change the shape of y to (n_samples, ), for example using ravel().\n",
            "  y = column_or_1d(y, warn=True)\n",
            "/usr/local/lib/python3.6/dist-packages/sklearn/utils/validation.py:760: DataConversionWarning: A column-vector y was passed when a 1d array was expected. Please change the shape of y to (n_samples, ), for example using ravel().\n",
            "  y = column_or_1d(y, warn=True)\n",
            "/usr/local/lib/python3.6/dist-packages/sklearn/utils/validation.py:760: DataConversionWarning: A column-vector y was passed when a 1d array was expected. Please change the shape of y to (n_samples, ), for example using ravel().\n",
            "  y = column_or_1d(y, warn=True)\n",
            "/usr/local/lib/python3.6/dist-packages/sklearn/utils/validation.py:760: DataConversionWarning: A column-vector y was passed when a 1d array was expected. Please change the shape of y to (n_samples, ), for example using ravel().\n",
            "  y = column_or_1d(y, warn=True)\n"
          ],
          "name": "stderr"
        },
        {
          "output_type": "stream",
          "text": [
            "hyper-parameters:  {'kernel': 'sigmoid', 'gamma': 0.8, 'C': 5000} log MSE:  19.536\n",
            "hyper-parameters:  {'kernel': 'sigmoid', 'gamma': 0.8, 'C': 10000} log MSE:  19.536\n",
            "hyper-parameters:  {'kernel': 'sigmoid', 'gamma': 0.8, 'C': 30000} log MSE:  19.536\n",
            "hyper-parameters:  {'kernel': 'sigmoid', 'gamma': 0.8, 'C': 50000} log MSE:  19.536\n",
            "hyper-parameters:  {'kernel': 'sigmoid', 'gamma': 0.9, 'C': 1} log MSE:  19.536\n"
          ],
          "name": "stdout"
        },
        {
          "output_type": "stream",
          "text": [
            "/usr/local/lib/python3.6/dist-packages/sklearn/utils/validation.py:760: DataConversionWarning: A column-vector y was passed when a 1d array was expected. Please change the shape of y to (n_samples, ), for example using ravel().\n",
            "  y = column_or_1d(y, warn=True)\n",
            "/usr/local/lib/python3.6/dist-packages/sklearn/utils/validation.py:760: DataConversionWarning: A column-vector y was passed when a 1d array was expected. Please change the shape of y to (n_samples, ), for example using ravel().\n",
            "  y = column_or_1d(y, warn=True)\n",
            "/usr/local/lib/python3.6/dist-packages/sklearn/utils/validation.py:760: DataConversionWarning: A column-vector y was passed when a 1d array was expected. Please change the shape of y to (n_samples, ), for example using ravel().\n",
            "  y = column_or_1d(y, warn=True)\n",
            "/usr/local/lib/python3.6/dist-packages/sklearn/utils/validation.py:760: DataConversionWarning: A column-vector y was passed when a 1d array was expected. Please change the shape of y to (n_samples, ), for example using ravel().\n",
            "  y = column_or_1d(y, warn=True)\n",
            "/usr/local/lib/python3.6/dist-packages/sklearn/utils/validation.py:760: DataConversionWarning: A column-vector y was passed when a 1d array was expected. Please change the shape of y to (n_samples, ), for example using ravel().\n",
            "  y = column_or_1d(y, warn=True)\n"
          ],
          "name": "stderr"
        },
        {
          "output_type": "stream",
          "text": [
            "hyper-parameters:  {'kernel': 'sigmoid', 'gamma': 0.9, 'C': 3} log MSE:  19.536\n",
            "hyper-parameters:  {'kernel': 'sigmoid', 'gamma': 0.9, 'C': 5} log MSE:  19.536\n",
            "hyper-parameters:  {'kernel': 'sigmoid', 'gamma': 0.9, 'C': 10} log MSE:  19.536\n",
            "hyper-parameters:  {'kernel': 'sigmoid', 'gamma': 0.9, 'C': 30} log MSE:  19.536\n",
            "hyper-parameters:  {'kernel': 'sigmoid', 'gamma': 0.9, 'C': 50} log MSE:  19.536\n"
          ],
          "name": "stdout"
        },
        {
          "output_type": "stream",
          "text": [
            "/usr/local/lib/python3.6/dist-packages/sklearn/utils/validation.py:760: DataConversionWarning: A column-vector y was passed when a 1d array was expected. Please change the shape of y to (n_samples, ), for example using ravel().\n",
            "  y = column_or_1d(y, warn=True)\n",
            "/usr/local/lib/python3.6/dist-packages/sklearn/utils/validation.py:760: DataConversionWarning: A column-vector y was passed when a 1d array was expected. Please change the shape of y to (n_samples, ), for example using ravel().\n",
            "  y = column_or_1d(y, warn=True)\n",
            "/usr/local/lib/python3.6/dist-packages/sklearn/utils/validation.py:760: DataConversionWarning: A column-vector y was passed when a 1d array was expected. Please change the shape of y to (n_samples, ), for example using ravel().\n",
            "  y = column_or_1d(y, warn=True)\n",
            "/usr/local/lib/python3.6/dist-packages/sklearn/utils/validation.py:760: DataConversionWarning: A column-vector y was passed when a 1d array was expected. Please change the shape of y to (n_samples, ), for example using ravel().\n",
            "  y = column_or_1d(y, warn=True)\n",
            "/usr/local/lib/python3.6/dist-packages/sklearn/utils/validation.py:760: DataConversionWarning: A column-vector y was passed when a 1d array was expected. Please change the shape of y to (n_samples, ), for example using ravel().\n",
            "  y = column_or_1d(y, warn=True)\n"
          ],
          "name": "stderr"
        },
        {
          "output_type": "stream",
          "text": [
            "hyper-parameters:  {'kernel': 'sigmoid', 'gamma': 0.9, 'C': 100} log MSE:  19.536\n",
            "hyper-parameters:  {'kernel': 'sigmoid', 'gamma': 0.9, 'C': 300} log MSE:  19.536\n",
            "hyper-parameters:  {'kernel': 'sigmoid', 'gamma': 0.9, 'C': 500} log MSE:  19.536\n",
            "hyper-parameters:  {'kernel': 'sigmoid', 'gamma': 0.9, 'C': 1000} log MSE:  19.536\n",
            "hyper-parameters:  {'kernel': 'sigmoid', 'gamma': 0.9, 'C': 3000} log MSE:  19.536\n"
          ],
          "name": "stdout"
        },
        {
          "output_type": "stream",
          "text": [
            "/usr/local/lib/python3.6/dist-packages/sklearn/utils/validation.py:760: DataConversionWarning: A column-vector y was passed when a 1d array was expected. Please change the shape of y to (n_samples, ), for example using ravel().\n",
            "  y = column_or_1d(y, warn=True)\n",
            "/usr/local/lib/python3.6/dist-packages/sklearn/utils/validation.py:760: DataConversionWarning: A column-vector y was passed when a 1d array was expected. Please change the shape of y to (n_samples, ), for example using ravel().\n",
            "  y = column_or_1d(y, warn=True)\n",
            "/usr/local/lib/python3.6/dist-packages/sklearn/utils/validation.py:760: DataConversionWarning: A column-vector y was passed when a 1d array was expected. Please change the shape of y to (n_samples, ), for example using ravel().\n",
            "  y = column_or_1d(y, warn=True)\n",
            "/usr/local/lib/python3.6/dist-packages/sklearn/utils/validation.py:760: DataConversionWarning: A column-vector y was passed when a 1d array was expected. Please change the shape of y to (n_samples, ), for example using ravel().\n",
            "  y = column_or_1d(y, warn=True)\n",
            "/usr/local/lib/python3.6/dist-packages/sklearn/utils/validation.py:760: DataConversionWarning: A column-vector y was passed when a 1d array was expected. Please change the shape of y to (n_samples, ), for example using ravel().\n",
            "  y = column_or_1d(y, warn=True)\n"
          ],
          "name": "stderr"
        },
        {
          "output_type": "stream",
          "text": [
            "hyper-parameters:  {'kernel': 'sigmoid', 'gamma': 0.9, 'C': 5000} log MSE:  19.536\n",
            "hyper-parameters:  {'kernel': 'sigmoid', 'gamma': 0.9, 'C': 10000} log MSE:  19.536\n",
            "hyper-parameters:  {'kernel': 'sigmoid', 'gamma': 0.9, 'C': 30000} log MSE:  19.536\n",
            "hyper-parameters:  {'kernel': 'sigmoid', 'gamma': 0.9, 'C': 50000} log MSE:  19.536\n",
            "hyper-parameters:  {'kernel': 'sigmoid', 'gamma': 1.0, 'C': 1} log MSE:  19.536\n"
          ],
          "name": "stdout"
        },
        {
          "output_type": "stream",
          "text": [
            "/usr/local/lib/python3.6/dist-packages/sklearn/utils/validation.py:760: DataConversionWarning: A column-vector y was passed when a 1d array was expected. Please change the shape of y to (n_samples, ), for example using ravel().\n",
            "  y = column_or_1d(y, warn=True)\n",
            "/usr/local/lib/python3.6/dist-packages/sklearn/utils/validation.py:760: DataConversionWarning: A column-vector y was passed when a 1d array was expected. Please change the shape of y to (n_samples, ), for example using ravel().\n",
            "  y = column_or_1d(y, warn=True)\n",
            "/usr/local/lib/python3.6/dist-packages/sklearn/utils/validation.py:760: DataConversionWarning: A column-vector y was passed when a 1d array was expected. Please change the shape of y to (n_samples, ), for example using ravel().\n",
            "  y = column_or_1d(y, warn=True)\n",
            "/usr/local/lib/python3.6/dist-packages/sklearn/utils/validation.py:760: DataConversionWarning: A column-vector y was passed when a 1d array was expected. Please change the shape of y to (n_samples, ), for example using ravel().\n",
            "  y = column_or_1d(y, warn=True)\n",
            "/usr/local/lib/python3.6/dist-packages/sklearn/utils/validation.py:760: DataConversionWarning: A column-vector y was passed when a 1d array was expected. Please change the shape of y to (n_samples, ), for example using ravel().\n",
            "  y = column_or_1d(y, warn=True)\n"
          ],
          "name": "stderr"
        },
        {
          "output_type": "stream",
          "text": [
            "hyper-parameters:  {'kernel': 'sigmoid', 'gamma': 1.0, 'C': 3} log MSE:  19.536\n",
            "hyper-parameters:  {'kernel': 'sigmoid', 'gamma': 1.0, 'C': 5} log MSE:  19.536\n",
            "hyper-parameters:  {'kernel': 'sigmoid', 'gamma': 1.0, 'C': 10} log MSE:  19.536\n",
            "hyper-parameters:  {'kernel': 'sigmoid', 'gamma': 1.0, 'C': 30} log MSE:  19.536\n",
            "hyper-parameters:  {'kernel': 'sigmoid', 'gamma': 1.0, 'C': 50} log MSE:  19.536\n"
          ],
          "name": "stdout"
        },
        {
          "output_type": "stream",
          "text": [
            "/usr/local/lib/python3.6/dist-packages/sklearn/utils/validation.py:760: DataConversionWarning: A column-vector y was passed when a 1d array was expected. Please change the shape of y to (n_samples, ), for example using ravel().\n",
            "  y = column_or_1d(y, warn=True)\n",
            "/usr/local/lib/python3.6/dist-packages/sklearn/utils/validation.py:760: DataConversionWarning: A column-vector y was passed when a 1d array was expected. Please change the shape of y to (n_samples, ), for example using ravel().\n",
            "  y = column_or_1d(y, warn=True)\n",
            "/usr/local/lib/python3.6/dist-packages/sklearn/utils/validation.py:760: DataConversionWarning: A column-vector y was passed when a 1d array was expected. Please change the shape of y to (n_samples, ), for example using ravel().\n",
            "  y = column_or_1d(y, warn=True)\n",
            "/usr/local/lib/python3.6/dist-packages/sklearn/utils/validation.py:760: DataConversionWarning: A column-vector y was passed when a 1d array was expected. Please change the shape of y to (n_samples, ), for example using ravel().\n",
            "  y = column_or_1d(y, warn=True)\n",
            "/usr/local/lib/python3.6/dist-packages/sklearn/utils/validation.py:760: DataConversionWarning: A column-vector y was passed when a 1d array was expected. Please change the shape of y to (n_samples, ), for example using ravel().\n",
            "  y = column_or_1d(y, warn=True)\n"
          ],
          "name": "stderr"
        },
        {
          "output_type": "stream",
          "text": [
            "hyper-parameters:  {'kernel': 'sigmoid', 'gamma': 1.0, 'C': 100} log MSE:  19.536\n",
            "hyper-parameters:  {'kernel': 'sigmoid', 'gamma': 1.0, 'C': 300} log MSE:  19.536\n",
            "hyper-parameters:  {'kernel': 'sigmoid', 'gamma': 1.0, 'C': 500} log MSE:  19.536\n",
            "hyper-parameters:  {'kernel': 'sigmoid', 'gamma': 1.0, 'C': 1000} log MSE:  19.536\n",
            "hyper-parameters:  {'kernel': 'sigmoid', 'gamma': 1.0, 'C': 3000} log MSE:  19.536\n"
          ],
          "name": "stdout"
        },
        {
          "output_type": "stream",
          "text": [
            "/usr/local/lib/python3.6/dist-packages/sklearn/utils/validation.py:760: DataConversionWarning: A column-vector y was passed when a 1d array was expected. Please change the shape of y to (n_samples, ), for example using ravel().\n",
            "  y = column_or_1d(y, warn=True)\n",
            "/usr/local/lib/python3.6/dist-packages/sklearn/utils/validation.py:760: DataConversionWarning: A column-vector y was passed when a 1d array was expected. Please change the shape of y to (n_samples, ), for example using ravel().\n",
            "  y = column_or_1d(y, warn=True)\n",
            "/usr/local/lib/python3.6/dist-packages/sklearn/utils/validation.py:760: DataConversionWarning: A column-vector y was passed when a 1d array was expected. Please change the shape of y to (n_samples, ), for example using ravel().\n",
            "  y = column_or_1d(y, warn=True)\n",
            "/usr/local/lib/python3.6/dist-packages/sklearn/utils/validation.py:760: DataConversionWarning: A column-vector y was passed when a 1d array was expected. Please change the shape of y to (n_samples, ), for example using ravel().\n",
            "  y = column_or_1d(y, warn=True)\n",
            "/usr/local/lib/python3.6/dist-packages/sklearn/utils/validation.py:760: DataConversionWarning: A column-vector y was passed when a 1d array was expected. Please change the shape of y to (n_samples, ), for example using ravel().\n",
            "  y = column_or_1d(y, warn=True)\n"
          ],
          "name": "stderr"
        },
        {
          "output_type": "stream",
          "text": [
            "hyper-parameters:  {'kernel': 'sigmoid', 'gamma': 1.0, 'C': 5000} log MSE:  19.536\n",
            "hyper-parameters:  {'kernel': 'sigmoid', 'gamma': 1.0, 'C': 10000} log MSE:  19.536\n",
            "hyper-parameters:  {'kernel': 'sigmoid', 'gamma': 1.0, 'C': 30000} log MSE:  19.536\n",
            "hyper-parameters:  {'kernel': 'sigmoid', 'gamma': 1.0, 'C': 50000} log MSE:  19.536\n",
            "hyper-parameters of best model: {'kernel': 'rbf', 'gamma': 0.0001, 'C': 50000} log MSE:  1.402\n"
          ],
          "name": "stdout"
        },
        {
          "output_type": "stream",
          "text": [
            "/usr/local/lib/python3.6/dist-packages/sklearn/utils/validation.py:760: DataConversionWarning: A column-vector y was passed when a 1d array was expected. Please change the shape of y to (n_samples, ), for example using ravel().\n",
            "  y = column_or_1d(y, warn=True)\n",
            "/usr/local/lib/python3.6/dist-packages/sklearn/utils/validation.py:760: DataConversionWarning: A column-vector y was passed when a 1d array was expected. Please change the shape of y to (n_samples, ), for example using ravel().\n",
            "  y = column_or_1d(y, warn=True)\n"
          ],
          "name": "stderr"
        }
      ]
    },
    {
      "cell_type": "code",
      "metadata": {
        "id": "2nS6tcUmGaTN",
        "colab_type": "code",
        "colab": {
          "base_uri": "https://localhost:8080/",
          "height": 34
        },
        "outputId": "24137196-ffc8-44b3-f29a-93ded9599ed7"
      },
      "source": [
        "testpre=clf_best.predict(np.array(testkeys).reshape(-1,1)).reshape(1,-1).tolist()[0]\n",
        "for i in range(0,len(testpre)):\n",
        "    testpre[i]=abs(int(testpre[i]))%keynum\n",
        "print(\"log MSE test: \",round(math.log(1+mean_squared_error(testres,testpre),2),3))"
      ],
      "execution_count": 10,
      "outputs": [
        {
          "output_type": "stream",
          "text": [
            "log MSE test:  1.917\n"
          ],
          "name": "stdout"
        }
      ]
    }
  ]
}