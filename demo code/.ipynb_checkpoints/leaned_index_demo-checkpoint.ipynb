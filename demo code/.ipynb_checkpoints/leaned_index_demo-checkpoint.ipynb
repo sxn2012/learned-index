{
 "cells": [
  {
   "cell_type": "markdown",
   "metadata": {},
   "source": [
    "Author: Xinnan Shen<br>\n",
    "Date: 05-05-2020"
   ]
  },
  {
   "cell_type": "markdown",
   "metadata": {},
   "source": [
    "# Learned Index Model Simple Demo\n",
    "This notebook is to build some simple learned index models based on Kraska's paper."
   ]
  },
  {
   "cell_type": "markdown",
   "metadata": {},
   "source": [
    "Step 1: Generate some simple dataset in csv format"
   ]
  },
  {
   "cell_type": "code",
   "execution_count": 1,
   "metadata": {},
   "outputs": [],
   "source": [
    "import os\n",
    "import codecs\n",
    "import random\n",
    "#function: data_generation\n",
    "#usage: generate a simple dataset\n",
    "#parameters:\n",
    "#1.len_num: the size of dataset\n",
    "#2.range_min: the minimum key\n",
    "#3.range_max: the maximun key\n",
    "#output dataset: two columns (key,location)\n",
    "def data_generation(len_num,range_min,range_max):\n",
    "\tdatalist=[]\n",
    "\tfor i in range(0,len_num):\n",
    "\t\tx=random.randint(range_min,range_max)\n",
    "\t\tdatalist.append(x)\n",
    "\tfor i in range(0,len(datalist)):\n",
    "\t\ttemp=False\n",
    "\t\tfor j in range(0,len(datalist)-i-1):\n",
    "\t\t\tif datalist[j]>datalist[j+1]:\n",
    "\t\t\t\tt=datalist[j]\n",
    "\t\t\t\tdatalist[j]=datalist[j+1]\n",
    "\t\t\t\tdatalist[j+1]=t\n",
    "\t\t\t\ttemp=True\n",
    "\t\tif not temp:\n",
    "\t\t\tbreak\n",
    "\tcurrent_path=os.path.abspath(os.curdir)\n",
    "\tf=codecs.open(os.path.join(current_path,\"data.csv\"), \"w\", \"utf-8\")\n",
    "\tfor i in range(0,len(datalist)):\n",
    "\t\tf.write(str(datalist[i])+\",\"+str(i)+\"\\n\")\n",
    "\tf.close()\n",
    "\treturn"
   ]
  },
  {
   "cell_type": "markdown",
   "metadata": {},
   "source": [
    "Provide some value and generate the dataset"
   ]
  },
  {
   "cell_type": "code",
   "execution_count": 45,
   "metadata": {},
   "outputs": [],
   "source": [
    "minkey=1000\n",
    "maxkey=9999\n",
    "keynum=3000\n",
    "data_generation(3000,1000,9999)"
   ]
  },
  {
   "cell_type": "markdown",
   "metadata": {},
   "source": [
    "Step 2: Split the dataset into training, development and testing dataset"
   ]
  },
  {
   "cell_type": "code",
   "execution_count": 46,
   "metadata": {},
   "outputs": [
    {
     "name": "stdout",
     "output_type": "stream",
     "text": [
      "training data size: 975\n",
      "development data size: 975\n",
      "testing data size: 1050\n"
     ]
    }
   ],
   "source": [
    "from random import shuffle\n",
    "import numpy as np\n",
    "from sklearn.model_selection import train_test_split\n",
    "current_path=os.path.abspath(os.curdir)\n",
    "f=codecs.open(os.path.join(current_path,\"data.csv\"), \"r\", \"utf-8\")\n",
    "strlist=f.read().split(\"\\n\")\n",
    "f.close()\n",
    "list_key=[]\n",
    "list_res=[]\n",
    "for ele in strlist:\n",
    "    temp=ele.split(\",\")\n",
    "    if len(temp)!=2:\n",
    "        continue\n",
    "    list_key.append(temp[0])\n",
    "    list_res.append(temp[1])\n",
    "keys=np.array(list_key)\n",
    "res=np.array(list_res)\n",
    "trainkeys,testkeys,trainres,testres=train_test_split(keys,res,test_size=0.35)\n",
    "trainkeys,devkeys,trainres,devres=train_test_split(trainkeys,trainres,test_size=0.5)\n",
    "trainkeys=list(trainkeys)\n",
    "devkeys=list(devkeys)\n",
    "testkeys=list(testkeys)\n",
    "trainres=list(trainres)\n",
    "devres=list(devres)\n",
    "testres=list(testres)\n",
    "\n",
    "f=codecs.open(os.path.join(current_path,\"data_train.csv\"), \"w\", \"utf-8\")\n",
    "for i in range(0,len(trainkeys)):\n",
    "    f.write(str(trainkeys[i])+\",\"+str(trainres[i])+\"\\n\")\n",
    "f.close()\n",
    "f=codecs.open(os.path.join(current_path,\"data_dev.csv\"), \"w\", \"utf-8\")\n",
    "for i in range(0,len(devkeys)):\n",
    "    f.write(str(devkeys[i])+\",\"+str(devres[i])+\"\\n\")\n",
    "f.close()\n",
    "f=codecs.open(os.path.join(current_path,\"data_test.csv\"), \"w\", \"utf-8\")\n",
    "for i in range(0,len(testkeys)):\n",
    "    f.write(str(testkeys[i])+\",\"+str(testres[i])+\"\\n\")\n",
    "f.close()\n",
    "print(\"training data size:\",len(trainkeys))\n",
    "print(\"development data size:\",len(devkeys))\n",
    "print(\"testing data size:\",len(testkeys))"
   ]
  },
  {
   "cell_type": "markdown",
   "metadata": {},
   "source": [
    "Step 3: Building a simple B-Tree model"
   ]
  },
  {
   "cell_type": "code",
   "execution_count": 69,
   "metadata": {},
   "outputs": [
    {
     "name": "stdout",
     "output_type": "stream",
     "text": [
      "log MSE:  2.76\n",
      "[2239, 2635, 1206, 1696, 1775, 52, 2284, 1873, 1034, 1966, 22, 2183, 1157, 979, 2508, 1854, 1166, 2807, 865, 32, 2178, 27, 2228, 2484, 1121, 483, 2030, 2811, 781, 1111, 135, 718, 803, 2971, 98, 2203, 2754, 875, 115, 2155, 685, 1028, 2377, 1234, 597, 2451, 850, 1928, 1068, 165, 88, 2147, 460, 1130, 1028, 2239, 2920, 736, 1034, 206, 965, 2962, 1954, 971, 1584, 1734, 2268, 1505, 1288, 824, 2647, 2118, 1919, 1155, 729, 152, 597, 1647, 2697, 1206, 1225, 2870, 1157, 1799, 2470, 1150, 672, 1311, 1914, 245, 1865, 1034, 1660, 1717, 1367, 1664, 2632, 2864, 1561, 2112, 2577, 2005, 1343, 919, 2848, 1418, 573, 1827, 2989, 608, 1919, 1308, 2857, 1347, 2743, 1274, 1024, 1162, 1418, 2498, 840, 1997, 334, 2268, 189, 597, 888, 581, 1936, 361, 1818, 2577, 2480, 526, 1234, 2877, 1702, 398, 119, 607, 2536, 2374, 2401, 2457, 2710, 1400, 2475, 670, 2826, 1994, 2168, 1343, 2291, 729, 443, 672, 2416, 2795, 166, 2409, 154, 2284, 2985, 2484, 932, 2372, 621, 881, 1571, 4, 1668, 1540, 2473, 2754, 625, 2594, 2311, 2207, 495, 2604, 2870, 2457, 840, 2567, 2192, 336, 2230, 135, 2211, 2446, 1274, 608, 1359, 923, 1954, 1265, 778, 1278, 1064, 1476, 2401, 1074, 584, 2182, 1377, 2750, 744, 2359, 2234, 2090, 500, 1748, 1121, 2844, 1884, 1624, 443, 581, 214, 757, 2946, 1964, 1308, 1174, 2424, 2743, 2816, 2030, 1883, 82, 713, 2726, 2340, 379, 1433, 1936, 1983, 2617, 1756, 1301, 1149, 424, 1082, 1062, 1522, 351, 2613, 1455, 1476, 2640, 195, 1756, 2689, 400, 2869, 840, 1343, 541, 1104, 27, 2457, 1174, 1831, 2262, 2848, 403, 2470, 269, 2203, 1682, 1100, 2832, 2682, 1249, 2033, 1754, 334, 1433, 795, 1433, 1034, 670, 142, 101, 965, 2075, 2421, 4, 1301, 1415, 921, 2947, 603, 1597, 438, 385, 753, 55, 2080, 2248, 1696, 861, 764, 2047, 431, 2649, 1082, 1748, 1220, 2314, 296, 456, 1839, 1324, 618, 408, 408, 1775, 1234, 895, 2405, 1111, 1134, 1066, 2737, 541, 431, 1265, 1439, 1561, 2502, 296, 1522, 206, 1321, 2508, 2005, 1871, 1702, 1049, 72, 161, 2221, 1584, 2921, 47, 2521, 1433, 1834, 2550, 2131, 2403, 781, 1009, 431, 840, 2104, 218, 581, 2705, 55, 1900, 1111, 803, 1571, 1260, 1281, 773, 1433, 309, 781, 2655, 172, 1390, 2099, 1072, 64, 2586, 642, 450, 831, 2567, 2090, 1734, 1983, 1591, 1966, 1884, 1256, 1294, 1415, 1100, 1285, 1850, 692, 545, 2578, 1496, 345, 2659, 692, 2713, 670, 2604, 15, 2609, 1484, 729, 932, 2684, 2219, 1347, 214, 2674, 2502, 1540, 2653, 2726, 2470, 154, 1459, 2697, 1914, 2946, 875, 2779, 1792, 1470, 1496, 1971, 1194, 1470, 729, 1994, 1082, 2743, 323, 1223, 1194, 803, 2340, 2415, 2536, 1476, 1104, 55, 1893, 27, 921, 875, 2171, 172, 2311, 1670, 296, 732, 908, 2278, 2985, 584, 107, 166, 1074, 824, 2594, 2103, 79, 1571, 1291, 1537, 1805, 2090, 2427, 883, 2192, 1134, 450, 2726, 2457, 2314, 1273, 2059, 2064, 2921, 2397, 2174, 1185, 1004, 1710, 1644, 2284, 2427, 522, 115, 456, 1797, 419, 1687, 814, 431, 1884, 2409, 1197, 1601, 1668, 2604, 1177, 1088, 466, 2857, 2536, 1362, 2697, 2443, 1367, 2664, 381, 408, 1128, 971, 1977, 2005, 1024, 2664, 1009, 1386, 2718, 814, 64, 2816, 837, 1260, 1311, 1717, 1496, 2966, 1921, 553, 1164, 419, 1936, 2059, 266, 1650, 2955, 2935, 2010, 950, 894, 2774, 1122, 1343, 2792, 1045, 1561, 1854, 3, 1111, 692, 814, 1459, 232, 253, 2291, 203, 2545, 1687, 1561, 475, 566, 892, 419, 888, 1330, 339, 1561, 1058, 923, 1573, 2005, 1211, 1584, 1400, 635, 1522, 424, 2985, 1825, 2314, 960, 2811, 2278, 1514, 584, 1371, 865, 2966, 495, 2174, 2508, 218, 323, 1134, 2569, 2792, 1710, 2347, 2578, 1177, 1357, 2897, 908, 403, 2910, 1964, 581, 1197, 2427, 64, 1377, 1530, 26, 1397, 2359, 2427, 1687, 2844, 2768, 913, 1608, 744, 1324, 1039, 419, 1551, 997, 1197, 1150, 1215, 718, 1308, 1330, 2838, 361, 932, 2387, 179, 2760, 72, 1089, 1207, 1707, 1410, 2910, 3, 443, 1893, 913, 142, 2020, 850, 2010, 642, 2183, 2005, 932, 1058, 858, 1433, 2439, 865, 2454, 2006, 1584, 1122, 1223, 142, 2726, 781, 96, 1377, 2409, 1285, 1220, 1045, 1676, 2928, 2864, 923, 1977, 330, 2041, 2349, 1914, 1505, 1591, 713, 1597, 2077, 323, 2689, 2099, 2577, 2875, 2613, 443, 685, 2864, 2484, 79, 2024, 718, 1584, 2609, 910, 1410, 573, 565, 828, 55, 803, 584, 2356, 2530, 1531, 1234, 1903, 1854, 2971, 1696, 1177, 729, 535, 1496, 1143, 2302, 600, 2985, 1291, 1584, 971, 534, 210, 1748, 438, 2516, 376, 2256, 621, 2480, 657, 953, 172, 184, 989, 245, 2540, 2637, 2520, 2540, 2496, 1410, 466, 1000, 2556, 1767, 1657, 2296, 2278, 840, 2019, 2345, 1983, 645, 2454, 908, 2194, 2291, 2864, 1606, 2875, 1249, 2957, 2248, 2071, 618, 64, 2205, 2569, 1540, 1422, 15, 460, 172, 1537, 1024, 795, 1111, 1122, 1964, 773, 1685, 1819, 678, 618, 2078, 395, 1895, 2321, 2381, 2291, 1211, 2527, 1634, 1089, 2882, 881, 2604, 1948, 2966, 2768, 2887, 2921, 2059, 1734, 2150, 323, 2439, 1166, 764, 2381, 1343, 2268, 2174, 2194, 751, 2971, 1873, 757, 1252, 1330, 875, 2164, 1373, 2697, 54, 2427, 1561, 2697, 2527, 947, 2393, 456, 1766, 2484, 1839, 2268, 44, 1914, 2971, 1522, 1571, 2875, 2586, 2194, 1234, 1245, 1220, 803, 395, 281, 1808, 1512, 573, 1111, 1174, 2354, 1682, 2887, 2256, 2119, 2935, 937, 1617, 608, 1462, 466, 32, 281, 2302, 2932, 553, 861, 2630, 2192, 371, 729, 32, 1718, 2372, 1936, 1100, 923, 1347, 1017, 1629, 196, 2387, 932, 1130, 1687, 1551, 2150, 2124, 1488, 2161, 898, 1865, 140, 1551, 123, 645, 1505, 713, 1122, 1795, 1373, 2647, 245, 2446, 2540, 1641, 1166, 2219, 495, 971, 2674, 101, 2024, 101, 1561, 2252, 1330, 814, 2822, 2655, 597, 2397, 2059, 2033, 2726, 2877, 2609, 2910, 597, 218, 645, 737, 1064, 330, 1104, 625, 1049, 214, 1884, 2252, 1054, 82, 2857, 840, 2605, 1762, 345, 314, 1540, 2284, 2623, 1062, 2345, 495, 2311, 195, 2393, 2628, 2890, 1725, 858, 1948, 2106, 1983, 2457, 1983, 2284, 2971, 642, 135, 2163, 189, 152, 672, 753, 1316, 1618, 1347, 2508, 1718, 142, 1459, 422, 1367, 701, 466, 1675, 323, 253, 1614, 1527, 1229, 2726, 566, 2094, 657, 1017, 861, 300, 248, 1954, 1696, 2822, 2884, 2946, 1267, 573, 2141, 2550, 307, 2090, 1797, 1854, 824, 1111, 2234, 2311, 1854, 2359, 2857, 679, 2848, 371, 1943]\n"
     ]
    }
   ],
   "source": [
    "#This is a B-Tree model\n",
    "#reference: https://www.jianshu.com/p/c625a009e488\n",
    "from random import shuffle\n",
    "import random\n",
    "import os\n",
    "import codecs\n",
    "import numpy as np\n",
    "import math\n",
    "from sklearn.model_selection import train_test_split\n",
    "from sklearn.metrics import mean_squared_error \n",
    "mse_BTree=0.0\n",
    "root_node = None\n",
    "trainkeys=[]\n",
    "trainres=[]\n",
    "devkeys=[]\n",
    "devres=[]\n",
    "testkeys=[]\n",
    "testres=[]\n",
    "class Logger(object):\n",
    "    @classmethod\n",
    "    def tree(cls, node, child_name, dsc, depth):\n",
    "        if depth == 0:\n",
    "            head = \"|   \" * depth\n",
    "            print(head + \"+--\" + dsc(node))\n",
    "            depth = depth + 1\n",
    "        for child in getattr(node, child_name):\n",
    "            head = \"|   \" * depth\n",
    "            print(head + \"+--\" + dsc(child))\n",
    "            cls.tree(child, child_name, dsc, depth + 1)\n",
    "class BKeyword(object):\n",
    "    def __init__(self, key, loc):\n",
    "        self.key = key\n",
    "        self.loc = loc\n",
    "class BNode(object):\n",
    "    def __init__(self,M):\n",
    "        self._parent: BNode = None\n",
    "        self.keywords = []\n",
    "        self.child_nodes = []\n",
    "        self.M=M\n",
    "    # set parent node\n",
    "    def set_parent(self, node):\n",
    "        self._parent = node\n",
    "        if node.get_parent() is None:\n",
    "            global root_node\n",
    "            root_node = node.get_parent()\n",
    "    # get parent node\n",
    "    def get_parent(self):\n",
    "        return self._parent\n",
    "    # add child node to right location\n",
    "    def insert_child_node(self, index, add_node):\n",
    "        add_node.set_parent(self)\n",
    "        self.child_nodes.insert(index, add_node)\n",
    "    # add child node\n",
    "    def append_child_node(self, add_node):\n",
    "        add_node.set_parent(self)\n",
    "        self.child_nodes.append(add_node)\n",
    "    # find right insertion location\n",
    "    def find_add_index(self, add_word):\n",
    "        if len(self.keywords) == 0:\n",
    "            return 0\n",
    "        index = 0\n",
    "        while True:\n",
    "            if index >= len(self.keywords):\n",
    "                break\n",
    "            key = self.keywords[index].key\n",
    "            if add_word.key < key:\n",
    "                break\n",
    "            index = index + 1\n",
    "        return index\n",
    "\t#find the location of given keyword\n",
    "    def find_loc(self,word):\n",
    "        if len(self.keywords) == 0:\n",
    "            return -1\n",
    "        index = 0\n",
    "        key=-1\n",
    "        while True:\n",
    "            if index >= len(self.keywords):\n",
    "                break\n",
    "            key = self.keywords[index].key\n",
    "            if word < key:\n",
    "                break\n",
    "            index = index + 1\n",
    "        if index==0:\n",
    "            index=1\n",
    "        index=index-1\n",
    "        #print(index)\n",
    "        if index+1>=len(self.keywords):\n",
    "            return int(self.keywords[index].loc)\n",
    "        if self.keywords[index].key==word or abs(int(word)-int(self.keywords[index].key))<abs(int(word)-int(self.keywords[index+1].key)):\n",
    "            return int(self.keywords[index].loc)\n",
    "        else:\n",
    "            return int(self.keywords[index+1].loc)\n",
    "    # insert data to right location (regardless of M)\n",
    "    def blind_add(self, word: BKeyword) -> int:\n",
    "        index = self.find_add_index(word)\n",
    "        self.keywords.insert(index, word)\n",
    "    def split(self):\n",
    "        # split node\n",
    "        parent, center_keyword, left_node, right_node = self.split_to_piece()\n",
    "        # add two new nodes as parent, build relationship\n",
    "        parent_add_index = parent.find_add_index(center_keyword)\n",
    "        parent.insert_child_node(parent_add_index, right_node)\n",
    "        parent.insert_child_node(parent_add_index, left_node)\n",
    "        # remove itself\n",
    "        if self in parent.child_nodes:\n",
    "            parent.child_nodes.remove(self)\n",
    "        parent.add_word(center_keyword, force=True)\n",
    "        # redefine root\n",
    "        root = self\n",
    "        while root.get_parent() is not None:\n",
    "            root = root.get_parent()\n",
    "        global root_node\n",
    "        root_node = root\n",
    "    def split_to_piece(self):\n",
    "        center_keyword = self.keywords[int((self.M-1)/2)]\n",
    "        if self.get_parent() is None:\n",
    "            self.set_parent(BNode(self.M))\n",
    "        left_node = BNode(self.M)\n",
    "        right_node = BNode(self.M)\n",
    "        for keyword in self.keywords:\n",
    "            if keyword.key < center_keyword.key:\n",
    "                left_node.keywords.append(keyword)\n",
    "            elif keyword.key > center_keyword.key:\n",
    "                right_node.keywords.append(keyword)\n",
    "        for i in range(len(self.child_nodes)):\n",
    "            if i <= int((len(self.child_nodes) - 1)/2):\n",
    "                left_node.append_child_node(self.child_nodes[i])\n",
    "            else:\n",
    "                right_node.append_child_node(self.child_nodes[i])\n",
    "        return self.get_parent(), center_keyword, left_node, right_node\n",
    "    def add_word(self, keyword, force=False):\n",
    "        if len(self.child_nodes) == 0 or force:\n",
    "            self.blind_add(keyword)\n",
    "            if len(self.keywords) == self.M:\n",
    "                self.split()\n",
    "        else:\n",
    "\n",
    "            index = self.find_add_index(keyword)\n",
    "            if index >= len(self.child_nodes):\n",
    "                index = index - 1\n",
    "            self.child_nodes[index].add_word(keyword)\n",
    "def B_Tree_Model():\n",
    "    root_node=BNode(4)\n",
    "    for i in range(0,len(trainkeys)):\n",
    "        keyword=BKeyword(trainkeys[i],trainres[i])\n",
    "        root_node.add_word(keyword)\n",
    "    devpre=[]\n",
    "    for i in range(0,len(devkeys)):\n",
    "        devpre.append(root_node.find_loc(devkeys[i]))\n",
    "    global mse_BTree\n",
    "    mse_BTree=mean_squared_error(devres,devpre)\n",
    "    print(\"log MSE: \",round(math.log(1+mse_BTree,2),3))\n",
    "    testpre=[]\n",
    "    for i in range(0,len(testkeys)):\n",
    "        testpre.append(root_node.find_loc(testkeys[i]))\n",
    "    print(testpre)\n",
    "    return\n",
    "if __name__ == '__main__':\n",
    "    f=codecs.open(os.path.join(current_path,\"data_train.csv\"), \"r\", \"utf-8\")\n",
    "    strlist=f.read().split(\"\\n\")\n",
    "    f.close()\n",
    "    trainkeys=[]\n",
    "    trainres=[]\n",
    "    for ele in strlist:\n",
    "        temp=ele.split(\",\")\n",
    "        if len(temp)!=2:\n",
    "            continue\n",
    "        trainkeys.append(int(temp[0]))\n",
    "        trainres.append(int(temp[1]))\n",
    "    f=codecs.open(os.path.join(current_path,\"data_dev.csv\"), \"r\", \"utf-8\")\n",
    "    strlist=f.read().split(\"\\n\")\n",
    "    f.close()\n",
    "    devkeys=[]\n",
    "    devres=[]\n",
    "    for ele in strlist:\n",
    "        temp=ele.split(\",\")\n",
    "        if len(temp)!=2:\n",
    "            continue\n",
    "        devkeys.append(int(temp[0]))\n",
    "        devres.append(int(temp[1]))\n",
    "    f=codecs.open(os.path.join(current_path,\"data_test.csv\"), \"r\", \"utf-8\")\n",
    "    strlist=f.read().split(\"\\n\")\n",
    "    f.close()\n",
    "    testkeys=[]\n",
    "    testres=[]\n",
    "    for ele in strlist:\n",
    "        temp=ele.split(\",\")\n",
    "        if len(temp)!=2:\n",
    "            continue\n",
    "        testkeys.append(int(temp[0]))\n",
    "        testres.append(int(temp[1]))\n",
    "    B_Tree_Model()"
   ]
  },
  {
   "cell_type": "markdown",
   "metadata": {},
   "source": [
    "Step 4: Build a Linear Regression Model"
   ]
  },
  {
   "cell_type": "code",
   "execution_count": 70,
   "metadata": {
    "scrolled": true
   },
   "outputs": [
    {
     "name": "stdout",
     "output_type": "stream",
     "text": [
      "log MSE:  7.192\n",
      "[2253, 2616, 1206, 1682, 1762, 28, 2306, 1879, 1052, 1969, 1, 2197, 1157, 984, 2506, 1855, 1171, 2796, 895, 15, 2189, 11, 2239, 2485, 1122, 478, 2042, 2801, 794, 1113, 120, 724, 817, 2955, 87, 2208, 2754, 896, 99, 2168, 696, 1048, 2392, 1241, 600, 2452, 867, 1934, 1084, 151, 79, 2161, 458, 1128, 1047, 2249, 2913, 744, 1049, 204, 974, 2949, 1965, 982, 1587, 1725, 2286, 1509, 1289, 839, 2627, 2123, 1921, 1153, 736, 138, 597, 1639, 2678, 1206, 1230, 2870, 1158, 1778, 2470, 1147, 689, 1306, 1919, 237, 1860, 1052, 1651, 1694, 1353, 1653, 2614, 2858, 1561, 2120, 2565, 2011, 1333, 938, 2850, 1401, 583, 1803, 2973, 621, 1922, 1300, 2854, 1341, 2738, 1278, 1042, 1162, 1402, 2496, 856, 2000, 325, 2286, 185, 600, 912, 586, 1944, 353, 1794, 2565, 2482, 517, 1242, 2876, 1684, 396, 103, 610, 2533, 2388, 2415, 2466, 2687, 1383, 2477, 687, 2819, 1997, 2177, 1334, 2311, 733, 436, 690, 2428, 2788, 154, 2421, 141, 2302, 2962, 2485, 947, 2382, 635, 904, 1567, 13, 1657, 1545, 2473, 2750, 638, 2581, 2329, 2217, 489, 2585, 2870, 2467, 858, 2560, 2199, 326, 2244, 115, 2219, 2451, 1279, 621, 1347, 943, 1961, 1270, 787, 1281, 1079, 1472, 2414, 1088, 592, 2192, 1368, 2750, 751, 2379, 2248, 2090, 491, 1732, 1122, 2838, 1898, 1625, 441, 587, 207, 770, 2937, 1968, 1300, 1176, 2435, 2735, 2804, 2041, 1889, 75, 719, 2712, 2360, 369, 1416, 1941, 1985, 2602, 1743, 1297, 1143, 419, 1092, 1077, 1528, 342, 2596, 1447, 1469, 2621, 192, 1747, 2671, 400, 2867, 858, 1333, 535, 1107, 12, 2465, 1174, 1808, 2282, 2850, 402, 2467, 254, 2208, 1669, 1104, 2823, 2657, 1259, 2046, 1740, 325, 1422, 805, 1419, 1048, 684, 130, 88, 974, 2077, 2430, 16, 1299, 1396, 940, 2938, 605, 1596, 426, 377, 768, 45, 2084, 2264, 1678, 885, 774, 2062, 421, 2633, 1090, 1732, 1224, 2335, 284, 450, 1816, 1317, 634, 404, 404, 1765, 1246, 916, 2419, 1112, 1132, 1083, 2725, 535, 424, 1271, 1428, 1557, 2500, 286, 1531, 204, 1315, 2504, 2007, 1876, 1684, 1062, 63, 146, 2230, 1585, 2914, 24, 2519, 1419, 1812, 2544, 2138, 2418, 800, 1028, 420, 861, 2106, 213, 585, 2683, 46, 1910, 1113, 816, 1566, 1269, 1282, 787, 1422, 305, 794, 2638, 164, 1380, 2103, 1085, 53, 2572, 658, 448, 850, 2559, 2092, 1718, 1983, 1594, 1971, 1897, 1265, 1292, 1398, 1105, 1284, 1847, 703, 543, 2570, 1498, 335, 2638, 706, 2694, 684, 2587, 7, 2590, 1483, 739, 946, 2664, 2225, 1337, 207, 2648, 2502, 1545, 2634, 2708, 2470, 141, 1451, 2675, 1918, 2937, 896, 2775, 1775, 1461, 1498, 1971, 1196, 1466, 735, 1996, 1091, 2738, 318, 1228, 1191, 819, 2357, 2425, 2533, 1473, 1108, 43, 1901, 12, 940, 897, 2183, 163, 2327, 1658, 283, 742, 928, 2298, 2963, 589, 91, 153, 1087, 837, 2583, 2108, 68, 1567, 1290, 1541, 1780, 2091, 2442, 905, 2197, 1134, 442, 2712, 2465, 2331, 1276, 2064, 2073, 2914, 2410, 2186, 1185, 1024, 1691, 1636, 2302, 2442, 513, 100, 450, 1776, 412, 1676, 834, 422, 1899, 2422, 1199, 1599, 1656, 2586, 1179, 1095, 463, 2856, 2533, 1349, 2674, 2450, 1353, 2643, 371, 405, 1124, 982, 1979, 2009, 1040, 2641, 1031, 1373, 2703, 832, 55, 2805, 854, 1268, 1305, 1694, 1498, 2953, 1925, 555, 1163, 408, 1944, 2065, 253, 1643, 2945, 2930, 2020, 960, 915, 2773, 1120, 1333, 2784, 1060, 1560, 1853, 17, 1111, 704, 833, 1452, 227, 244, 2312, 203, 2543, 1676, 1558, 469, 577, 912, 409, 910, 1328, 329, 1560, 1072, 944, 1571, 2007, 1209, 1588, 1384, 651, 1528, 420, 2964, 1801, 2333, 966, 2799, 2298, 1520, 590, 1359, 891, 2952, 488, 2188, 2508, 214, 318, 1133, 2564, 2784, 1691, 2363, 2569, 1178, 1346, 2896, 927, 401, 2909, 1967, 586, 1199, 2439, 53, 1369, 1536, 9, 1382, 2379, 2442, 1674, 2836, 2766, 936, 1609, 752, 1316, 1053, 409, 1550, 1011, 1198, 1147, 1219, 727, 1299, 1325, 2827, 352, 946, 2400, 171, 2755, 64, 1097, 1208, 1688, 1391, 2908, 17, 434, 1900, 936, 134, 2032, 866, 2020, 658, 2196, 2009, 951, 1073, 880, 1413, 2447, 892, 2458, 2013, 1583, 1120, 1228, 132, 2711, 799, 83, 1370, 2421, 1284, 1222, 1057, 1662, 2917, 2858, 943, 1979, 321, 2056, 2367, 1920, 1511, 1592, 719, 1597, 2079, 315, 2667, 2104, 2565, 2872, 2595, 437, 697, 2859, 2485, 70, 2038, 724, 1580, 2590, 930, 1392, 584, 568, 845, 46, 819, 594, 2374, 2530, 1539, 1246, 1915, 1850, 2955, 1682, 1178, 734, 534, 1495, 1141, 2324, 603, 2964, 1291, 1581, 983, 532, 206, 1727, 425, 2513, 366, 2279, 635, 2481, 676, 963, 157, 179, 996, 235, 2540, 2617, 2516, 2540, 2489, 1391, 460, 1016, 2550, 1755, 1649, 2318, 2298, 858, 2025, 2361, 1986, 665, 2456, 926, 2204, 2308, 2859, 1605, 2871, 1258, 2947, 2268, 2076, 633, 56, 2213, 2563, 1543, 1412, 7, 457, 160, 1541, 1041, 801, 1110, 1117, 1967, 787, 1670, 1798, 691, 631, 2081, 387, 1906, 2338, 2397, 2311, 1208, 2523, 1627, 1098, 2879, 904, 2585, 1954, 2954, 2762, 2882, 2914, 2064, 1720, 2164, 315, 2448, 1169, 774, 2394, 1332, 2285, 2186, 2205, 764, 2957, 1878, 769, 1260, 1327, 897, 2176, 1365, 2676, 31, 2442, 1559, 2676, 2524, 957, 2406, 450, 1753, 2485, 1820, 2287, 20, 1918, 2955, 1532, 1567, 2873, 2572, 2205, 1246, 1254, 1224, 819, 393, 263, 1784, 1519, 584, 1110, 1172, 2372, 1668, 2882, 2281, 2128, 2927, 954, 1616, 623, 1455, 459, 14, 268, 2326, 2919, 555, 885, 2613, 2197, 361, 736, 15, 1696, 2384, 1944, 1101, 945, 1336, 1033, 1625, 198, 2400, 950, 1132, 1674, 1550, 2162, 2134, 1486, 2171, 921, 1867, 129, 1550, 105, 668, 1512, 722, 1120, 1776, 1365, 2628, 238, 2450, 2537, 1634, 1165, 2223, 487, 983, 2648, 88, 2035, 87, 1564, 2276, 1328, 830, 2815, 2638, 602, 2411, 2065, 2048, 2710, 2876, 2591, 2906, 602, 214, 666, 745, 1081, 322, 1109, 641, 1064, 208, 1899, 2273, 1067, 75, 2854, 861, 2588, 1752, 334, 310, 1544, 2301, 2610, 1077, 2361, 487, 2330, 193, 2406, 2612, 2888, 1700, 881, 1957, 2112, 1991, 2465, 1991, 2304, 2958, 662, 120, 2173, 185, 137, 689, 768, 1309, 1619, 1338, 2506, 1698, 133, 1451, 415, 1356, 712, 463, 1659, 317, 242, 1614, 1534, 1238, 2716, 573, 2098, 676, 1032, 885, 291, 240, 1963, 1678, 2817, 2880, 2932, 1272, 580, 2149, 2544, 299, 2093, 1777, 1849, 838, 1114, 2249, 2326, 1857, 2381, 2855, 694, 2846, 358, 1946]\n"
     ]
    }
   ],
   "source": [
    "from sklearn.linear_model import LinearRegression\n",
    "reg = LinearRegression()\n",
    "reg.fit(np.array(trainkeys).reshape(-1,1),np.array(trainres).reshape(-1,1))\n",
    "devpre=reg.predict(np.array(devkeys).reshape(-1,1)).reshape(1,-1).tolist()[0]\n",
    "for i in range(0,len(devpre)):\n",
    "    devpre[i]=abs(int(devpre[i]))%keynum\n",
    "mse_LR=mean_squared_error(devres,devpre)\n",
    "print(\"log MSE: \",round(math.log(mse_LR,2),3))\n",
    "testpre=reg.predict(np.array(testkeys).reshape(-1,1)).reshape(1,-1).tolist()[0]\n",
    "for i in range(0,len(testpre)):\n",
    "    testpre[i]=abs(int(testpre[i]))%keynum\n",
    "print(testpre)"
   ]
  },
  {
   "cell_type": "markdown",
   "metadata": {},
   "source": [
    "Step 5: Build a SVR model"
   ]
  },
  {
   "cell_type": "code",
   "execution_count": null,
   "metadata": {},
   "outputs": [
    {
     "name": "stderr",
     "output_type": "stream",
     "text": [
      "/home/sxn/.local/lib/python3.6/site-packages/sklearn/utils/validation.py:760: DataConversionWarning: A column-vector y was passed when a 1d array was expected. Please change the shape of y to (n_samples, ), for example using ravel().\n",
      "  y = column_or_1d(y, warn=True)\n"
     ]
    },
    {
     "name": "stdout",
     "output_type": "stream",
     "text": [
      "hyper-parameters: {'kernel': 'linear', 'gamma': 0.0001, 'C': 1}\n",
      "log MSE:  7.415\n"
     ]
    },
    {
     "name": "stderr",
     "output_type": "stream",
     "text": [
      "/home/sxn/.local/lib/python3.6/site-packages/sklearn/utils/validation.py:760: DataConversionWarning: A column-vector y was passed when a 1d array was expected. Please change the shape of y to (n_samples, ), for example using ravel().\n",
      "  y = column_or_1d(y, warn=True)\n"
     ]
    },
    {
     "name": "stdout",
     "output_type": "stream",
     "text": [
      "hyper-parameters: {'kernel': 'linear', 'gamma': 0.0001, 'C': 2}\n",
      "log MSE:  7.419\n"
     ]
    },
    {
     "name": "stderr",
     "output_type": "stream",
     "text": [
      "/home/sxn/.local/lib/python3.6/site-packages/sklearn/utils/validation.py:760: DataConversionWarning: A column-vector y was passed when a 1d array was expected. Please change the shape of y to (n_samples, ), for example using ravel().\n",
      "  y = column_or_1d(y, warn=True)\n"
     ]
    }
   ],
   "source": [
    "from sklearn.svm import SVR\n",
    "clf=None\n",
    "#parameters = [{'kernel': ['rbf'], 'gamma': [1e-4, 1e-3, 0.01, 0.1, 0.2, 0.5, 0.6, 0.9],'C': [1, 10, 100, 1000, 10000]}]\n",
    "for kernel in ['linear', 'poly', 'rbf', 'sigmoid', 'precomputed']:\n",
    "    for gamma in [1e-4, 1e-3, 0.01, 0.1, 0.2, 0.3, 0.4, 0.5, 0.6, 0.7, 0.8, 0.9, 1.0]:\n",
    "        for C in [1, 3, 5, 10, 30, 50, 100, 300, 500, 1000, 3000, 5000, 10000, 30000, 50000]:\n",
    "            clf = SVR(kernel=kernel,gamma=gamma,C=C)\n",
    "            clf.fit(np.array(trainkeys).reshape(-1,1),np.array(trainres).reshape(-1,1))\n",
    "            devpre=clf.predict(np.array(devkeys).reshape(-1,1)).reshape(1,-1).tolist()[0]\n",
    "            for i in range(0,len(devpre)):\n",
    "                devpre[i]=abs(int(devpre[i]))%keynum\n",
    "            mse_SVR=mean_squared_error(devres,devpre)\n",
    "            print(\"hyper-parameters:\",{'kernel':kernel,'gamma':gamma,'C':C})\n",
    "            print(\"log MSE: \",round(math.log(mse_SVR,2),3))"
   ]
  },
  {
   "cell_type": "code",
   "execution_count": null,
   "metadata": {},
   "outputs": [],
   "source": []
  }
 ],
 "metadata": {
  "kernelspec": {
   "display_name": "Python 3",
   "language": "python",
   "name": "python3"
  },
  "language_info": {
   "codemirror_mode": {
    "name": "ipython",
    "version": 3
   },
   "file_extension": ".py",
   "mimetype": "text/x-python",
   "name": "python",
   "nbconvert_exporter": "python",
   "pygments_lexer": "ipython3",
   "version": "3.6.9"
  }
 },
 "nbformat": 4,
 "nbformat_minor": 4
}
